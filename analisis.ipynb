{
 "cells": [
  {
   "cell_type": "code",
   "execution_count": 1,
   "metadata": {
    "collapsed": true
   },
   "outputs": [],
   "source": [
    "#include <iostream>\n",
    "#include <string>\n",
    "#include <math.h>       /* cosh, log */\n",
    "using namespace std;"
   ]
  },
  {
   "cell_type": "code",
   "execution_count": 2,
   "metadata": {
    "collapsed": false
   },
   "outputs": [
    {
     "name": "stderr",
     "output_type": "stream",
     "text": [
      "Error in <TCling::RegisterModule>: cannot find dictionary module libClassesDict_rdict.pcm\n",
      "Error in <TCling::RegisterModule>: cannot find dictionary module libDisplayDict_rdict.pcm\n",
      "Error in <TCling::RegisterModule>: cannot find dictionary module libFastJetDict_rdict.pcm\n",
      "Error in <TCling::RegisterModule>: cannot find dictionary module libModulesDict_rdict.pcm\n",
      "Error in <TCling::RegisterModule>: cannot find dictionary module libExRootAnalysisDict_rdict.pcm\n"
     ]
    }
   ],
   "source": [
    "/*Cargo la librería de Delphes*/\n",
    "gSystem->Load(\"/home/camilo/Proyectos/Delphes/delphes/libDelphes.so\");"
   ]
  },
  {
   "cell_type": "code",
   "execution_count": 3,
   "metadata": {
    "collapsed": false
   },
   "outputs": [],
   "source": [
    "/*Instancio un objeto TChain*/\n",
    "TChain chain(\"Delphes\");"
   ]
  },
  {
   "cell_type": "code",
   "execution_count": 4,
   "metadata": {
    "collapsed": false
   },
   "outputs": [],
   "source": [
    "/*Creo las variables necesarias para el for*/\n",
    "std::string nom1=\"/Storage/scratch/camilo/Proyectos/MadGraph/Datos/Signal_prueba-2/Events/run_\";\n",
    "std::string nom2=\"/tag_1_delphes_events.root\";\n",
    "std::string num, out;"
   ]
  },
  {
   "cell_type": "code",
   "execution_count": 5,
   "metadata": {
    "collapsed": false
   },
   "outputs": [],
   "source": [
    "/*Llenado del chain con todos los runs*/\n",
    "for ( i=1; i<101; i=i+1 ) {\n",
    "   num = std::to_string(i);\n",
    "   if( i < 10 ) {\n",
    "       out= nom1+\"0\"+num+nom2;\n",
    "    }\n",
    "//convierto en cadena de caracteres constante (es lo que recibe la función)\n",
    "    const char * c = out.c_str();\n",
    "/*pego todos los datos*/\n",
    "    chain.Add(c);\n",
    "}"
   ]
  },
  {
   "cell_type": "code",
   "execution_count": 6,
   "metadata": {
    "collapsed": false
   },
   "outputs": [],
   "source": [
    "//Creo un objeto de treereader, que recive la dirección en memoria de\n",
    "//la cadena (TChain) como argumento\n",
    "ExRootTreeReader *treeReader = new ExRootTreeReader(&chain);"
   ]
  },
  {
   "cell_type": "code",
   "execution_count": 7,
   "metadata": {
    "collapsed": false
   },
   "outputs": [
    {
     "name": "stdout",
     "output_type": "stream",
     "text": [
      "(long long) 38803\n"
     ]
    }
   ],
   "source": [
    "/*Leo el numero de entradas*/\n",
    "Long64_t numberOfEntries = treeReader->GetEntries()"
   ]
  },
  {
   "cell_type": "code",
   "execution_count": 8,
   "metadata": {
    "collapsed": false
   },
   "outputs": [],
   "source": [
    "/*Obtengo las ramas que deseo*/\n",
    "TClonesArray *branchMuon = treeReader->UseBranch(\"Muon\");\n",
    "TClonesArray *branchMissingET = treeReader->UseBranch(\"MissingET\");\n",
    "TClonesArray *branchJet = treeReader->UseBranch(\"Jet\");"
   ]
  },
  {
   "cell_type": "code",
   "execution_count": 9,
   "metadata": {
    "collapsed": true
   },
   "outputs": [],
   "source": [
    "// Inicializo los histogramas\n",
    "TH1 *histJetPT = new TH1F(\"jet_pt\", \"jet P_{T}\", 100, 0.0, 100.0);\n",
    "TH1 *histMuon = new TH1F(\"mass\", \"M_{inv}(mu_{1}, mu_{2})\", 100, 40.0, 140.0);"
   ]
  },
  {
   "cell_type": "code",
   "execution_count": 10,
   "metadata": {
    "collapsed": false
   },
   "outputs": [],
   "source": [
    "// Inicializo los contadores\n",
    "Int_t cut1=0, cut2=0, cut3=0, cut4=0, cut5=0;"
   ]
  },
  {
   "cell_type": "code",
   "execution_count": 11,
   "metadata": {
    "collapsed": false
   },
   "outputs": [],
   "source": [
    "for(Int_t entry = 0; entry < numberOfEntries; ++entry)\n",
    "    {\n",
    "        // Se carga un evento espesifico para ser analizado\n",
    "        treeReader->ReadEntry(entry);\n",
    "\n",
    "        // Se hace el primer corte, se pide que tenga al menos dos jets\n",
    "        if(branchJet->GetEntries() > 1)\n",
    "        {\n",
    "            ++cut1; //Cuantos eventos pasan el corte 1\n",
    "            \n",
    "            Int_t count=0;\n",
    "\n",
    "            for (Int_t i=0; i<branchMuon->GetEntries(); ++i)\n",
    "            {\n",
    "                Jet* jet = (Jet*) branchJet->At(i);\n",
    "                if(jet->BTag>0)\n",
    "                {\n",
    "                    ++count;\n",
    "                }\n",
    "    \n",
    "            }\n",
    "\n",
    "            if( count>1 )\n",
    "            {\n",
    "                ++cut2; //Cuantos eventos pasan el corte 2\n",
    "                //Inicializo los obejos clase muon\n",
    "                Muon *muon1, *muon2;\n",
    "\n",
    "                // Para ser contados deben de tener al menos 2 muones\n",
    "                if(branchMuon->GetEntries() > 1)\n",
    "                {\n",
    "                    ++cut3; //Cuantos eventos pasan el corte 3\n",
    "                    // Take first two electrons, tomo solo dos porque estan organizados por PT\n",
    "                    muon1 = (Muon *) branchMuon->At(0);\n",
    "                    muon2 = (Muon *) branchMuon->At(1);\n",
    "                    //Si la carga es diferente\n",
    "                    int charge = muon1->Charge * muon2->Charge;\n",
    "                    if( charge < 0 )\n",
    "                    {\n",
    "                        ++cut4; //Cuantos eventos pasan el corte 4\n",
    "                \n",
    "                        double MassMuon=(muon1->P4()+muon2->P4()).M();\n",
    "                        if( !((MassMuon>80)&&(MassMuon<100)) )\n",
    "                        {\n",
    "                            ++cut5; //Cuantos eventos pasan el corte 4\n",
    "                     \n",
    "                            \n",
    "                            // Plot jet transverse momentum\n",
    "                            //histJetPT->Fill(jet->PT);\n",
    "                            // Plot their invariant mass\n",
    "                            //histMass->Fill(((elec1->P4()) + (elec2->P4())).M());\n",
    "               \n",
    "                        \n",
    "                        \n",
    "                        }\n",
    "                    }\n",
    "                }\n",
    "            }\n",
    "        }\n",
    "    }"
   ]
  },
  {
   "cell_type": "code",
   "execution_count": 12,
   "metadata": {
    "collapsed": false
   },
   "outputs": [
    {
     "name": "stdout",
     "output_type": "stream",
     "text": [
      "38803\n",
      "36581\n",
      "4079\n",
      "4079\n",
      "4079\n",
      "3775\n"
     ]
    }
   ],
   "source": [
    "cout<<numberOfEntries<<endl;\n",
    "cout<<cut1<<endl;\n",
    "cout<<cut2<<endl;\n",
    "cout<<cut3<<endl;\n",
    "cout<<cut4<<endl;\n",
    "cout<<cut5<<endl;"
   ]
  },
  {
   "cell_type": "code",
   "execution_count": null,
   "metadata": {
    "collapsed": true
   },
   "outputs": [],
   "source": [
    "38407\n",
    "36208\n",
    "7244\n",
    "4037\n",
    "4037\n",
    "4037"
   ]
  },
  {
   "cell_type": "code",
   "execution_count": null,
   "metadata": {
    "collapsed": false
   },
   "outputs": [],
   "source": [
    "treeReader->ReadEntry(0);"
   ]
  },
  {
   "cell_type": "code",
   "execution_count": null,
   "metadata": {
    "collapsed": false
   },
   "outputs": [],
   "source": [
    "branchJet->GetEntries()"
   ]
  },
  {
   "cell_type": "code",
   "execution_count": null,
   "metadata": {
    "collapsed": false
   },
   "outputs": [],
   "source": [
    "Jet* jet0 = (Jet*) branchJet->At(0);\n",
    "Jet* jet1 = (Jet*) branchJet->At(1);\n",
    "Jet* jet2 = (Jet*) branchJet->At(2);\n",
    "Jet* jet3 = (Jet*) branchJet->At(3);\n",
    "Jet* jet4 = (Jet*) branchJet->At(4);\n",
    "Jet* jet5 = (Jet*) branchJet->At(5);\n"
   ]
  },
  {
   "cell_type": "code",
   "execution_count": null,
   "metadata": {
    "collapsed": false
   },
   "outputs": [],
   "source": [
    "jet1->BTag"
   ]
  },
  {
   "cell_type": "code",
   "execution_count": null,
   "metadata": {
    "collapsed": false
   },
   "outputs": [],
   "source": [
    "Int_t count=0;\n",
    "\n",
    "for (Int_t i=0; i<branchMuon->GetEntries(); ++i)\n",
    "{\n",
    "    Jet* jet = (Jet*) branchJet->At(i);\n",
    "    if(jet->BTag>0)\n",
    "    {\n",
    "        ++count;\n",
    "    }\n",
    "    \n",
    "}\n",
    "cout<<count<<endl;"
   ]
  },
  {
   "cell_type": "code",
   "execution_count": null,
   "metadata": {
    "collapsed": false
   },
   "outputs": [],
   "source": [
    "muon1 = (Muon *) branchMuon->At(0);\n",
    "muon2 = (Muon *) branchMuon->At(1);\n"
   ]
  },
  {
   "cell_type": "code",
   "execution_count": null,
   "metadata": {
    "collapsed": false
   },
   "outputs": [],
   "source": [
    "muon2->P4().M()"
   ]
  },
  {
   "cell_type": "code",
   "execution_count": null,
   "metadata": {
    "collapsed": false
   },
   "outputs": [],
   "source": [
    "(muon1->P4()+muon2->P4()).M()"
   ]
  },
  {
   "cell_type": "code",
   "execution_count": null,
   "metadata": {
    "collapsed": true
   },
   "outputs": [],
   "source": [
    "double MassMuon;"
   ]
  },
  {
   "cell_type": "code",
   "execution_count": null,
   "metadata": {
    "collapsed": false
   },
   "outputs": [],
   "source": [
    "MassMuon=std::sqrt(2*(muon1->PT * muon2->PT)*(std::cosh(muon1->Eta-muon2->Eta)-std::cos(muon1->Phi-muon2->Phi)))"
   ]
  },
  {
   "cell_type": "code",
   "execution_count": null,
   "metadata": {
    "collapsed": false
   },
   "outputs": [],
   "source": [
    "\n",
    "Muon* muon;\n",
    "muon = (Muon *) branchMuon->At(0);\n",
    "//vectorOfMuons.push_back(muon)"
   ]
  },
  {
   "cell_type": "code",
   "execution_count": null,
   "metadata": {
    "collapsed": true
   },
   "outputs": [],
   "source": [
    "std::vector<Muon> vectorOfMuons;"
   ]
  },
  {
   "cell_type": "code",
   "execution_count": null,
   "metadata": {
    "collapsed": false
   },
   "outputs": [],
   "source": [
    "//Llenado de vector de muones del evento\n",
    "std::vector<Muon> vectorOfMuons;\n",
    "vectorOfMuons.reserve(branchMuon->GetEntries());\n",
    "for (int i=0; i<branchMuon->GetEntries(); ++i)\n",
    "{\n",
    "    Muon* muon;\n",
    "    muon = (Muon *) branchMuon->At(i);\n",
    "    vectorOfMuons.push_back(muon);\n",
    "}"
   ]
  },
  {
   "cell_type": "code",
   "execution_count": null,
   "metadata": {
    "collapsed": true
   },
   "outputs": [],
   "source": []
  }
 ],
 "metadata": {
  "kernelspec": {
   "display_name": "ROOT C++",
   "language": "c++",
   "name": "root"
  },
  "language_info": {
   "codemirror_mode": "text/x-c++src",
   "file_extension": ".C",
   "mimetype": " text/x-c++src",
   "name": "c++"
  }
 },
 "nbformat": 4,
 "nbformat_minor": 2
}
