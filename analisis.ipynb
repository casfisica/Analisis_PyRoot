{
 "cells": [
  {
   "cell_type": "code",
   "execution_count": 1,
   "metadata": {
    "collapsed": false
   },
   "outputs": [
    {
     "name": "stderr",
     "output_type": "stream",
     "text": [
      "Error in <TCling::RegisterModule>: cannot find dictionary module libClassesDict_rdict.pcm\n",
      "Error in <TCling::RegisterModule>: cannot find dictionary module libDisplayDict_rdict.pcm\n",
      "Error in <TCling::RegisterModule>: cannot find dictionary module libFastJetDict_rdict.pcm\n",
      "Error in <TCling::RegisterModule>: cannot find dictionary module libModulesDict_rdict.pcm\n",
      "Error in <TCling::RegisterModule>: cannot find dictionary module libExRootAnalysisDict_rdict.pcm\n"
     ]
    }
   ],
   "source": [
    "/*Cargo la librería de Delphes*/\n",
    "gSystem->Load(\"/home/camilo/Proyectos/Delphes/delphes/libDelphes.so\");"
   ]
  },
  {
   "cell_type": "code",
   "execution_count": 2,
   "metadata": {
    "collapsed": true
   },
   "outputs": [],
   "source": [
    "/*Instancio un objeto TChain*/\n",
    "TChain chain(\"Delphes\");"
   ]
  },
  {
   "cell_type": "code",
   "execution_count": 3,
   "metadata": {
    "collapsed": true
   },
   "outputs": [],
   "source": [
    "/*Creo las variables necesarias para el for*/\n",
    "std::string nom1=\"/Storage/scratch/camilo/Proyectos/MadGraph/Datos/Signal_prueba-2/Events/run_\";\n",
    "std::string nom2=\"/tag_1_delphes_events.root\";\n",
    "std::string num, out;"
   ]
  },
  {
   "cell_type": "code",
   "execution_count": 4,
   "metadata": {
    "collapsed": false
   },
   "outputs": [],
   "source": [
    "/*Llenado del chain con todos los runs*/\n",
    "for ( i=3; i<100; i=i+1 ) {\n",
    "   num = std::to_string(i);\n",
    "   if( i < 10 ) {\n",
    "       out= nom1+\"0\"+num+nom2;\n",
    "    }\n",
    "//convierto en cadena de caracteres constante (es lo que recibe la función)\n",
    "    const char * c = out.c_str();\n",
    "/*pego todos los datos*/\n",
    "    chain.Add(c);\n",
    "}"
   ]
  },
  {
   "cell_type": "code",
   "execution_count": 5,
   "metadata": {
    "collapsed": false
   },
   "outputs": [],
   "source": [
    "//Creo un objeto de treereader, que recive la dirección en memoria de\n",
    "//la cadena (TChain) como argumento\n",
    "ExRootTreeReader *treeReader = new ExRootTreeReader(&chain);"
   ]
  },
  {
   "cell_type": "code",
   "execution_count": 6,
   "metadata": {
    "collapsed": false
   },
   "outputs": [],
   "source": [
    "/*Leo el numero de entradas*/\n",
    "Long64_t numberOfEntries = treeReader->GetEntries();"
   ]
  },
  {
   "cell_type": "code",
   "execution_count": 7,
   "metadata": {
    "collapsed": false
   },
   "outputs": [],
   "source": [
    "/*Obtengo las ramas que deseo*/\n",
    "TClonesArray *branchMuon = treeReader->UseBranch(\"Muon\");\n",
    "TClonesArray *branchMissingET = treeReader->UseBranch(\"MissingET\");\n",
    "TClonesArray *branchJet = treeReader->UseBranch(\"Jet\");"
   ]
  },
  {
   "cell_type": "code",
   "execution_count": 8,
   "metadata": {
    "collapsed": true
   },
   "outputs": [],
   "source": [
    "// Inicializo los histogramas\n",
    "TH1 *histJetPT = new TH1F(\"jet_pt\", \"jet P_{T}\", 100, 0.0, 100.0);\n",
    "TH1 *histMuon = new TH1F(\"mass\", \"M_{inv}(mu_{1}, mu_{2})\", 100, 40.0, 140.0);"
   ]
  },
  {
   "cell_type": "code",
   "execution_count": null,
   "metadata": {
    "collapsed": true
   },
   "outputs": [],
   "source": [
    "Int_t cut1=0, cut2=0, cut3=0;\n",
    "\n",
    "for(Int_t entry = 0; entry < numberOfEntries; ++entry)\n",
    "  {\n",
    "    // Se carga un evento espesifico para ser analizado\n",
    "    treeReader->ReadEntry(entry);\n",
    "\n",
    "    // Se hace el primer corte, se pide que tenga al menos dos jets\n",
    "    if(branchJet->GetEntries() > 1)\n",
    "    {\n",
    "        ++cut1; //Cuantos eventos pasan el corte 1\n",
    "        // se toma el primer jet y se hace un cast a la clase Jet\n",
    "        Jet *jet = (Jet*) branchJet->At(0);\n",
    "\n",
    "        //Inicializo los obejos clase muon\n",
    "        Muon *muon1 *muon2;\n",
    "\n",
    "        // Para ser contados deben de tener al menos 2 muones\n",
    "        if(branchMuon->GetEntries() > 1)\n",
    "        {\n",
    "            ++cut2; //Cuantos eventos pasan el corte 2\n",
    "            // Take first two electrons, tomo solo dos porque estan organizados por PT\n",
    "            muon1 = (Muon *) branchMuon->At(0);\n",
    "            muon2 = (Muon *) branchMuon->At(1);\n",
    "            //Si la carga es diferente\n",
    "            int charge = muon1->Charge * muon2->Charge\n",
    "            if( charge < 0 )\n",
    "            {\n",
    "                 ++cut3; //Cuantos eventos pasan el corte 3\n",
    "                \n",
    "            \n",
    "                // Plot jet transverse momentum\n",
    "                histJetPT->Fill(jet->PT);\n",
    "\n",
    "                \n",
    "                // Plot their invariant mass\n",
    "                histMass->Fill(((elec1->P4()) + (elec2->P4())).M());\n",
    "            }\n",
    "        }\n",
    "    }\n",
    "  }"
   ]
  },
  {
   "cell_type": "code",
   "execution_count": 9,
   "metadata": {
    "collapsed": false
   },
   "outputs": [
    {
     "name": "stdout",
     "output_type": "stream",
     "text": [
      "(int) 2\n"
     ]
    }
   ],
   "source": [
    "treeReader->ReadEntry(0);\n",
    "branchMuon->GetEntries()"
   ]
  },
  {
   "cell_type": "code",
   "execution_count": 10,
   "metadata": {
    "collapsed": false
   },
   "outputs": [],
   "source": [
    "muon1 = (Muon *) branchMuon->At(0);\n",
    "muon2 = (Muon *) branchMuon->At(1);"
   ]
  },
  {
   "cell_type": "code",
   "execution_count": 13,
   "metadata": {
    "collapsed": false
   },
   "outputs": [
    {
     "name": "stderr",
     "output_type": "stream",
     "text": [
      "input_line_88:2:6: error: redefinition of 'charge'\n",
      " int charge = muon0->Charge * muon1->Charge\n",
      "     ^\n",
      "input_line_86:2:6: note: previous definition is here\n",
      " int charge = muon1->Charge * muon1->Charge\n",
      "     ^\n"
     ]
    }
   ],
   "source": [
    "int charge = muon0->Charge * muon1->Charge"
   ]
  },
  {
   "cell_type": "code",
   "execution_count": 15,
   "metadata": {
    "collapsed": false
   },
   "outputs": [
    {
     "name": "stdout",
     "output_type": "stream",
     "text": [
      "(int) -1\n"
     ]
    }
   ],
   "source": [
    "charge = muon1->Charge * muon2->Charge"
   ]
  },
  {
   "cell_type": "code",
   "execution_count": null,
   "metadata": {
    "collapsed": false
   },
   "outputs": [],
   "source": []
  },
  {
   "cell_type": "code",
   "execution_count": null,
   "metadata": {
    "collapsed": false
   },
   "outputs": [],
   "source": []
  },
  {
   "cell_type": "code",
   "execution_count": null,
   "metadata": {
    "collapsed": false
   },
   "outputs": [],
   "source": []
  },
  {
   "cell_type": "code",
   "execution_count": null,
   "metadata": {
    "collapsed": false
   },
   "outputs": [],
   "source": [
    "\n",
    "Muon* muon;\n",
    "muon = (Muon *) branchMuon->At(0);\n",
    "//vectorOfMuons.push_back(muon)"
   ]
  },
  {
   "cell_type": "code",
   "execution_count": null,
   "metadata": {
    "collapsed": true
   },
   "outputs": [],
   "source": [
    "std::vector<Muon> vectorOfMuons;"
   ]
  },
  {
   "cell_type": "code",
   "execution_count": null,
   "metadata": {
    "collapsed": false
   },
   "outputs": [],
   "source": [
    "//Llenado de vector de muones del evento\n",
    "std::vector<Muon> vectorOfMuons;\n",
    "vectorOfMuons.reserve(branchMuon->GetEntries());\n",
    "for (int i=0; i<branchMuon->GetEntries(); ++i)\n",
    "{\n",
    "    Muon* muon;\n",
    "    muon = (Muon *) branchMuon->At(i);\n",
    "    vectorOfMuons.push_back(muon);\n",
    "}"
   ]
  },
  {
   "cell_type": "code",
   "execution_count": null,
   "metadata": {
    "collapsed": true
   },
   "outputs": [],
   "source": []
  }
 ],
 "metadata": {
  "kernelspec": {
   "display_name": "ROOT C++",
   "language": "c++",
   "name": "root"
  },
  "language_info": {
   "codemirror_mode": "text/x-c++src",
   "file_extension": ".C",
   "mimetype": " text/x-c++src",
   "name": "c++"
  }
 },
 "nbformat": 4,
 "nbformat_minor": 2
}
