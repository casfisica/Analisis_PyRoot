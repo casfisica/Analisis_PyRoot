{
 "cells": [
  {
   "cell_type": "markdown",
   "metadata": {},
   "source": [
    "# Tutorial de Root 6"
   ]
  },
  {
   "cell_type": "markdown",
   "metadata": {},
   "source": [
    "## Tree"
   ]
  },
  {
   "cell_type": "markdown",
   "metadata": {},
   "source": [
    "Carreta sobre los Trees"
   ]
  },
  {
   "cell_type": "code",
   "execution_count": 2,
   "metadata": {
    "collapsed": true
   },
   "outputs": [],
   "source": [
    "#include <stdio.h>"
   ]
  },
  {
   "cell_type": "code",
   "execution_count": null,
   "metadata": {
    "collapsed": true
   },
   "outputs": [],
   "source": [
    "%jsroot on //Para que las graficas se vean inline"
   ]
  },
  {
   "cell_type": "code",
   "execution_count": null,
   "metadata": {
    "collapsed": true
   },
   "outputs": [],
   "source": [
    "gROOT->Reset();"
   ]
  },
  {
   "cell_type": "code",
   "execution_count": null,
   "metadata": {
    "collapsed": false
   },
   "outputs": [],
   "source": [
    "/* the structure to hold the variables for the branch */\n",
    "struct staff_t {\n",
    "    Int_t cat;\n",
    "    Int_t division;\n",
    "    Int_t flag;\n",
    "    Int_t age;\n",
    "    Int_t service;\n",
    "    Int_t children;\n",
    "    Int_t grade;\n",
    "    Int_t step;\n",
    "    Int_t nation;\n",
    "    Int_t hrweek;\n",
    "    Int_t cost;\n",
    "    };\n",
    "/* Se declara un objeto staff_t llamado staf */\n",
    "staff_t staff;"
   ]
  },
  {
   "cell_type": "code",
   "execution_count": null,
   "metadata": {
    "collapsed": true
   },
   "outputs": [],
   "source": [
    "/* Abrir el archivo que está en el path dado, en modo escritura.*/\n",
    "FILE *fp = fopen(\"/home/camilo/Proyectos/Root/root/compile/tutorials/tree/cernstaff.dat\",\"r\"); \n",
    "/* El archivo tiene el formato: \"202    15    58    28     0    10    13     40      11975   PS  DE\" */\n",
    "char line[81]; //Se declara una variable tipo cadena de caracteres de 81 espacios(se sabe que se va a leer)"
   ]
  },
  {
   "cell_type": "code",
   "execution_count": null,
   "metadata": {
    "collapsed": false
   },
   "outputs": [],
   "source": [
    "/* Se crea un nuevo archivo tipo root, en la carpeta donde se ejecute el Notebook, o script (Ejemplos) */\n",
    "TFile *f = new TFile(\"staff.root\",\"RECREATE\");\n",
    "/* Se crea un nuevo tree, donde el primer argumento \"T\" es el nombre, y el segundo es el titulo */\n",
    "TTree *tree = new TTree(\"T\",\"staff data from ascii file\");\n",
    "/* se crea una nueva rama con toda la información de la estructura, donde el primer argumento es el nombre de la rama\n",
    "el segundo es la dirección de memoria de donde va a tomar el primer item de la lista (en este caso la dirección de memoria\n",
    "del atributo cat de la estructura staff) y la tercera es la lista de hojas (nombres) separadas por dos puntos (:) */\n",
    "tree->Branch(\"staff\",&staff.cat,\"cat/I:division:flag:age:service:children:grade:step:nation:hrweek:cost\");"
   ]
  },
  {
   "cell_type": "code",
   "execution_count": null,
   "metadata": {
    "collapsed": false
   },
   "outputs": [],
   "source": [
    "/* El llenado del tree se hace por medio de un ciclo while */\n",
    "/* fgets lee de a 80 espacios a la vez del archivo cuyo puntero es fp, y los guarda en line, y devuelve un null\n",
    "llega al final del archivo */\n",
    "/* sscanf lee entradas con formato, desde cadenas de caracter, en este caso desde line lee \n",
    "con el formato %d%d%d*/\n",
    "while (fgets(line,80,fp)) {\n",
    "    sscanf(&line[0],\"%d%d%d%d\",&staff.cat,&staff.division,&staff.flag,&staff.age); //Lee desde la columna 0\n",
    "    sscanf(&line[13],\"%d%d%d%d\",&staff.service,&staff.children,&staff.grade,&staff.step); //Lee desde la columna 13\n",
    "    sscanf(&line[24],\"%d%d%d\",&staff.nation,&staff.hrweek,&staff.cost); //Lee desde la columna 24\n",
    "/* El método Fill de TTree, toma todo lo que se ha puesto en la dirección de memoria que se le pasó al tree (&staff)\n",
    "y lo guarda (commit) en la rama, como una hoja, la función retorna el numero de bytes que se enviaron */    \n",
    "    tree->Fill();\n",
    "}"
   ]
  },
  {
   "cell_type": "code",
   "execution_count": null,
   "metadata": {
    "collapsed": true
   },
   "outputs": [],
   "source": [
    "/*// Tambien se puede hacer todo de una vez, solo que por estética y legibilidad del código se hace de la forma anterior\n",
    "while (fgets(line,80,fp)) {\n",
    "    sscanf(&line[0],\"%d%d%d%d%d%d%d%d%d%d%d\",&staff.cat,&staff.division,&staff.flag,&staff.age,&staff.service,&staff.children,&staff.grade,&staff.step,&staff.nation,&staff.hrweek,&staff.cost);\n",
    "    tree->Fill();\n",
    "}\n",
    "*/"
   ]
  },
  {
   "cell_type": "code",
   "execution_count": null,
   "metadata": {
    "collapsed": false
   },
   "outputs": [],
   "source": [
    "/* Se muestra como se ve el arbol (tree) y escrivo el archivo en disco */\n",
    "tree->Print();\n",
    "fclose(fp);\n",
    "f->Write();"
   ]
  },
  {
   "cell_type": "markdown",
   "metadata": {},
   "source": [
    "\n",
    "### Cargando y usando un archivo .root (TTree)"
   ]
  },
  {
   "cell_type": "code",
   "execution_count": null,
   "metadata": {
    "collapsed": false
   },
   "outputs": [],
   "source": [
    "/* Carga staff.root y lo asigno a la variable w*/\n",
    "TFile w(\"staff.root\")"
   ]
  },
  {
   "cell_type": "code",
   "execution_count": null,
   "metadata": {
    "collapsed": false
   },
   "outputs": [],
   "source": [
    "/*Para ver una hoja (leave) del tree, se puede usar el atributo Show(#_entrada)*/\n",
    "T->Show(110) //Recordando que el tree que se guardo en \"staff.root\" se llama \"T\""
   ]
  },
  {
   "cell_type": "code",
   "execution_count": null,
   "metadata": {
    "collapsed": false
   },
   "outputs": [],
   "source": [
    "/* Se puede buscar si hay una variable espesífica en el TTree, con la función (atributo) Scan */\n",
    "T->Scan(\"division:flag:age:service\") //Recordando que el tree que se guardo en \"staff.root\" se llama \"T\""
   ]
  },
  {
   "cell_type": "code",
   "execution_count": null,
   "metadata": {
    "collapsed": true
   },
   "outputs": [],
   "source": [
    "gROOT->Reset(); //Para borrar el buffer"
   ]
  },
  {
   "cell_type": "markdown",
   "metadata": {},
   "source": [
    "### Branches"
   ]
  },
  {
   "cell_type": "markdown",
   "metadata": {},
   "source": [
    "Los branches o ramas, permiten optimizar los datos para su uso. Si se sabe que dos variables son independientes es buena idea, almacenanrlas en diferentes branches, pero si dichas variables están relacionadas, o se cree que se van a usar de manera simultanea, entonces se recomienda que se almacenen en hojas de la misma rama.\n",
    "Existen diferentes tipos de branches dados por que se almacena en ellos.  Una rama puede almacenar un objeto, una lista de variables, el contenido de un folder, o un arreglo de Objetos."
   ]
  },
  {
   "cell_type": "code",
   "execution_count": null,
   "metadata": {
    "collapsed": true
   },
   "outputs": [],
   "source": [
    "/* Se usarán los datos de \"http://exoplanets.org/table\", que estan en el archivo exoplanetas.csv, con el formato:\n",
    "\n",
    "NAME,MSINI,A,PER,ECC,OM,T0,K,ORBREF,ORBURL,FIRSTREF,FIRSTURL\n",
    "\n",
    "NAME: Nombre del planeta\n",
    "MSINI: Masa mínima del planeta (masas de Jupiter)\n",
    "A: Semi eje mayor (UA)\n",
    "PER: periodo (Años)\n",
    "ECC: Excentricidad\n",
    "OM: Periastro\n",
    "T0: Tiempo del periastro\n",
    "K: Velocidad de semiamplitud\n",
    "ORBREF: Referencia1\n",
    "ORBURL: URL de la referencia\n",
    "FIRSTREF: Primera referencia\n",
    "FIRSTURL: URL de la primera referencia */"
   ]
  },
  {
   "cell_type": "code",
   "execution_count": 6,
   "metadata": {
    "collapsed": false
   },
   "outputs": [
    {
     "name": "stderr",
     "output_type": "stream",
     "text": [
      "input_line_40:5:10: error: redefinition of 'infile'\n",
      "ifstream infile(\"/scratch/cms/Analisis_PyRoot/Ejemplos/exoplanetas.csv\"); \n",
      "         ^\n",
      "input_line_33:5:10: note: previous definition is here\n",
      "ifstream infile(\"/scratch/cms/Analisis_PyRoot/Ejemplos/exoplanetas.csv\"); \n",
      "         ^\n"
     ]
    }
   ],
   "source": [
    "#include <string> //Para usar string class\n",
    "#include <fstream>\n",
    "/* Abrir el archivo que está en el path dado, en modo escritura.*/\n",
    "ifstream infile(\"/scratch/cms/Analisis_PyRoot/Ejemplos/exoplanetas.csv\"); \n",
    "/* El archivo tiene el formato: \"202    15    58    28     0    10    13     40      11975   PS  DE\" */\n",
    "string line1; //Se declara una variable tipo string"
   ]
  },
  {
   "cell_type": "code",
   "execution_count": 7,
   "metadata": {
    "collapsed": false
   },
   "outputs": [],
   "source": [
    "/* En este caso se nesecita mas de una estructura */\n",
    "struct planet_info \n",
    "{\n",
    "    string NAME;\n",
    "    float MSINI;\n",
    "    float A;\n",
    "    float PER;\n",
    "    float ECC;\n",
    "    float OM;\n",
    "    float T0;\n",
    "    float K;\n",
    "};\n",
    "\n",
    "struct planet_ref\n",
    "{\n",
    "    string ORBREF;\n",
    "    string ORBURL;\n",
    "    string FIRSTREF;\n",
    "    string FIRSTURL;\n",
    "};\n",
    "/* Se declara una estructura de cada tipo */\n",
    "planet_info info;\n",
    "planet_ref ref;\n"
   ]
  },
  {
   "cell_type": "code",
   "execution_count": null,
   "metadata": {
    "collapsed": true
   },
   "outputs": [],
   "source": []
  },
  {
   "cell_type": "code",
   "execution_count": null,
   "metadata": {
    "collapsed": true
   },
   "outputs": [],
   "source": [
    "// De manera análoga a una anterior\n",
    "while (getline(infile, line)) \n",
    "{\n",
    "        tree->Fill();\n",
    "}"
   ]
  }
 ],
 "metadata": {
  "kernelspec": {
   "display_name": "ROOT C++",
   "language": "c++",
   "name": "root"
  },
  "language_info": {
   "codemirror_mode": "text/x-c++src",
   "file_extension": ".C",
   "mimetype": " text/x-c++src",
   "name": "c++"
  }
 },
 "nbformat": 4,
 "nbformat_minor": 2
}
