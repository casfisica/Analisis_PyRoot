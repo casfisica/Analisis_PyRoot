{
 "cells": [
  {
   "cell_type": "markdown",
   "metadata": {},
   "source": [
    "# Tutorial de Root 6"
   ]
  },
  {
   "cell_type": "markdown",
   "metadata": {},
   "source": [
    "## Tree"
   ]
  },
  {
   "cell_type": "code",
   "execution_count": 8,
   "metadata": {
    "collapsed": true
   },
   "outputs": [],
   "source": [
    "#include <stdio.h>"
   ]
  },
  {
   "cell_type": "code",
   "execution_count": 2,
   "metadata": {
    "collapsed": true
   },
   "outputs": [],
   "source": [
    "gROOT->Reset();"
   ]
  },
  {
   "cell_type": "code",
   "execution_count": 3,
   "metadata": {
    "collapsed": false
   },
   "outputs": [],
   "source": [
    "/* the structure to hold the variables for the branch */\n",
    "struct staff_t {\n",
    "    Int_t cat;\n",
    "    Int_t division;\n",
    "    Int_t flag;\n",
    "    Int_t age;\n",
    "    Int_t service;\n",
    "    Int_t children;\n",
    "    Int_t grade;\n",
    "    Int_t step;\n",
    "    Int_t nation;\n",
    "    Int_t hrweek;\n",
    "    Int_t cost;\n",
    "    };\n",
    "/* Se declara un objeto staff_t llamado staf */\n",
    "staff_t staff;"
   ]
  },
  {
   "cell_type": "code",
   "execution_count": 4,
   "metadata": {
    "collapsed": true
   },
   "outputs": [],
   "source": [
    "/* Abrir el archivo que está en el path dado, en modo escritura.*/\n",
    "FILE *fp = fopen(\"/home/camilo/Proyectos/Root/root/compile/tutorials/tree/cernstaff.dat\",\"r\"); \n",
    "/* El archivo tiene el formato: \"202    15    58    28     0    10    13     40      11975   PS  DE\" */\n",
    "char line[81]; //Se declara una variable tipo cadena de caracteres de 81 espacios(se sabe que se va a leer)"
   ]
  },
  {
   "cell_type": "code",
   "execution_count": 5,
   "metadata": {
    "collapsed": false
   },
   "outputs": [],
   "source": [
    "/* Se crea un nuevo archivo tipo root, en la carpeta donde se ejecute el Notebook, o script (Ejemplos) */\n",
    "TFile *f = new TFile(\"staff.root\",\"RECREATE\");\n",
    "/* Se crea un nuevo tree, donde el primer argumento \"T\" es el nombre, y el segundo es el titulo */\n",
    "TTree *tree = new TTree(\"T\",\"staff data from ascii file\");\n",
    "/* se crea una nueva rama con toda la información de la estructura, donde el primer argumento es el nombre de la rama\n",
    "el segundo es la dirección de memoria de donde va a tomar el primer item de la lista (en este caso la dirección de memoria\n",
    "del atributo cat de la estructura staff) y la tercera es la lista de hojas (nombres) separadas por dos puntos (:) */\n",
    "tree->Branch(\"staff\",&staff.cat,\"cat/I:division:flag:age:service:children:grade:step:nation:hrweek:cost\");"
   ]
  },
  {
   "cell_type": "code",
   "execution_count": 12,
   "metadata": {
    "collapsed": false
   },
   "outputs": [],
   "source": [
    "/* El llenado del tree se hace por medio de un ciclo while */\n",
    "/* fgets lee de a 80 espacios a la vez del archivo cuyo puntero es fp, y los guarda en line, y devuelve un null\n",
    "llega al final del archivo */\n",
    "/* sscanf lee entradas con formato, desde cadenas de caracter, en este caso desde line lee \n",
    "con el formato %d%d%d*/\n",
    "while (fgets(line,80,fp)) {\n",
    "    sscanf(&line[0],\"%d%d%d%d\",&staff.cat,&staff.division,&staff.flag,&staff.age); //Lee desde la columna 0\n",
    "    sscanf(&line[13],\"%d%d%d%d\",&staff.service,&staff.children,&staff.grade,&staff.step); //Lee desde la columna 13\n",
    "    sscanf(&line[24],\"%d%d%d\",&staff.nation,&staff.hrweek,&staff.cost); //Lee desde la columna 24\n",
    "/* El método Fill de TTree, toma todo lo que se ha puesto en la dirección de memoria que se le pasó al tree (&staff)\n",
    "y lo guarda (commit) en la rama, como una hoja, la función retorna el numero de bytes que se enviaron */    \n",
    "    tree->Fill();\n",
    "}"
   ]
  },
  {
   "cell_type": "code",
   "execution_count": null,
   "metadata": {
    "collapsed": true
   },
   "outputs": [],
   "source": [
    "/*// Tambien se puede hacer todo de una vez, solo que por estética y legibilidad del código se hace de la forma anterior\n",
    "while (fgets(line,80,fp)) {\n",
    "    sscanf(&line[0],\"%d%d%d%d%d%d%d%d%d%d%d\",&staff.cat,&staff.division,&staff.flag,&staff.age,&staff.service,&staff.children,&staff.grade,&staff.step,&staff.nation,&staff.hrweek,&staff.cost);\n",
    "    tree->Fill();\n",
    "}\n",
    "*/"
   ]
  },
  {
   "cell_type": "code",
   "execution_count": 14,
   "metadata": {
    "collapsed": false
   },
   "outputs": [
    {
     "name": "stdout",
     "output_type": "stream",
     "text": [
      "******************************************************************************\n",
      "*Tree    :T         : staff data from ascii file                             *\n",
      "*Entries :     3353 : Total =          149604 bytes  File  Size =      32768 *\n",
      "*        :          : Tree compression factor =   3.90                       *\n",
      "******************************************************************************\n",
      "*Br    0 :staff     : cat/I:division:flag:age:service:children:grade:step:   *\n",
      "*         | nation:hrweek:cost                                               *\n",
      "*Entries :     3353 : Total  Size=     149261 bytes  File Size  =      32768 *\n",
      "*Baskets :        4 : Basket Size=      32000 bytes  Compression=   3.90     *\n",
      "*............................................................................*\n"
     ]
    }
   ],
   "source": [
    "/* Se muestra como se ve el arbol (tree) y escrivo el archivo en disco */\n",
    "tree->Print();\n",
    "fclose(fp);\n",
    "f->Write();"
   ]
  },
  {
   "cell_type": "code",
   "execution_count": null,
   "metadata": {
    "collapsed": true
   },
   "outputs": [],
   "source": []
  }
 ],
 "metadata": {
  "kernelspec": {
   "display_name": "ROOT C++",
   "language": "c++",
   "name": "root"
  },
  "language_info": {
   "codemirror_mode": "text/x-c++src",
   "file_extension": ".C",
   "mimetype": " text/x-c++src",
   "name": "c++"
  }
 },
 "nbformat": 4,
 "nbformat_minor": 2
}
