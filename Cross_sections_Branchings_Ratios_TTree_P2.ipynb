{
 "cells": [
  {
   "cell_type": "markdown",
   "metadata": {},
   "source": [
    "# Cross Sections and Branchings Ratios using TTree"
   ]
  },
  {
   "cell_type": "code",
   "execution_count": 1,
   "metadata": {
    "collapsed": true
   },
   "outputs": [],
   "source": [
    "%matplotlib inline\n",
    "#%matplotlib notebook\n",
    "#%matplotlib nbagg"
   ]
  },
  {
   "cell_type": "markdown",
   "metadata": {},
   "source": [
    "## Libraries"
   ]
  },
  {
   "cell_type": "code",
   "execution_count": 2,
   "metadata": {},
   "outputs": [],
   "source": [
    "import ROOT #ROOT\n",
    "from tabulate import tabulate #Para hacer tablas\n",
    "from IPython.display import HTML #Para visualizar html\n",
    "ROOT.gROOT.Reset()\n",
    "#ROOT.enableJSVis() #ROOT 6 only"
   ]
  },
  {
   "cell_type": "code",
   "execution_count": 3,
   "metadata": {
    "collapsed": true
   },
   "outputs": [],
   "source": [
    "from ROOT import TFile, TTree\n",
    "from ROOT import gROOT, AddressOf"
   ]
  },
  {
   "cell_type": "code",
   "execution_count": 4,
   "metadata": {},
   "outputs": [],
   "source": [
    "#Ejecuta una linea de C++, genero la estructura de los branches\n",
    "ROOT.gROOT.ProcessLine(\n",
    "\"struct  SPData{\\\n",
    "   Double_t     sValue      ; \\\n",
    "   Double_t     sStat       ; \\\n",
    "   Double_t     sSys        ; \\\n",
    "   Double_t     sTheo       ; \\\n",
    "   Double_t     sLumi       ; \\\n",
    "   Char_t       sName[20]   ; \\\n",
    "   Char_t       sSource[500]; \\\n",
    "};\" );\n",
    " \n",
    "#from ROOT import MyStruct\n",
    "#La estructura que acabo de crear la llamo\n",
    "Datos = ROOT.SPData()"
   ]
  },
  {
   "cell_type": "code",
   "execution_count": 6,
   "metadata": {},
   "outputs": [
    {
     "data": {
      "text/plain": [
       "<ROOT.TBranch object (\"Source\") at 0x5566687ad2b0>"
      ]
     },
     "execution_count": 6,
     "metadata": {},
     "output_type": "execute_result"
    }
   ],
   "source": [
    "# Creo o abro el archivo donde tengo o guardo la info\n",
    "f = ROOT.TFile( 'datatree.root', 'RECREATE' )     \n",
    "# Creo el arbol llamado 'T', con la descrippción: 'Experimental Data TTree'\n",
    "tree = ROOT.TTree( 'T', 'Experimental Data TTree' )   \n",
    "# Genero un rama llamada 'Values' desde la dirección de la estructura 'Datos', y toma como hojas los\n",
    "# primeros elementos de la estructura: 'Value:Stat:Sys:Theo:Lumi'\n",
    "tree.Branch( 'Values', Datos, 'Value:Stat:Sys:Theo:Lumi' ) \n",
    "#Para la segunda rama toma los datos desde la direccion de memoria de 'sNames'\n",
    "tree.Branch( 'Name', ROOT.AddressOf( Datos, 'sName' ), 'Name/C' )\n",
    "tree.Branch( 'Source', ROOT.AddressOf( Datos, 'sSource' ), 'Source/C' )"
   ]
  },
  {
   "cell_type": "code",
   "execution_count": 8,
   "metadata": {},
   "outputs": [
    {
     "data": {
      "text/plain": [
       "129"
      ]
     },
     "execution_count": 8,
     "metadata": {},
     "output_type": "execute_result"
    }
   ],
   "source": [
    "#Llenado del arbol\n",
    "Datos.sName='Sig_WW_13TeV';\n",
    "Datos.sValue=142.0;\n",
    "Datos.sStat=5.0;\n",
    "Datos.sSys=13.0;\n",
    "Datos.sTheo=0;\n",
    "Datos.sLumi=3.2;\n",
    "Datos.sSource='https://atlas.web.cern.ch/Atlas/GROUPS/PHYSICS/CombinedSummaryPlots/SM/ATLAS_c_SMSummary_TotalXsect_rotated/ATLAS_c_SMSummary_TotalXsect_rotated.pdf';\n",
    "\n",
    "tree.Fill() #Aqui se hace el flush al arbol.\n",
    " \n",
    "Datos.sName='Sig_tW_13TeV';\n",
    "Datos.sValue=94.0;\n",
    "Datos.sStat=10.0;\n",
    "Datos.sSys=28.0;\n",
    "Datos.sTheo=0;\n",
    "Datos.sLumi=3.2;\n",
    "Datos.sSource='https://atlas.web.cern.ch/Atlas/GROUPS/PHYSICS/CombinedSummaryPlots/SM/ATLAS_c_SMSummary_TotalXsect_rotated/ATLAS_c_SMSummary_TotalXsect_rotated.pdf';\n",
    "\n",
    "tree.Fill() #Aqui se hace el flush al arbol.\n",
    "\n",
    "Datos.sName='Sig_DY_13TeV';\n",
    "Datos.sValue=1170.0;\n",
    "Datos.sStat=60.0;\n",
    "Datos.sSys=0.0;\n",
    "Datos.sTheo=0.0;\n",
    "Datos.sLumi=0;\n",
    "Datos.sSource='https://arxiv.org/pdf/1407.3643.pdf, pag 11';\n",
    "\n",
    "tree.Fill() #Aqui se hace el flush al arbol.\n",
    "\n",
    "Datos.sName='Sig_tt_13TeV';\n",
    "Datos.sValue=835.0;\n",
    "Datos.sStat=25.0;\n",
    "Datos.sSys=118.0;\n",
    "Datos.sTheo=0.0;\n",
    "Datos.sLumi=23.0;\n",
    "Datos.sSource='https://twiki.cern.ch/twiki/pub/CMSPublic/PhysicsResultsTOPSummaryFigures/Top_Summary_13TeV.pdf';\n",
    "\n",
    "tree.Fill() #Aqui se hace el flush al arbol."
   ]
  },
  {
   "cell_type": "code",
   "execution_count": 9,
   "metadata": {},
   "outputs": [
    {
     "data": {
      "text/plain": [
       "4L"
      ]
     },
     "execution_count": 9,
     "metadata": {},
     "output_type": "execute_result"
    }
   ],
   "source": [
    "tree.GetEntries()"
   ]
  },
  {
   "cell_type": "code",
   "execution_count": 10,
   "metadata": {
    "collapsed": true
   },
   "outputs": [],
   "source": [
    "#Se escribe en disco y se guarda.\n",
    "f.Write()\n",
    "f.Close()"
   ]
  },
  {
   "cell_type": "code",
   "execution_count": null,
   "metadata": {
    "collapsed": true
   },
   "outputs": [],
   "source": [
    "Br_t_Wb=  {'value': 95.7  , 'sys': 7.0  , 'lum': 'NA' , 'Theo': 'NA'  , 'lum': 'NA' , 'source':'http://iopscience.iop.org/1674-1137/40/10/100001, page:1.981'}\n",
    "Br_W_munu={'value': 10.63 , 'sys': 0.15 , 'lum': 'NA' , 'Theo': 'NA'  , 'lum': 'NA' , 'source':'http://iopscience.iop.org/1674-1137/40/10/100001, page:617'}\n",
    "Br={'Br_t_Wb':Br_t_Wb,'Br_W_munu':Br_W_munu};"
   ]
  },
  {
   "cell_type": "code",
   "execution_count": null,
   "metadata": {
    "collapsed": true
   },
   "outputs": [],
   "source": []
  },
  {
   "cell_type": "code",
   "execution_count": null,
   "metadata": {},
   "outputs": [],
   "source": [
    "Cross_Sections"
   ]
  },
  {
   "cell_type": "code",
   "execution_count": null,
   "metadata": {
    "collapsed": true
   },
   "outputs": [],
   "source": []
  }
 ],
 "metadata": {
  "kernelspec": {
   "display_name": "Python 2",
   "language": "python",
   "name": "python2"
  },
  "language_info": {
   "codemirror_mode": {
    "name": "ipython",
    "version": 2
   },
   "file_extension": ".py",
   "mimetype": "text/x-python",
   "name": "python",
   "nbconvert_exporter": "python",
   "pygments_lexer": "ipython2",
   "version": "2.7.13"
  }
 },
 "nbformat": 4,
 "nbformat_minor": 2
}
