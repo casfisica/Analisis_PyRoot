{
 "cells": [
  {
   "cell_type": "markdown",
   "metadata": {},
   "source": [
    "### Libraries"
   ]
  },
  {
   "cell_type": "code",
   "execution_count": 1,
   "metadata": {
    "collapsed": true
   },
   "outputs": [],
   "source": [
    "from tabulate import tabulate\n",
    "from IPython.display import HTML"
   ]
  },
  {
   "cell_type": "markdown",
   "metadata": {},
   "source": [
    "# Cross sections and Branchings Ratios"
   ]
  },
  {
   "cell_type": "markdown",
   "metadata": {},
   "source": [
    "## Cross sections"
   ]
  },
  {
   "cell_type": "code",
   "execution_count": 14,
   "metadata": {
    "collapsed": true
   },
   "outputs": [],
   "source": [
    "#Format:\n",
    "#Name={'value': , 'stat':  , 'sys': , 'Theo': , 'lum': , 'source': };\n",
    "Sig_WW_13TeV={'value': 142.0 , 'stat': 5.0  , 'sys': 13.0  , 'Theo': 'NA'  , 'lum': 3.2  , 'source': 'https://atlas.web.cern.ch/Atlas/GROUPS/PHYSICS/CombinedSummaryPlots/SM/ATLAS_c_SMSummary_TotalXsect_rotated/ATLAS_c_SMSummary_TotalXsect_rotated.pdf'};\n",
    "Sig_tW_13TeV={'value': 94.0 , 'stat': 10.0  , 'sys': 28.0  , 'Theo': 'NA'  , 'lum': 3.2  , 'source': 'https://atlas.web.cern.ch/Atlas/GROUPS/PHYSICS/CombinedSummaryPlots/SM/ATLAS_c_SMSummary_TotalXsect_rotated/ATLAS_c_SMSummary_TotalXsect_rotated.pdf'};\n",
    "Sig_DY_13TeV={'value': 1170.0, 'stat': 60.0 , 'sys': 'NA'  , 'Theo': 'NA'  , 'lum': 'NA' , 'source': 'https://arxiv.org/pdf/1407.3643.pdf, pag 11'};\n",
    "Sig_tt_13TeV={'value': 835.0 , 'stat': 25.0 , 'sys': 118.0 , 'Theo': 'NA'  , 'lum': 23.0 , 'source': 'https://twiki.cern.ch/twiki/pub/CMSPublic/PhysicsResultsTOPSummaryFigures/Top_Summary_13TeV.pdf'};\n",
    "Cross_Sections={'Sig_WW_13TeV':Sig_WW_13TeV,'Sig_tW_13TeV':Sig_tW_13TeV,'Sig_DY_13TeV':Sig_DY_13TeV,'Sig_tt_13TeV':Sig_tt_13TeV};"
   ]
  },
  {
   "cell_type": "markdown",
   "metadata": {},
   "source": [
    "## Branchings Ratios"
   ]
  },
  {
   "cell_type": "code",
   "execution_count": 18,
   "metadata": {
    "collapsed": true
   },
   "outputs": [],
   "source": [
    "Br_t_Wb=  {'value': 95.7  , 'sys': 7.0  , 'lum': 'NA' , 'Theo': 'NA'  , 'lum': 'NA' , 'source':'http://iopscience.iop.org/1674-1137/40/10/100001, page:1.981'}\n",
    "Br_W_munu={'value': 10.63 , 'sys': 0.15 , 'lum': 'NA' , 'Theo': 'NA'  , 'lum': 'NA' , 'source':'http://iopscience.iop.org/1674-1137/40/10/100001, page:617'}\n",
    "Br={'Br_t_Wb':Br_t_Wb,'Br_W_munu':Br_W_munu};"
   ]
  },
  {
   "cell_type": "code",
   "execution_count": 20,
   "metadata": {},
   "outputs": [
    {
     "data": {
      "text/plain": [
       "{'Br_W_munu': {'Theo': 'NA',\n",
       "  'lum': 'NA',\n",
       "  'source': 'http://iopscience.iop.org/1674-1137/40/10/100001, page:617',\n",
       "  'sys': 0.15,\n",
       "  'value': 10.63},\n",
       " 'Br_t_Wb': {'Theo': 'NA',\n",
       "  'lum': 'NA',\n",
       "  'source': 'http://iopscience.iop.org/1674-1137/40/10/100001, page:1.981',\n",
       "  'sys': 7.0,\n",
       "  'value': 95.7}}"
      ]
     },
     "execution_count": 20,
     "metadata": {},
     "output_type": "execute_result"
    }
   ],
   "source": [
    "Br"
   ]
  },
  {
   "cell_type": "markdown",
   "metadata": {},
   "source": [
    "### Entries"
   ]
  },
  {
   "cell_type": "code",
   "execution_count": 16,
   "metadata": {
    "collapsed": true
   },
   "outputs": [],
   "source": [
    "def norm(lum, Nevent , CS):\n",
    "    \"\"\"Función para normalizar el numero de eventos\"\"\"\n",
    "    lumpb=lum*0.001;\n",
    "    Cte=(lumpb*CS)/Nevent\n",
    "    return Cte;  "
   ]
  },
  {
   "cell_type": "code",
   "execution_count": null,
   "metadata": {
    "collapsed": true
   },
   "outputs": [],
   "source": []
  },
  {
   "cell_type": "code",
   "execution_count": 17,
   "metadata": {},
   "outputs": [
    {
     "data": {
      "text/html": [
       "<table>\n",
       "<thead>\n",
       "<tr><th>Sig_WW_13TeV  </th><th>Sig_tW_13TeV  </th><th>Sig_tt_13TeV  </th><th>Sig_DY_13TeV  </th></tr>\n",
       "</thead>\n",
       "<tbody>\n",
       "<tr><td>Theo          </td><td>Theo          </td><td>Theo          </td><td>Theo          </td></tr>\n",
       "<tr><td>stat          </td><td>stat          </td><td>stat          </td><td>stat          </td></tr>\n",
       "<tr><td>value         </td><td>value         </td><td>value         </td><td>value         </td></tr>\n",
       "<tr><td>sys           </td><td>sys           </td><td>sys           </td><td>sys           </td></tr>\n",
       "<tr><td>source        </td><td>source        </td><td>source        </td><td>source        </td></tr>\n",
       "<tr><td>lum           </td><td>lum           </td><td>lum           </td><td>lum           </td></tr>\n",
       "</tbody>\n",
       "</table>"
      ],
      "text/plain": [
       "<IPython.core.display.HTML object>"
      ]
     },
     "execution_count": 17,
     "metadata": {},
     "output_type": "execute_result"
    }
   ],
   "source": [
    "HTML(tabulate(Cross_Sections, headers=\"keys\",tablefmt=\"html\"))"
   ]
  },
  {
   "cell_type": "code",
   "execution_count": null,
   "metadata": {
    "collapsed": true
   },
   "outputs": [],
   "source": []
  },
  {
   "cell_type": "code",
   "execution_count": null,
   "metadata": {
    "collapsed": true
   },
   "outputs": [],
   "source": []
  }
 ],
 "metadata": {
  "kernelspec": {
   "display_name": "Python 2",
   "language": "python",
   "name": "python2"
  },
  "language_info": {
   "codemirror_mode": {
    "name": "ipython",
    "version": 2
   },
   "file_extension": ".py",
   "mimetype": "text/x-python",
   "name": "python",
   "nbconvert_exporter": "python",
   "pygments_lexer": "ipython2",
   "version": "2.7.13"
  }
 },
 "nbformat": 4,
 "nbformat_minor": 2
}
