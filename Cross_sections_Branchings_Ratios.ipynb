{
 "cells": [
  {
   "cell_type": "markdown",
   "metadata": {},
   "source": [
    "### Libraries"
   ]
  },
  {
   "cell_type": "code",
   "execution_count": 23,
   "metadata": {},
   "outputs": [],
   "source": [
    "from tabulate import tabulate\n",
    "from IPython.display import HTML"
   ]
  },
  {
   "cell_type": "markdown",
   "metadata": {},
   "source": [
    "# Cross sections and Branchings Ratios"
   ]
  },
  {
   "cell_type": "markdown",
   "metadata": {},
   "source": [
    "## Cross sections"
   ]
  },
  {
   "cell_type": "code",
   "execution_count": 8,
   "metadata": {},
   "outputs": [],
   "source": [
    "#Format:\n",
    "#Name={'value': , 'stat':  , 'sys': , 'Theo': , 'lum': , 'source': };\n",
    "Sig_WW_13TeV={'value': 142.0 , 'stat': 5.0  , 'sys': 13.0  , 'Theo': 'NA'  , 'lum': 3.2  , 'source': 'https://atlas.web.cern.ch/Atlas/GROUPS/PHYSICS/CombinedSummaryPlots/SM/ATLAS_c_SMSummary_TotalXsect_rotated/ATLAS_c_SMSummary_TotalXsect_rotated.pdf'};\n",
    "Sig_tW_13TeV={'value': 94.0 , 'stat': 10.0  , 'sys': 28.0  , 'Theo': 'NA'  , 'lum': 3.2  , 'source': 'https://atlas.web.cern.ch/Atlas/GROUPS/PHYSICS/CombinedSummaryPlots/SM/ATLAS_c_SMSummary_TotalXsect_rotated/ATLAS_c_SMSummary_TotalXsect_rotated.pdf'};\n",
    "Sig_DY_13TeV={'value': 1170.0, 'stat': 60.0 , 'sys': 'NA'  , 'Theo': 'NA'  , 'lum': 'NA' , 'source': 'https://arxiv.org/pdf/1407.3643.pdf, pag 11'};\n",
    "Sig_tt_13TeV={'value': 835.0 , 'stat': 25.0 , 'sys': 118.0 , 'Theo': 'NA'  , 'lum': 23.0 , 'source': 'https://twiki.cern.ch/twiki/pub/CMSPublic/PhysicsResultsTOPSummaryFigures/Top_Summary_13TeV.pdf'};"
   ]
  },
  {
   "cell_type": "markdown",
   "metadata": {},
   "source": [
    "## Branchings Ratios"
   ]
  },
  {
   "cell_type": "code",
   "execution_count": 9,
   "metadata": {},
   "outputs": [],
   "source": [
    "Br_t_Wb=  {'value': 95.7  , 'sys': 7.0  , 'lum': 'NA' , 'Theo': 'NA'  , 'lum': 'NA' , 'source':'http://iopscience.iop.org/1674-1137/40/10/100001, page:1.981'}\n",
    "Br_W_munu={'value': 10.63 , 'sys': 0.15 , 'lum': 'NA' , 'Theo': 'NA'  , 'lum': 'NA' , 'source':'http://iopscience.iop.org/1674-1137/40/10/100001, page:617'}\n"
   ]
  },
  {
   "cell_type": "markdown",
   "metadata": {},
   "source": [
    "### Entries"
   ]
  },
  {
   "cell_type": "code",
   "execution_count": 7,
   "metadata": {},
   "outputs": [],
   "source": [
    "def norm(lum, Nevent , CS):\n",
    "    \"\"\"Función para normalizar el numero de eventos\"\"\"\n",
    "    lumpb=lum*0.001;\n",
    "    Cte=(lumpb*CS)/Nevent\n",
    "    return Cte;  "
   ]
  },
  {
   "cell_type": "code",
   "execution_count": null,
   "metadata": {},
   "outputs": [],
   "source": []
  },
  {
   "cell_type": "code",
   "execution_count": 24,
   "metadata": {},
   "outputs": [
    {
     "data": {
      "text/html": [
       "<table>\n",
       "<thead>\n",
       "<tr><th style=\"text-align: right;\">  Age</th><th>Name  </th></tr>\n",
       "</thead>\n",
       "<tbody>\n",
       "<tr><td style=\"text-align: right;\">   24</td><td>Alice </td></tr>\n",
       "<tr><td style=\"text-align: right;\">   19</td><td>Bob   </td></tr>\n",
       "</tbody>\n",
       "</table>"
      ],
      "text/plain": [
       "<IPython.core.display.HTML object>"
      ]
     },
     "execution_count": 24,
     "metadata": {},
     "output_type": "execute_result"
    }
   ],
   "source": [
    "HTML(tabulate({\"Name\": [\"Alice\", \"Bob\"],\"Age\": [24, 19]}, headers=\"keys\",tablefmt=\"html\"))"
   ]
  },
  {
   "cell_type": "code",
   "execution_count": null,
   "metadata": {},
   "outputs": [],
   "source": []
  },
  {
   "cell_type": "code",
   "execution_count": null,
   "metadata": {
    "collapsed": true
   },
   "outputs": [],
   "source": []
  }
 ],
 "metadata": {
  "kernelspec": {
   "display_name": "Python 2",
   "language": "python",
   "name": "python2"
  },
  "language_info": {
   "codemirror_mode": {
    "name": "ipython",
    "version": 2
   },
   "file_extension": ".py",
   "mimetype": "text/x-python",
   "name": "python",
   "nbconvert_exporter": "python",
   "pygments_lexer": "ipython2",
   "version": "2.7.13"
  }
 },
 "nbformat": 4,
 "nbformat_minor": 2
}
