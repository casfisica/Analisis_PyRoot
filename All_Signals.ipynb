{
 "cells": [
  {
   "cell_type": "code",
   "execution_count": 4,
   "metadata": {
    "collapsed": true
   },
   "outputs": [],
   "source": [
    "#include <iostream>\n",
    "#include <string>\n",
    "#include <math.h>       /* cosh, log */\n",
    "using namespace std;"
   ]
  },
  {
   "cell_type": "code",
   "execution_count": 1,
   "metadata": {},
   "outputs": [],
   "source": [
    "gROOT->ProcessLine(\".! export LD_LIBRARY_PATH=$LD_LIBRARY_PATH:/home/camilo/HEPTools/Delphes/delphes6PY3/\");\n",
    "//gROOT->ProcessLine(\".! source /home/camilo/HEPTools/Delphes/delphes6PY3/DelphesEnv.sh\")"
   ]
  },
  {
   "cell_type": "code",
   "execution_count": 2,
   "metadata": {},
   "outputs": [],
   "source": [
    "//#include \"/home/camilo/HEPTools/Delphes/delphes6PY3/libDelphes\"\n",
    "//#include \"/home/camilo/HEPTools/Delphes/delphes6PY3/external/\""
   ]
  },
  {
   "cell_type": "code",
   "execution_count": 3,
   "metadata": {},
   "outputs": [
    {
     "name": "stderr",
     "output_type": "stream",
     "text": [
      "Error in cling::AutoloadingVisitor::InsertIntoAutoloadingState:\n",
      "   Missing FileEntry for ExRootAnalysis/ExRootTreeReader.h\n",
      "   requested to autoload type ExRootTreeReader\n",
      "Error in cling::AutoloadingVisitor::InsertIntoAutoloadingState:\n",
      "   Missing FileEntry for ExRootAnalysis/ExRootTreeWriter.h\n",
      "   requested to autoload type ExRootTreeWriter\n",
      "Error in cling::AutoloadingVisitor::InsertIntoAutoloadingState:\n",
      "   Missing FileEntry for ExRootAnalysis/ExRootTreeBranch.h\n",
      "   requested to autoload type ExRootTreeBranch\n",
      "Error in cling::AutoloadingVisitor::InsertIntoAutoloadingState:\n",
      "   Missing FileEntry for ExRootAnalysis/ExRootResult.h\n",
      "   requested to autoload type ExRootResult\n",
      "Error in cling::AutoloadingVisitor::InsertIntoAutoloadingState:\n",
      "   Missing FileEntry for ExRootAnalysis/ExRootClassifier.h\n",
      "   requested to autoload type ExRootClassifier\n",
      "Error in cling::AutoloadingVisitor::InsertIntoAutoloadingState:\n",
      "   Missing FileEntry for ExRootAnalysis/ExRootFilter.h\n",
      "   requested to autoload type ExRootFilter\n",
      "Error in cling::AutoloadingVisitor::InsertIntoAutoloadingState:\n",
      "   Missing FileEntry for ExRootAnalysis/ExRootProgressBar.h\n",
      "   requested to autoload type ExRootProgressBar\n",
      "Error in cling::AutoloadingVisitor::InsertIntoAutoloadingState:\n",
      "   Missing FileEntry for ExRootAnalysis/ExRootConfReader.h\n",
      "   requested to autoload type ExRootConfParam\n",
      "Error in cling::AutoloadingVisitor::InsertIntoAutoloadingState:\n",
      "   Missing FileEntry for ExRootAnalysis/ExRootConfReader.h\n",
      "   requested to autoload type ExRootConfReader\n",
      "Error in cling::AutoloadingVisitor::InsertIntoAutoloadingState:\n",
      "   Missing FileEntry for ExRootAnalysis/ExRootTask.h\n",
      "   requested to autoload type ExRootTask\n"
     ]
    }
   ],
   "source": [
    "/*Cargo la librería de Delphes*/\n",
    "gSystem->AddDynamicPath(\"/home/camilo/HEPTools/Delphes/delphes6PY3/\");\n",
    "gSystem->AddIncludePath(\"/home/camilo/HEPTools/Delphes/delphes6PY3/\");\n",
    "gSystem->AddIncludePath(\"/home/camilo/HEPTools/Delphes/delphes6PY3/external/\");\n",
    "gSystem->AddIncludePath(\"/home/camilo/HEPTools/Delphes/delphes6PY3/external/ExRootAnalysis/\");\n",
    "//gSystem->AddDynamicPath(\"/home/camilo/HEPTools/Delphes/delphes6PY3/external/\");\n",
    "//gSystem->AddDynamicPath(\"/home/camilo/HEPTools/Delphes/delphes6PY3/external/ExRootAnalysis/\");\n",
    "//gSystem->Load(\"/home/camilo/HEPTools/Delphes/delphes6PY3/libDelphes.so\");\n",
    "gSystem->Load(\"libDelphes\");"
   ]
  },
  {
   "cell_type": "code",
   "execution_count": null,
   "metadata": {},
   "outputs": [],
   "source": [
    "/*Instancio un objeto TChain*/\n",
    "TChain chain(\"Delphes\");"
   ]
  },
  {
   "cell_type": "code",
   "execution_count": null,
   "metadata": {},
   "outputs": [],
   "source": [
    "/*Creo las variables necesarias para el for*/\n",
    "std::string nom1=\"/Storage/scratch/camilo/Proyectos/MadGraph/Datos/Signal_2j_mu-nu/Events/run_\";\n",
    "std::string nom2=\"/tag_1_delphes_events.root\";\n",
    "std::string num, out;"
   ]
  },
  {
   "cell_type": "code",
   "execution_count": null,
   "metadata": {},
   "outputs": [],
   "source": [
    "/*Llenado del chain con todos los runs*/\n",
    "for (Int_t i=1; i<11; i=i+1 ) {\n",
    "   num = std::to_string(i);\n",
    "   if( i < 10 ) {\n",
    "       out= nom1+\"0\"+num+nom2;\n",
    "    }\n",
    "//convierto en cadena de caracteres constante (es lo que recibe la función)\n",
    "    const char * c = out.c_str();\n",
    "/*pego todos los datos*/\n",
    "    chain.Add(c);\n",
    "}"
   ]
  },
  {
   "cell_type": "code",
   "execution_count": null,
   "metadata": {},
   "outputs": [],
   "source": [
    "//Creo un objeto de treereader, que recive la dirección en memoria de\n",
    "//la cadena (TChain) como argumento\n",
    "ExRootTreeReader *treeReader = new ExRootTreeReader(&chain);"
   ]
  },
  {
   "cell_type": "code",
   "execution_count": null,
   "metadata": {},
   "outputs": [],
   "source": [
    "/*Leo el numero de entradas*/\n",
    "Long64_t numberOfEntries = treeReader->GetEntries()"
   ]
  },
  {
   "cell_type": "code",
   "execution_count": null,
   "metadata": {},
   "outputs": [],
   "source": [
    "/*Obtengo las ramas que deseo*/\n",
    "TClonesArray *branchMuon = treeReader->UseBranch(\"Muon\");\n",
    "TClonesArray *branchMissingET = treeReader->UseBranch(\"MissingET\");\n",
    "TClonesArray *branchJet = treeReader->UseBranch(\"Jet\");"
   ]
  },
  {
   "cell_type": "code",
   "execution_count": null,
   "metadata": {},
   "outputs": [],
   "source": [
    "// Inicializo los contadores\n",
    "Int_t cut1=0, cut2=0, cut3=0, cut4=0, cut5=0;"
   ]
  },
  {
   "cell_type": "code",
   "execution_count": null,
   "metadata": {},
   "outputs": [],
   "source": [
    "for(Int_t entry = 0; entry < numberOfEntries; ++entry)\n",
    "    {\n",
    "        // Se carga un evento espesifico para ser analizado\n",
    "        treeReader->ReadEntry(entry);\n",
    "\n",
    "        // Se hace el primer corte, se pide que tenga al menos dos jets\n",
    "        if(branchJet->GetEntries() > 1)\n",
    "        {\n",
    "            ++cut1; //Cuantos eventos pasan el corte 1\n",
    "            \n",
    "            Int_t count=0;\n",
    "            //Se cuentan los jets tageados como b\n",
    "            for (Int_t i=0; i<branchJet->GetEntries(); ++i)\n",
    "            {\n",
    "                Jet* jet = (Jet*) branchJet->At(i);\n",
    "                if(jet->BTag>0)\n",
    "                {\n",
    "                    ++count;\n",
    "                }\n",
    "    \n",
    "            }\n",
    "\n",
    "            if( count>1 )\n",
    "            {\n",
    "                ++cut2; //Cuantos eventos pasan el corte 2\n",
    "                //Inicializo los obejos clase muon\n",
    "                Muon *muon1, *muon2;\n",
    "\n",
    "                // Para ser contados deben de tener al menos 2 muones\n",
    "                if(branchMuon->GetEntries() > 1)\n",
    "                {\n",
    "                    ++cut3; //Cuantos eventos pasan el corte 3\n",
    "                    // Take first two electrons, tomo solo dos porque estan organizados por PT\n",
    "                    muon1 = (Muon *) branchMuon->At(0);\n",
    "                    muon2 = (Muon *) branchMuon->At(1);\n",
    "                    //Si la carga es diferente\n",
    "                    int charge = muon1->Charge * muon2->Charge;\n",
    "                    if( charge < 0 )\n",
    "                    {\n",
    "                        ++cut4; //Cuantos eventos pasan el corte 4\n",
    "                \n",
    "                        double MassMuon=(muon1->P4()+muon2->P4()).M();\n",
    "                        if( !((MassMuon>80)&&(MassMuon<100)) )\n",
    "                        {\n",
    "                            ++cut5; //Cuantos eventos pasan el corte 4\n",
    "                     \n",
    "                            \n",
    "                            // Plot jet transverse momentum\n",
    "                            //histJetPT->Fill(jet->PT);\n",
    "                            // Plot their invariant mass\n",
    "                            //histMass->Fill(((elec1->P4()) + (elec2->P4())).M());\n",
    "               \n",
    "                        \n",
    "                        \n",
    "                        }\n",
    "                    }\n",
    "                }\n",
    "            }\n",
    "        }\n",
    "    }"
   ]
  },
  {
   "cell_type": "code",
   "execution_count": null,
   "metadata": {},
   "outputs": [],
   "source": [
    "cout<<\"#Raw =\"<<numberOfEntries<<endl;\n",
    "cout<<\"#Cut1=\"<<cut1<<endl;\n",
    "cout<<\"#Cut2=\"<<cut2<<endl;\n",
    "cout<<\"#Cut3=\"<<cut3<<endl;\n",
    "cout<<\"#Cut4=\"<<cut4<<endl;\n",
    "cout<<\"#Cut5=\"<<cut5<<endl<<endl;\n",
    "\n",
    "\n",
    "float EFFN1=(float)cut1/(float)numberOfEntries;\n",
    "float EFFN2=(float)cut2/(float)cut1;\n",
    "float EFFN3=(float)cut3/(float)cut2;\n",
    "float EFFN4=(float)cut4/(float)cut3;\n",
    "float EFFN5=(float)cut5/(float)cut4;\n",
    "\n",
    "\n",
    "float EFFA1=(float)cut1/(float)numberOfEntries;\n",
    "float EFFA2=(float)cut2/(float)numberOfEntries;\n",
    "float EFFA3=(float)cut3/(float)numberOfEntries;\n",
    "float EFFA4=(float)cut4/(float)numberOfEntries;\n",
    "float EFFA5=(float)cut5/(float)numberOfEntries;\n",
    "\n",
    "cout<<\"EFFA1=\"<<EFFA1<<endl;\n",
    "cout<<\"EFFA2=\"<<EFFA2<<endl;\n",
    "cout<<\"EFFA3=\"<<EFFA3<<endl;\n",
    "cout<<\"EFFA4=\"<<EFFA4<<endl;\n",
    "cout<<\"EFFA5=\"<<EFFA5<<endl<<endl;\n",
    "\n",
    "\n",
    "cout<<\"EFFN1=\"<<EFFN1<<endl;\n",
    "cout<<\"EFFN2=\"<<EFFN2<<endl;\n",
    "cout<<\"EFFN3=\"<<EFFN3<<endl;\n",
    "cout<<\"EFFN4=\"<<EFFN4<<endl;\n",
    "cout<<\"EFFN5=\"<<EFFN5<<endl;"
   ]
  },
  {
   "cell_type": "code",
   "execution_count": null,
   "metadata": {
    "collapsed": true
   },
   "outputs": [],
   "source": [
    "355148\n",
    "341827\n",
    "126190\n",
    "55688\n",
    "55687\n",
    "48077"
   ]
  }
 ],
 "metadata": {
  "kernelspec": {
   "display_name": "ROOT C++",
   "language": "c++",
   "name": "root"
  },
  "language_info": {
   "codemirror_mode": "text/x-c++src",
   "file_extension": ".C",
   "mimetype": " text/x-c++src",
   "name": "c++"
  }
 },
 "nbformat": 4,
 "nbformat_minor": 2
}
