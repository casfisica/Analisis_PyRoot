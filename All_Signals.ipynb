{
 "cells": [
  {
   "cell_type": "code",
   "execution_count": 1,
   "metadata": {
    "collapsed": true
   },
   "outputs": [],
   "source": [
    "#include <iostream>\n",
    "#include <string>\n",
    "#include <math.h>       /* cosh, log */\n",
    "using namespace std;"
   ]
  },
  {
   "cell_type": "code",
   "execution_count": 2,
   "metadata": {
    "collapsed": false
   },
   "outputs": [
    {
     "name": "stderr",
     "output_type": "stream",
     "text": [
      "Error in <TCling::RegisterModule>: cannot find dictionary module libClassesDict_rdict.pcm\n",
      "Error in <TCling::RegisterModule>: cannot find dictionary module libDisplayDict_rdict.pcm\n",
      "Error in <TCling::RegisterModule>: cannot find dictionary module libFastJetDict_rdict.pcm\n",
      "Error in <TCling::RegisterModule>: cannot find dictionary module libModulesDict_rdict.pcm\n",
      "Error in <TCling::RegisterModule>: cannot find dictionary module libExRootAnalysisDict_rdict.pcm\n"
     ]
    }
   ],
   "source": [
    "/*Cargo la librería de Delphes*/\n",
    "gSystem->Load(\"/home/camilo/Proyectos/Delphes/delphes/libDelphes.so\");\n",
    "//gSystem->AddDynamicPath(\"/scratch/cms/Delphes/delphes/\");\n",
    "//gSystem->Load(\"libDelphes\");"
   ]
  },
  {
   "cell_type": "code",
   "execution_count": 3,
   "metadata": {
    "collapsed": false
   },
   "outputs": [],
   "source": [
    "/*Instancio un objeto TChain*/\n",
    "TChain chain(\"Delphes\");"
   ]
  },
  {
   "cell_type": "code",
   "execution_count": 4,
   "metadata": {
    "collapsed": false
   },
   "outputs": [],
   "source": [
    "/*Creo las variables necesarias para el for*/\n",
    "std::string nom1=\"/Storage/scratch/camilo/Proyectos/MadGraph/Datos/Signal_2j_mu-nu/Events/run_\";\n",
    "std::string nom2=\"/tag_1_delphes_events.root\";\n",
    "std::string num, out;"
   ]
  },
  {
   "cell_type": "code",
   "execution_count": 5,
   "metadata": {
    "collapsed": false
   },
   "outputs": [],
   "source": [
    "/*Llenado del chain con todos los runs*/\n",
    "for (Int_t i=1; i<11; i=i+1 ) {\n",
    "   num = std::to_string(i);\n",
    "   if( i < 10 ) {\n",
    "       out= nom1+\"0\"+num+nom2;\n",
    "    }\n",
    "//convierto en cadena de caracteres constante (es lo que recibe la función)\n",
    "    const char * c = out.c_str();\n",
    "/*pego todos los datos*/\n",
    "    chain.Add(c);\n",
    "}"
   ]
  },
  {
   "cell_type": "code",
   "execution_count": 6,
   "metadata": {
    "collapsed": false
   },
   "outputs": [],
   "source": [
    "//Creo un objeto de treereader, que recive la dirección en memoria de\n",
    "//la cadena (TChain) como argumento\n",
    "ExRootTreeReader *treeReader = new ExRootTreeReader(&chain);"
   ]
  },
  {
   "cell_type": "code",
   "execution_count": 7,
   "metadata": {
    "collapsed": false
   },
   "outputs": [
    {
     "name": "stdout",
     "output_type": "stream",
     "text": [
      "(long long) 354966\n"
     ]
    }
   ],
   "source": [
    "/*Leo el numero de entradas*/\n",
    "Long64_t numberOfEntries = treeReader->GetEntries()"
   ]
  },
  {
   "cell_type": "code",
   "execution_count": 8,
   "metadata": {
    "collapsed": false
   },
   "outputs": [],
   "source": [
    "/*Obtengo las ramas que deseo*/\n",
    "TClonesArray *branchMuon = treeReader->UseBranch(\"Muon\");\n",
    "TClonesArray *branchMissingET = treeReader->UseBranch(\"MissingET\");\n",
    "TClonesArray *branchJet = treeReader->UseBranch(\"Jet\");"
   ]
  },
  {
   "cell_type": "code",
   "execution_count": 9,
   "metadata": {
    "collapsed": false
   },
   "outputs": [],
   "source": [
    "// Inicializo los contadores\n",
    "Int_t cut1=0, cut2=0, cut3=0, cut4=0, cut5=0;"
   ]
  },
  {
   "cell_type": "code",
   "execution_count": 10,
   "metadata": {
    "collapsed": false
   },
   "outputs": [],
   "source": [
    "for(Int_t entry = 0; entry < numberOfEntries; ++entry)\n",
    "    {\n",
    "        // Se carga un evento espesifico para ser analizado\n",
    "        treeReader->ReadEntry(entry);\n",
    "\n",
    "        // Se hace el primer corte, se pide que tenga al menos dos jets\n",
    "        if(branchJet->GetEntries() > 1)\n",
    "        {\n",
    "            ++cut1; //Cuantos eventos pasan el corte 1\n",
    "            \n",
    "            Int_t count=0;\n",
    "            //Se cuentan los jets tageados como b\n",
    "            for (Int_t i=0; i<branchJet->GetEntries(); ++i)\n",
    "            {\n",
    "                Jet* jet = (Jet*) branchJet->At(i);\n",
    "                if(jet->BTag>0)\n",
    "                {\n",
    "                    ++count;\n",
    "                }\n",
    "    \n",
    "            }\n",
    "\n",
    "            if( count>1 )\n",
    "            {\n",
    "                ++cut2; //Cuantos eventos pasan el corte 2\n",
    "                //Inicializo los obejos clase muon\n",
    "                Muon *muon1, *muon2;\n",
    "\n",
    "                // Para ser contados deben de tener al menos 2 muones\n",
    "                if(branchMuon->GetEntries() > 1)\n",
    "                {\n",
    "                    ++cut3; //Cuantos eventos pasan el corte 3\n",
    "                    // Take first two electrons, tomo solo dos porque estan organizados por PT\n",
    "                    muon1 = (Muon *) branchMuon->At(0);\n",
    "                    muon2 = (Muon *) branchMuon->At(1);\n",
    "                    //Si la carga es diferente\n",
    "                    int charge = muon1->Charge * muon2->Charge;\n",
    "                    if( charge < 0 )\n",
    "                    {\n",
    "                        ++cut4; //Cuantos eventos pasan el corte 4\n",
    "                \n",
    "                        double MassMuon=(muon1->P4()+muon2->P4()).M();\n",
    "                        if( !((MassMuon>80)&&(MassMuon<100)) )\n",
    "                        {\n",
    "                            ++cut5; //Cuantos eventos pasan el corte 4\n",
    "                     \n",
    "                            \n",
    "                            // Plot jet transverse momentum\n",
    "                            //histJetPT->Fill(jet->PT);\n",
    "                            // Plot their invariant mass\n",
    "                            //histMass->Fill(((elec1->P4()) + (elec2->P4())).M());\n",
    "               \n",
    "                        \n",
    "                        \n",
    "                        }\n",
    "                    }\n",
    "                }\n",
    "            }\n",
    "        }\n",
    "    }"
   ]
  },
  {
   "cell_type": "code",
   "execution_count": 11,
   "metadata": {
    "collapsed": false
   },
   "outputs": [
    {
     "name": "stdout",
     "output_type": "stream",
     "text": [
      "#Raw =354966\n",
      "#Cut1=341688\n",
      "#Cut2=126112\n",
      "#Cut3=55750\n",
      "#Cut4=55749\n",
      "#Cut5=48106\n",
      "\n",
      "EFFA1=0.962594\n",
      "EFFA2=0.355279\n",
      "EFFA3=0.157057\n",
      "EFFA4=0.157054\n",
      "EFFA5=0.135523\n",
      "\n",
      "EFFN1=0.962594\n",
      "EFFN2=0.369085\n",
      "EFFN3=0.442067\n",
      "EFFN4=0.999982\n",
      "EFFN5=0.862903\n"
     ]
    }
   ],
   "source": [
    "cout<<\"#Raw =\"<<numberOfEntries<<endl;\n",
    "cout<<\"#Cut1=\"<<cut1<<endl;\n",
    "cout<<\"#Cut2=\"<<cut2<<endl;\n",
    "cout<<\"#Cut3=\"<<cut3<<endl;\n",
    "cout<<\"#Cut4=\"<<cut4<<endl;\n",
    "cout<<\"#Cut5=\"<<cut5<<endl<<endl;\n",
    "\n",
    "\n",
    "float EFFN1=(float)cut1/(float)numberOfEntries;\n",
    "float EFFN2=(float)cut2/(float)cut1;\n",
    "float EFFN3=(float)cut3/(float)cut2;\n",
    "float EFFN4=(float)cut4/(float)cut3;\n",
    "float EFFN5=(float)cut5/(float)cut4;\n",
    "\n",
    "\n",
    "float EFFA1=(float)cut1/(float)numberOfEntries;\n",
    "float EFFA2=(float)cut2/(float)numberOfEntries;\n",
    "float EFFA3=(float)cut3/(float)numberOfEntries;\n",
    "float EFFA4=(float)cut4/(float)numberOfEntries;\n",
    "float EFFA5=(float)cut5/(float)numberOfEntries;\n",
    "\n",
    "cout<<\"EFFA1=\"<<EFFA1<<endl;\n",
    "cout<<\"EFFA2=\"<<EFFA2<<endl;\n",
    "cout<<\"EFFA3=\"<<EFFA3<<endl;\n",
    "cout<<\"EFFA4=\"<<EFFA4<<endl;\n",
    "cout<<\"EFFA5=\"<<EFFA5<<endl<<endl;\n",
    "\n",
    "\n",
    "cout<<\"EFFN1=\"<<EFFN1<<endl;\n",
    "cout<<\"EFFN2=\"<<EFFN2<<endl;\n",
    "cout<<\"EFFN3=\"<<EFFN3<<endl;\n",
    "cout<<\"EFFN4=\"<<EFFN4<<endl;\n",
    "cout<<\"EFFN5=\"<<EFFN5<<endl;"
   ]
  },
  {
   "cell_type": "code",
   "execution_count": null,
   "metadata": {
    "collapsed": true
   },
   "outputs": [],
   "source": [
    "355148\n",
    "341827\n",
    "126190\n",
    "55688\n",
    "55687\n",
    "48077"
   ]
  }
 ],
 "metadata": {
  "kernelspec": {
   "display_name": "ROOT C++",
   "language": "c++",
   "name": "root"
  },
  "language_info": {
   "codemirror_mode": "text/x-c++src",
   "file_extension": ".C",
   "mimetype": " text/x-c++src",
   "name": "c++"
  }
 },
 "nbformat": 4,
 "nbformat_minor": 2
}
