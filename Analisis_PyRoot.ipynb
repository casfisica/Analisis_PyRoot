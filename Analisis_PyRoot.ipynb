{
 "cells": [
  {
   "cell_type": "markdown",
   "metadata": {},
   "source": [
    "# Análisis de datos utilizando PyRoot\n"
   ]
  },
  {
   "cell_type": "markdown",
   "metadata": {},
   "source": [
    "###Cargo los paquetes nesesarias"
   ]
  },
  {
   "cell_type": "code",
   "execution_count": 1,
   "metadata": {
    "collapsed": true
   },
   "outputs": [],
   "source": [
    "#from IPython.core.interactiveshell import InteractiveShell\n",
    "import ROOT\n",
    "import os\n",
    "import commands\n",
    "#InteractiveShell.ast_node_interactivity = \"all\" # Para tener el modo interactivo completo"
   ]
  },
  {
   "cell_type": "code",
   "execution_count": 2,
   "metadata": {
    "collapsed": false,
    "scrolled": true
   },
   "outputs": [],
   "source": [
    "ROOT.gROOT.Reset()"
   ]
  },
  {
   "cell_type": "markdown",
   "metadata": {},
   "source": [
    "###Cargo las Librerías nesesarias"
   ]
  },
  {
   "cell_type": "code",
   "execution_count": 3,
   "metadata": {
    "collapsed": true
   },
   "outputs": [],
   "source": [
    "#Esta es la ruta a la librería dinámica de Delphes (debe de ser compilada con la misma versión de root del notebook)\n",
    "#ROOT.gSystem.AddDynamicPath(\"/scratch/cms/MadGraph/MG5_aMC_v2_5_2/Delphes/\")\n",
    "ROOT.gSystem.AddDynamicPath(\"/scratch/cms/Delphes/delphes/\")"
   ]
  },
  {
   "cell_type": "code",
   "execution_count": 4,
   "metadata": {
    "collapsed": false
   },
   "outputs": [],
   "source": [
    "ROOT.gSystem.Load(\"libDelphes\");"
   ]
  },
  {
   "cell_type": "markdown",
   "metadata": {},
   "source": [
    "###Construcción del TChain"
   ]
  },
  {
   "cell_type": "code",
   "execution_count": 5,
   "metadata": {
    "collapsed": false
   },
   "outputs": [],
   "source": [
    "#Obtengo el número y nombre de carpetas run_#\n",
    "tmp = commands.getstatusoutput('ls /scratch/cms/Datos/Signal_2j_mu-nu-Run0/Events')\n",
    "#Parto la cadena de caracteres por '\\n', y asigno las partes a un arreglo\n",
    "Runs = tmp[1].split(\"\\n\") "
   ]
  },
  {
   "cell_type": "code",
   "execution_count": 6,
   "metadata": {
    "collapsed": true
   },
   "outputs": [],
   "source": [
    "#Cero el objeto TChain\n",
    "MainChain=ROOT.TChain(\"Delphes\")"
   ]
  },
  {
   "cell_type": "code",
   "execution_count": 7,
   "metadata": {
    "collapsed": false
   },
   "outputs": [],
   "source": [
    "#Lleno el objeto MainChain con las salidas de MadGraph-Pythia_Delphes\n",
    "for run in range(len(Runs)):\n",
    "    imput = \"../Datos/Signal_2j_mu-nu-Run0/Events/\"+Runs[run]+\"/tag_1_delphes_events.root\"\n",
    "    MainChain.Add(imput)\n",
    "    "
   ]
  },
  {
   "cell_type": "code",
   "execution_count": 8,
   "metadata": {
    "collapsed": false
   },
   "outputs": [],
   "source": [
    "#Creo el objeto ExRootTreeReader\n",
    "treeReader = ROOT.ExRootTreeReader(MainChain)\n",
    "numberOfEntries = treeReader.GetEntries()\n"
   ]
  },
  {
   "cell_type": "code",
   "execution_count": 9,
   "metadata": {
    "collapsed": true
   },
   "outputs": [],
   "source": [
    "#Obtengo las ramas que voy a usar\n",
    "branchJet = treeReader.UseBranch(\"Jet\")\n",
    "branchMuon = treeReader.UseBranch(\"Muon\")\n",
    "branchMissingET = treeReader.UseBranch(\"MissingET\")"
   ]
  },
  {
   "cell_type": "code",
   "execution_count": 24,
   "metadata": {
    "collapsed": false
   },
   "outputs": [],
   "source": [
    "# Inicializo los contadores\n",
    "cut1=0; cut2=0; cut3=0; cut4=0; cut5=0;"
   ]
  },
  {
   "cell_type": "code",
   "execution_count": 25,
   "metadata": {
    "collapsed": false
   },
   "outputs": [],
   "source": [
    "# Loop sobre los eventos\n",
    "for entry in range(0, numberOfEntries):\n",
    "    #Se carga la entrada espesífica\n",
    "    treeReader.ReadEntry(entry)\n",
    "\n",
    "    # Primer corte, al menos 2 jet\n",
    "    if branchJet.GetEntries() > 1:\n",
    "        cut1 = cut1 +1;\n",
    "        bcount=0;\n",
    "        for i in range(0, branchJet.GetEntries() ):\n",
    "            jet = branchJet.At(i)\n",
    "            #Cuento cuantos jet hay identificados como b quarks\n",
    "            if jet.BTag :\n",
    "                bcount = bcount + 1;\n",
    "            \n",
    "        # Segundo corte, al menos 2 jet b       \n",
    "        if bcount > 1:\n",
    "            cut2 = cut2 +1;\n",
    "            \n",
    "            # If event contains at least 2 muons\n",
    "            if branchMuon.GetEntries() > 1:\n",
    "                cut3 = cut3 +1;\n",
    "                # Tomo los dos muones mas energéticos y comparo sus cargas eléctricas\n",
    "                muon1 = branchMuon.At(0)\n",
    "                muon2 = branchMuon.At(1)\n",
    "                \n",
    "                #Corte 4: Que los muones mas energéticos tengan cargas diferentes\n",
    "                if muon1.Charge*muon2.Charge < 0:\n",
    "                    cut4 = cut4 +1;\n",
    "\n",
    "                    \n",
    "                    #Corte 5: muones mas energéticos tengan masa invariante diferente de la del Z\n",
    "                    MassMuon= (muon1.P4()+muon2.P4()).M();\n",
    "                    if not((MassMuon>80) and (MassMuon<100)):\n",
    "                        cut5 = cut5 +1;"
   ]
  },
  {
   "cell_type": "code",
   "execution_count": 27,
   "metadata": {
    "collapsed": false
   },
   "outputs": [
    {
     "name": "stdout",
     "output_type": "stream",
     "text": [
      "355148\n",
      "341827\n",
      "126190\n",
      "55688\n",
      "55687\n",
      "48077\n"
     ]
    }
   ],
   "source": [
    "print numberOfEntries;\n",
    "print cut1;\n",
    "print cut2;\n",
    "print cut3;\n",
    "print cut4;\n",
    "print cut5;\n"
   ]
  },
  {
   "cell_type": "code",
   "execution_count": null,
   "metadata": {
    "collapsed": true
   },
   "outputs": [],
   "source": []
  },
  {
   "cell_type": "code",
   "execution_count": null,
   "metadata": {
    "collapsed": true
   },
   "outputs": [],
   "source": []
  },
  {
   "cell_type": "code",
   "execution_count": 7,
   "metadata": {
    "collapsed": true
   },
   "outputs": [],
   "source": []
  }
 ],
 "metadata": {
  "kernelspec": {
   "display_name": "Python 2",
   "language": "python",
   "name": "python2"
  },
  "language_info": {
   "codemirror_mode": {
    "name": "ipython",
    "version": 2
   },
   "file_extension": ".py",
   "mimetype": "text/x-python",
   "name": "python",
   "nbconvert_exporter": "python",
   "pygments_lexer": "ipython2",
   "version": "2.7.9"
  }
 },
 "nbformat": 4,
 "nbformat_minor": 2
}
