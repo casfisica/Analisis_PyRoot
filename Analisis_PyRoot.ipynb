{
 "cells": [
  {
   "cell_type": "markdown",
   "metadata": {},
   "source": [
    "# Análisis de datos utilizando PyRoot\n"
   ]
  },
  {
   "cell_type": "code",
   "execution_count": 1,
   "metadata": {
    "collapsed": true
   },
   "outputs": [],
   "source": [
    "from IPython.core.interactiveshell import InteractiveShell\n",
    "InteractiveShell.ast_node_interactivity = \"all\""
   ]
  },
  {
   "cell_type": "code",
   "execution_count": 2,
   "metadata": {
    "collapsed": false,
    "scrolled": true
   },
   "outputs": [],
   "source": [
    "import ROOT\n",
    "ROOT.gROOT.Reset()"
   ]
  },
  {
   "cell_type": "code",
   "execution_count": 3,
   "metadata": {
    "collapsed": true
   },
   "outputs": [],
   "source": [
    "ROOT.gSystem.AddDynamicPath(\"/scratch/cms/MadGraph/MG5_aMC_v2_5_2/Delphes/\")"
   ]
  },
  {
   "cell_type": "code",
   "execution_count": 4,
   "metadata": {
    "collapsed": false
   },
   "outputs": [
    {
     "name": "stderr",
     "output_type": "stream",
     "text": [
      "TClassTable::Add:0: RuntimeWarning: class TBuffer already in TClassTable\n",
      "TClassTable::Add:0: RuntimeWarning: class TDirectory already in TClassTable\n",
      "TClassTable::Add:0: RuntimeWarning: class TRootIOCtor already in TClassTable\n",
      "TClassTable::Add:0: RuntimeWarning: class TBrowser already in TClassTable\n",
      "TClassTable::Add:0: RuntimeWarning: class TApplicationImp already in TClassTable\n",
      "TClassTable::Add:0: RuntimeWarning: class TApplication already in TClassTable\n",
      "TClassTable::Add:0: RuntimeWarning: class TAtt3D already in TClassTable\n",
      "TClassTable::Add:0: RuntimeWarning: class TAttAxis already in TClassTable\n",
      "TClassTable::Add:0: RuntimeWarning: class TAttBBox already in TClassTable\n",
      "TClassTable::Add:0: RuntimeWarning: class TAttFill already in TClassTable\n",
      "TClassTable::Add:0: RuntimeWarning: class TAttLine already in TClassTable\n",
      "TClassTable::Add:0: RuntimeWarning: class TAttMarker already in TClassTable\n",
      "TClassTable::Add:0: RuntimeWarning: class TAttPad already in TClassTable\n",
      "TClassTable::Add:0: RuntimeWarning: class TAttText already in TClassTable\n",
      "TClassTable::Add:0: RuntimeWarning: class TBenchmark already in TClassTable\n",
      "TClassTable::Add:0: RuntimeWarning: class TBrowserImp already in TClassTable\n",
      "TClassTable::Add:0: RuntimeWarning: class TContextMenu already in TClassTable\n",
      "TClassTable::Add:0: RuntimeWarning: class TBuffer3D already in TClassTable\n",
      "TClassTable::Add:0: RuntimeWarning: class TCanvasImp already in TClassTable\n",
      "TClassTable::Add:0: RuntimeWarning: class TColor already in TClassTable\n",
      "TClassTable::Add:0: RuntimeWarning: class TColorGradient already in TClassTable\n",
      "TClassTable::Add:0: RuntimeWarning: class TContextMenuImp already in TClassTable\n",
      "TClassTable::Add:0: RuntimeWarning: class TVirtualPad already in TClassTable\n",
      "TClassTable::Add:0: RuntimeWarning: class TControlBarImp already in TClassTable\n",
      "TClassTable::Add:0: RuntimeWarning: class TDatime already in TClassTable\n",
      "TClassTable::Add:0: RuntimeWarning: class TEnv already in TClassTable\n",
      "TClassTable::Add:0: RuntimeWarning: class TEnvRec already in TClassTable\n",
      "TClassTable::Add:0: RuntimeWarning: class TInspectorImp already in TClassTable\n",
      "TClassTable::Add:0: RuntimeWarning: class TGuiFactory already in TClassTable\n",
      "TClassTable::Add:0: RuntimeWarning: class TFileHandler already in TClassTable\n",
      "TClassTable::Add:0: RuntimeWarning: class TStyle already in TClassTable\n",
      "TClassTable::Add:0: RuntimeWarning: class TVirtualFFT already in TClassTable\n",
      "TClassTable::Add:0: RuntimeWarning: class TVirtualViewer3D already in TClassTable\n",
      "TClassTable::Add:0: RuntimeWarning: class TVirtualGLPainter already in TClassTable\n",
      "TClassTable::Add:0: RuntimeWarning: class TVirtualGLManip already in TClassTable\n",
      "TClassTable::Add:0: RuntimeWarning: class TGLManager already in TClassTable\n",
      "TClassTable::Add:0: RuntimeWarning: class TGLPaintDevice already in TClassTable\n",
      "TClassTable::Add:0: RuntimeWarning: class TVirtualPadEditor already in TClassTable\n",
      "TClassTable::Add:0: RuntimeWarning: class TVirtualX already in TClassTable\n",
      "TClassTable::Add:0: RuntimeWarning: class TVirtualPadPainter already in TClassTable\n",
      "TClassTable::Add:0: RuntimeWarning: class TVirtualPS already in TClassTable\n",
      "TClassTable::Add:0: RuntimeWarning: class TMemberInspector already in TClassTable\n",
      "TClassTable::Add:0: RuntimeWarning: class TObject already in TClassTable\n",
      "TClassTable::Add:0: RuntimeWarning: class TNamed already in TClassTable\n",
      "TClassTable::Add:0: RuntimeWarning: class TString already in TClassTable\n",
      "TClassTable::Add:0: RuntimeWarning: class string already in TClassTable\n",
      "TClassTable::Add:0: RuntimeWarning: class string::iterator already in TClassTable\n",
      "TClassTable::Add:0: RuntimeWarning: class TStorage already in TClassTable\n",
      "TClassTable::Add:0: RuntimeWarning: class TTimer already in TClassTable\n",
      "TClassTable::Add:0: RuntimeWarning: class TProcessID already in TClassTable\n",
      "TClassTable::Add:0: RuntimeWarning: class TRegexp already in TClassTable\n",
      "TClassTable::Add:0: RuntimeWarning: class TPRegexp already in TClassTable\n",
      "TClassTable::Add:0: RuntimeWarning: class TSubString already in TClassTable\n",
      "TClassTable::Add:0: RuntimeWarning: class TStringLong already in TClassTable\n",
      "TClassTable::Add:0: RuntimeWarning: class TQConnection already in TClassTable\n",
      "TClassTable::Add:0: RuntimeWarning: class TQObject already in TClassTable\n",
      "TClassTable::Add:0: RuntimeWarning: class TQObjSender already in TClassTable\n",
      "TClassTable::Add:0: RuntimeWarning: class TSignalHandler already in TClassTable\n",
      "TClassTable::Add:0: RuntimeWarning: class TStopwatch already in TClassTable\n",
      "TClassTable::Add:0: RuntimeWarning: class TUUID already in TClassTable\n",
      "TClassTable::Add:0: RuntimeWarning: class TExec already in TClassTable\n",
      "TClassTable::Add:0: RuntimeWarning: class TFolder already in TClassTable\n",
      "TClassTable::Add:0: RuntimeWarning: class TObjString already in TClassTable\n",
      "TClassTable::Add:0: RuntimeWarning: class TMD5 already in TClassTable\n",
      "TClassTable::Add:0: RuntimeWarning: class TMacro already in TClassTable\n",
      "TClassTable::Add:0: RuntimeWarning: class TMessageHandler already in TClassTable\n",
      "TClassTable::Add:0: RuntimeWarning: class TPluginManager already in TClassTable\n",
      "TClassTable::Add:0: RuntimeWarning: class TPluginHandler already in TClassTable\n",
      "TClassTable::Add:0: RuntimeWarning: class TPoint already in TClassTable\n",
      "TClassTable::Add:0: RuntimeWarning: class TPMERegexp already in TClassTable\n",
      "TClassTable::Add:0: RuntimeWarning: class TStringToken already in TClassTable\n",
      "TClassTable::Add:0: RuntimeWarning: class TProcessUUID already in TClassTable\n",
      "TClassTable::Add:0: RuntimeWarning: class TQClass already in TClassTable\n",
      "TClassTable::Add:0: RuntimeWarning: class TQCommand already in TClassTable\n",
      "TClassTable::Add:0: RuntimeWarning: class TQUndoManager already in TClassTable\n",
      "TClassTable::Add:0: RuntimeWarning: class TRefCnt already in TClassTable\n",
      "TClassTable::Add:0: RuntimeWarning: class TRef already in TClassTable\n",
      "TClassTable::Add:0: RuntimeWarning: class TSystemFile already in TClassTable\n",
      "TClassTable::Add:0: RuntimeWarning: class TSystemDirectory already in TClassTable\n",
      "TClassTable::Add:0: RuntimeWarning: class TSystem already in TClassTable\n",
      "TClassTable::Add:0: RuntimeWarning: class vector<TString,allocator<TString> >::iterator already in TClassTable\n",
      "TClassTable::Add:0: RuntimeWarning: class reverse_iterator<vector<TString,allocator<TString> >::iterator> already in TClassTable\n",
      "TClassTable::Add:0: RuntimeWarning: class TSysEvtHandler already in TClassTable\n",
      "TClassTable::Add:0: RuntimeWarning: class TStdExceptionHandler already in TClassTable\n",
      "TClassTable::Add:0: RuntimeWarning: class TTime already in TClassTable\n",
      "TClassTable::Add:0: RuntimeWarning: class FileStat_t already in TClassTable\n",
      "TClassTable::Add:0: RuntimeWarning: class UserGroup_t already in TClassTable\n",
      "TClassTable::Add:0: RuntimeWarning: class SysInfo_t already in TClassTable\n",
      "TClassTable::Add:0: RuntimeWarning: class CpuInfo_t already in TClassTable\n",
      "TClassTable::Add:0: RuntimeWarning: class MemInfo_t already in TClassTable\n",
      "TClassTable::Add:0: RuntimeWarning: class ProcInfo_t already in TClassTable\n",
      "TClassTable::Add:0: RuntimeWarning: class RedirectHandle_t already in TClassTable\n",
      "TClassTable::Add:0: RuntimeWarning: class TProcessEventTimer already in TClassTable\n",
      "TClassTable::Add:0: RuntimeWarning: class TRemoteObject already in TClassTable\n",
      "TClassTable::Add:0: RuntimeWarning: class TROOT already in TClassTable\n",
      "TClassTable::Add:0: RuntimeWarning: class TTask already in TClassTable\n",
      "TClassTable::Add:0: RuntimeWarning: class vector<string,allocator<string> >::iterator already in TClassTable\n",
      "TClassTable::Add:0: RuntimeWarning: class reverse_iterator<vector<string,allocator<string> >::iterator> already in TClassTable\n",
      "TClassTable::Add:0: RuntimeWarning: class SetWindowAttributes_t already in TClassTable\n",
      "TClassTable::Add:0: RuntimeWarning: class WindowAttributes_t already in TClassTable\n",
      "TClassTable::Add:0: RuntimeWarning: class Event_t already in TClassTable\n",
      "TClassTable::Add:0: RuntimeWarning: class GCValues_t already in TClassTable\n",
      "TClassTable::Add:0: RuntimeWarning: class ColorStruct_t already in TClassTable\n",
      "TClassTable::Add:0: RuntimeWarning: class PictureAttributes_t already in TClassTable\n",
      "TClassTable::Add:0: RuntimeWarning: class Segment_t already in TClassTable\n",
      "TClassTable::Add:0: RuntimeWarning: class Point_t already in TClassTable\n",
      "TClassTable::Add:0: RuntimeWarning: class Rectangle_t already in TClassTable\n",
      "TClassTable::Add:0: RuntimeWarning: class timespec already in TClassTable\n",
      "TClassTable::Add:0: RuntimeWarning: class TVirtualMutex already in TClassTable\n",
      "TClassTable::Add:0: RuntimeWarning: class TTimeStamp already in TClassTable\n",
      "TClassTable::Add:0: RuntimeWarning: class TLockGuard already in TClassTable\n",
      "TClassTable::Add:0: RuntimeWarning: class TVirtualPerfStats already in TClassTable\n",
      "TClassTable::Add:0: RuntimeWarning: class TInetAddress already in TClassTable\n",
      "TClassTable::Add:0: RuntimeWarning: class TParameter<bool> already in TClassTable\n",
      "TClassTable::Add:0: RuntimeWarning: class TVirtualAuth already in TClassTable\n",
      "TClassTable::Add:0: RuntimeWarning: class TUrl already in TClassTable\n",
      "TClassTable::Add:0: RuntimeWarning: class TFileInfoMeta already in TClassTable\n",
      "TClassTable::Add:0: RuntimeWarning: class TFileInfo already in TClassTable\n",
      "TClassTable::Add:0: RuntimeWarning: class TFileCollection already in TClassTable\n",
      "TClassTable::Add:0: RuntimeWarning: class TRedirectOutputGuard already in TClassTable\n",
      "TClassTable::Add:0: RuntimeWarning: class TVirtualMonitoringWriter already in TClassTable\n",
      "TClassTable::Add:0: RuntimeWarning: class TVirtualMonitoringReader already in TClassTable\n",
      "TClassTable::Add:0: RuntimeWarning: class TObjectSpy already in TClassTable\n",
      "TClassTable::Add:0: RuntimeWarning: class TObjectRefSpy already in TClassTable\n",
      "TClassTable::Add:0: RuntimeWarning: class TUri already in TClassTable\n",
      "TClassTable::Add:0: RuntimeWarning: class TVirtualTableInterface already in TClassTable\n",
      "TClassTable::Add:0: RuntimeWarning: class TBase64 already in TClassTable\n",
      "TClassTable::Add:0: RuntimeWarning: class pair<char*,int> already in TClassTable\n",
      "TClassTable::Add:0: RuntimeWarning: class pair<char*,long> already in TClassTable\n",
      "TClassTable::Add:0: RuntimeWarning: class pair<char*,float> already in TClassTable\n",
      "TClassTable::Add:0: RuntimeWarning: class pair<char*,double> already in TClassTable\n",
      "TClassTable::Add:0: RuntimeWarning: class pair<char*,void*> already in TClassTable\n",
      "TClassTable::Add:0: RuntimeWarning: class pair<char*,char*> already in TClassTable\n",
      "TClassTable::Add:0: RuntimeWarning: class pair<string,int> already in TClassTable\n",
      "TClassTable::Add:0: RuntimeWarning: class pair<string,long> already in TClassTable\n",
      "TClassTable::Add:0: RuntimeWarning: class pair<string,float> already in TClassTable\n",
      "TClassTable::Add:0: RuntimeWarning: class pair<string,double> already in TClassTable\n",
      "TClassTable::Add:0: RuntimeWarning: class pair<string,void*> already in TClassTable\n",
      "TClassTable::Add:0: RuntimeWarning: class pair<int,int> already in TClassTable\n",
      "TClassTable::Add:0: RuntimeWarning: class pair<int,long> already in TClassTable\n",
      "TClassTable::Add:0: RuntimeWarning: class pair<int,float> already in TClassTable\n",
      "TClassTable::Add:0: RuntimeWarning: class pair<int,double> already in TClassTable\n",
      "TClassTable::Add:0: RuntimeWarning: class pair<int,void*> already in TClassTable\n",
      "TClassTable::Add:0: RuntimeWarning: class pair<int,char*> already in TClassTable\n",
      "TClassTable::Add:0: RuntimeWarning: class pair<long,int> already in TClassTable\n",
      "TClassTable::Add:0: RuntimeWarning: class pair<long,long> already in TClassTable\n",
      "TClassTable::Add:0: RuntimeWarning: class pair<long,float> already in TClassTable\n",
      "TClassTable::Add:0: RuntimeWarning: class pair<long,double> already in TClassTable\n",
      "TClassTable::Add:0: RuntimeWarning: class pair<long,void*> already in TClassTable\n",
      "TClassTable::Add:0: RuntimeWarning: class pair<long,char*> already in TClassTable\n",
      "TClassTable::Add:0: RuntimeWarning: class pair<float,int> already in TClassTable\n",
      "TClassTable::Add:0: RuntimeWarning: class pair<float,long> already in TClassTable\n",
      "TClassTable::Add:0: RuntimeWarning: class pair<float,float> already in TClassTable\n",
      "TClassTable::Add:0: RuntimeWarning: class pair<float,double> already in TClassTable\n",
      "TClassTable::Add:0: RuntimeWarning: class pair<float,void*> already in TClassTable\n",
      "TClassTable::Add:0: RuntimeWarning: class pair<float,char*> already in TClassTable\n",
      "TClassTable::Add:0: RuntimeWarning: class pair<double,int> already in TClassTable\n",
      "TClassTable::Add:0: RuntimeWarning: class pair<double,long> already in TClassTable\n",
      "TClassTable::Add:0: RuntimeWarning: class pair<double,float> already in TClassTable\n",
      "TClassTable::Add:0: RuntimeWarning: class pair<double,double> already in TClassTable\n",
      "TClassTable::Add:0: RuntimeWarning: class pair<double,void*> already in TClassTable\n",
      "TClassTable::Add:0: RuntimeWarning: class pair<double,char*> already in TClassTable\n",
      "TClassTable::Add:0: RuntimeWarning: class pair<const char*,int> already in TClassTable\n",
      "TClassTable::Add:0: RuntimeWarning: class pair<const char*,long> already in TClassTable\n",
      "TClassTable::Add:0: RuntimeWarning: class pair<const char*,float> already in TClassTable\n",
      "TClassTable::Add:0: RuntimeWarning: class pair<const char*,double> already in TClassTable\n",
      "TClassTable::Add:0: RuntimeWarning: class pair<const char*,void*> already in TClassTable\n",
      "TClassTable::Add:0: RuntimeWarning: class pair<const char*,char*> already in TClassTable\n",
      "TClassTable::Add:0: RuntimeWarning: class pair<const string,int> already in TClassTable\n",
      "TClassTable::Add:0: RuntimeWarning: class pair<const string,long> already in TClassTable\n",
      "TClassTable::Add:0: RuntimeWarning: class pair<const string,float> already in TClassTable\n",
      "TClassTable::Add:0: RuntimeWarning: class pair<const string,double> already in TClassTable\n",
      "TClassTable::Add:0: RuntimeWarning: class pair<const string,void*> already in TClassTable\n",
      "TClassTable::Add:0: RuntimeWarning: class pair<const int,int> already in TClassTable\n",
      "TClassTable::Add:0: RuntimeWarning: class pair<const int,long> already in TClassTable\n",
      "TClassTable::Add:0: RuntimeWarning: class pair<const int,float> already in TClassTable\n",
      "TClassTable::Add:0: RuntimeWarning: class pair<const int,double> already in TClassTable\n",
      "TClassTable::Add:0: RuntimeWarning: class pair<const int,void*> already in TClassTable\n",
      "TClassTable::Add:0: RuntimeWarning: class pair<const int,char*> already in TClassTable\n",
      "TClassTable::Add:0: RuntimeWarning: class pair<const long,int> already in TClassTable\n",
      "TClassTable::Add:0: RuntimeWarning: class pair<const long,long> already in TClassTable\n",
      "TClassTable::Add:0: RuntimeWarning: class pair<const long,float> already in TClassTable\n",
      "TClassTable::Add:0: RuntimeWarning: class pair<const long,double> already in TClassTable\n",
      "TClassTable::Add:0: RuntimeWarning: class pair<const long,void*> already in TClassTable\n",
      "TClassTable::Add:0: RuntimeWarning: class pair<const long,char*> already in TClassTable\n",
      "TClassTable::Add:0: RuntimeWarning: class pair<const float,int> already in TClassTable\n",
      "TClassTable::Add:0: RuntimeWarning: class pair<const float,long> already in TClassTable\n",
      "TClassTable::Add:0: RuntimeWarning: class pair<const float,float> already in TClassTable\n",
      "TClassTable::Add:0: RuntimeWarning: class pair<const float,double> already in TClassTable\n",
      "TClassTable::Add:0: RuntimeWarning: class pair<const float,void*> already in TClassTable\n",
      "TClassTable::Add:0: RuntimeWarning: class pair<const float,char*> already in TClassTable\n",
      "TClassTable::Add:0: RuntimeWarning: class pair<const double,int> already in TClassTable\n",
      "TClassTable::Add:0: RuntimeWarning: class pair<const double,long> already in TClassTable\n",
      "TClassTable::Add:0: RuntimeWarning: class pair<const double,float> already in TClassTable\n",
      "TClassTable::Add:0: RuntimeWarning: class pair<const double,double> already in TClassTable\n",
      "TClassTable::Add:0: RuntimeWarning: class pair<const double,void*> already in TClassTable\n",
      "TClassTable::Add:0: RuntimeWarning: class pair<const double,char*> already in TClassTable\n",
      "TClassTable::Add:0: RuntimeWarning: class TParameter<float> already in TClassTable\n",
      "TClassTable::Add:0: RuntimeWarning: class TParameter<double> already in TClassTable\n",
      "TClassTable::Add:0: RuntimeWarning: class TParameter<int> already in TClassTable\n",
      "TClassTable::Add:0: RuntimeWarning: class TParameter<long> already in TClassTable\n",
      "TClassTable::Add:0: RuntimeWarning: class TParameter<Long64_t> already in TClassTable\n",
      "TClassTable::Add:0: RuntimeWarning: class TCollection already in TClassTable\n",
      "TClassTable::Add:0: RuntimeWarning: class TVirtualCollectionProxy already in TClassTable\n",
      "TClassTable::Add:0: RuntimeWarning: class TList already in TClassTable\n",
      "TClassTable::Add:0: RuntimeWarning: class TObjArray already in TClassTable\n",
      "TClassTable::Add:0: RuntimeWarning: class TClonesArray already in TClassTable\n",
      "TClassTable::Add:0: RuntimeWarning: class TRefTable already in TClassTable\n",
      "TClassTable::Add:0: RuntimeWarning: class TArray already in TClassTable\n",
      "TClassTable::Add:0: RuntimeWarning: class TArrayC already in TClassTable\n",
      "TClassTable::Add:0: RuntimeWarning: class TArrayD already in TClassTable\n",
      "TClassTable::Add:0: RuntimeWarning: class TArrayF already in TClassTable\n",
      "TClassTable::Add:0: RuntimeWarning: class TArrayI already in TClassTable\n",
      "TClassTable::Add:0: RuntimeWarning: class TArrayL64 already in TClassTable\n",
      "TClassTable::Add:0: RuntimeWarning: class TArrayL already in TClassTable\n",
      "TClassTable::Add:0: RuntimeWarning: class TArrayS already in TClassTable\n",
      "TClassTable::Add:0: RuntimeWarning: class TBits already in TClassTable\n",
      "TClassTable::Add:0: RuntimeWarning: class TBits::TReference already in TClassTable\n",
      "TClassTable::Add:0: RuntimeWarning: class TIterator already in TClassTable\n",
      "TClassTable::Add:0: RuntimeWarning: class TObjectTable already in TClassTable\n",
      "TClassTable::Add:0: RuntimeWarning: class TIter already in TClassTable\n",
      "TClassTable::Add:0: RuntimeWarning: class TSeqCollection already in TClassTable\n",
      "TClassTable::Add:0: RuntimeWarning: class TBtreeIter already in TClassTable\n",
      "TClassTable::Add:0: RuntimeWarning: class TBtree already in TClassTable\n",
      "TClassTable::Add:0: RuntimeWarning: class TClassTable already in TClassTable\n",
      "TClassTable::Add:0: RuntimeWarning: class TObjArrayIter already in TClassTable\n",
      "TClassTable::Add:0: RuntimeWarning: class TExMapIter already in TClassTable\n",
      "TClassTable::Add:0: RuntimeWarning: class TExMap already in TClassTable\n",
      "TClassTable::Add:0: RuntimeWarning: class TListIter already in TClassTable\n",
      "TClassTable::Add:0: RuntimeWarning: class THashTable already in TClassTable\n",
      "TClassTable::Add:0: RuntimeWarning: class THashList already in TClassTable\n",
      "TClassTable::Add:0: RuntimeWarning: class THashTableIter already in TClassTable\n",
      "TClassTable::Add:0: RuntimeWarning: class TMapIter already in TClassTable\n",
      "TClassTable::Add:0: RuntimeWarning: class TPair already in TClassTable\n",
      "TClassTable::Add:0: RuntimeWarning: class TMap already in TClassTable\n",
      "TClassTable::Add:0: RuntimeWarning: class TOrdCollectionIter already in TClassTable\n",
      "TClassTable::Add:0: RuntimeWarning: class TOrdCollection already in TClassTable\n",
      "TClassTable::Add:0: RuntimeWarning: class TRefArrayIter already in TClassTable\n",
      "TClassTable::Add:0: RuntimeWarning: class TRefArray already in TClassTable\n",
      "TClassTable::Add:0: RuntimeWarning: class vector<int,allocator<int> >::iterator already in TClassTable\n",
      "TClassTable::Add:0: RuntimeWarning: class reverse_iterator<vector<int,allocator<int> >::iterator> already in TClassTable\n",
      "TClassTable::Add:0: RuntimeWarning: class TSortedList already in TClassTable\n",
      "TClassTable::Add:0: RuntimeWarning: class TClass already in TClassTable\n",
      "TClassTable::Add:0: RuntimeWarning: class TFileMergeInfo already in TClassTable\n",
      "TClassTable::Add:0: RuntimeWarning: class TClassStreamer already in TClassTable\n",
      "TClassTable::Add:0: RuntimeWarning: class TMemberStreamer already in TClassTable\n",
      "TClassTable::Add:0: RuntimeWarning: class TVirtualIsAProxy already in TClassTable\n",
      "TClassTable::Add:0: RuntimeWarning: class TMethod already in TClassTable\n",
      "TClassTable::Add:0: RuntimeWarning: class TVirtualStreamerInfo already in TClassTable\n",
      "TClassTable::Add:0: RuntimeWarning: class TStreamerElement already in TClassTable\n",
      "TClassTable::Add:0: RuntimeWarning: class TDictionary already in TClassTable\n",
      "TClassTable::Add:0: RuntimeWarning: class TBaseClass already in TClassTable\n",
      "TClassTable::Add:0: RuntimeWarning: class TDataMember already in TClassTable\n",
      "TClassTable::Add:0: RuntimeWarning: class TClassRef already in TClassTable\n",
      "TClassTable::Add:0: RuntimeWarning: class TRealData already in TClassTable\n",
      "TClassTable::Add:0: RuntimeWarning: class TCint already in TClassTable\n",
      "TClassTable::Add:0: RuntimeWarning: class TMethodCall already in TClassTable\n",
      "TClassTable::Add:0: RuntimeWarning: class ROOT::TSchemaRuleSet already in TClassTable\n",
      "TClassTable::Add:0: RuntimeWarning: class TFunction already in TClassTable\n",
      "TClassTable::Add:0: RuntimeWarning: class TInterpreter already in TClassTable\n",
      "TClassTable::Add:0: RuntimeWarning: class TClassGenerator already in TClassTable\n",
      "TClassTable::Add:0: RuntimeWarning: class TClassMenuItem already in TClassTable\n",
      "TClassTable::Add:0: RuntimeWarning: class TDataType already in TClassTable\n",
      "TClassTable::Add:0: RuntimeWarning: class TGlobal already in TClassTable\n",
      "TClassTable::Add:0: RuntimeWarning: class TIsAProxy already in TClassTable\n",
      "TClassTable::Add:0: RuntimeWarning: class TMethodArg already in TClassTable\n",
      "TClassTable::Add:0: RuntimeWarning: class ROOT::TSchemaRule already in TClassTable\n",
      "TClassTable::Add:0: RuntimeWarning: class ROOT::TSchemaRule::TSources already in TClassTable\n",
      "TClassTable::Add:0: RuntimeWarning: class ROOT::TSchemaMatch already in TClassTable\n",
      "TClassTable::Add:0: RuntimeWarning: class TStreamerBasicType already in TClassTable\n",
      "TClassTable::Add:0: RuntimeWarning: class TStreamerBase already in TClassTable\n",
      "TClassTable::Add:0: RuntimeWarning: class TStreamerBasicPointer already in TClassTable\n",
      "TClassTable::Add:0: RuntimeWarning: class TStreamerLoop already in TClassTable\n",
      "TClassTable::Add:0: RuntimeWarning: class TStreamerObject already in TClassTable\n",
      "TClassTable::Add:0: RuntimeWarning: class TStreamerObjectAny already in TClassTable\n",
      "TClassTable::Add:0: RuntimeWarning: class TStreamerObjectPointer already in TClassTable\n",
      "TClassTable::Add:0: RuntimeWarning: class TStreamerObjectAnyPointer already in TClassTable\n",
      "TClassTable::Add:0: RuntimeWarning: class TStreamerString already in TClassTable\n",
      "TClassTable::Add:0: RuntimeWarning: class TStreamerSTL already in TClassTable\n",
      "TClassTable::Add:0: RuntimeWarning: class TStreamerSTLstring already in TClassTable\n",
      "TClassTable::Add:0: RuntimeWarning: class TStreamerArtificial already in TClassTable\n",
      "TClassTable::Add:0: RuntimeWarning: class TToggle already in TClassTable\n",
      "TClassTable::Add:0: RuntimeWarning: class TToggleGroup already in TClassTable\n",
      "TClassTable::Add:0: RuntimeWarning: class TUnixSystem already in TClassTable\n",
      "TClassTable::Add:0: RuntimeWarning: class TComplex already in TClassTable\n",
      "TClassTable::Add:0: RuntimeWarning: class TRandom already in TClassTable\n",
      "TClassTable::Add:0: RuntimeWarning: class TRandom1 already in TClassTable\n",
      "TClassTable::Add:0: RuntimeWarning: class TRandom2 already in TClassTable\n",
      "TClassTable::Add:0: RuntimeWarning: class TRandom3 already in TClassTable\n",
      "TClassTable::Add:0: RuntimeWarning: class TStatistic already in TClassTable\n",
      "TClassTable::Add:0: RuntimeWarning: class TVirtualFitter already in TClassTable\n",
      "TClassTable::Add:0: RuntimeWarning: class TKDTree<int,double> already in TClassTable\n",
      "TClassTable::Add:0: RuntimeWarning: class TKDTree<int,float> already in TClassTable\n",
      "TClassTable::Add:0: RuntimeWarning: class TKDTreeBinning already in TClassTable\n",
      "TClassTable::Add:0: RuntimeWarning: class vector<double,allocator<double> >::iterator already in TClassTable\n",
      "TClassTable::Add:0: RuntimeWarning: class reverse_iterator<vector<double,allocator<double> >::iterator> already in TClassTable\n",
      "TClassTable::Add:0: RuntimeWarning: class ROOT::Math::TDataPoint<1,float> already in TClassTable\n",
      "TClassTable::Add:0: RuntimeWarning: class ROOT::Math::TDataPoint<1,double> already in TClassTable\n",
      "TClassTable::Add:0: RuntimeWarning: class ROOT::Math::IBaseFunctionOneDim already in TClassTable\n",
      "TClassTable::Add:0: RuntimeWarning: class ROOT::Math::IGradientFunctionOneDim already in TClassTable\n",
      "TClassTable::Add:0: RuntimeWarning: class ROOT::Math::IBaseFunctionMultiDim already in TClassTable\n",
      "TClassTable::Add:0: RuntimeWarning: class ROOT::Math::IGradientFunctionMultiDim already in TClassTable\n",
      "TClassTable::Add:0: RuntimeWarning: class ROOT::Math::IGradientMultiDim already in TClassTable\n",
      "TClassTable::Add:0: RuntimeWarning: class ROOT::Math::IGradientOneDim already in TClassTable\n",
      "TClassTable::Add:0: RuntimeWarning: class ROOT::Math::IParametricFunctionOneDim already in TClassTable\n",
      "TClassTable::Add:0: RuntimeWarning: class ROOT::Math::IParametricGradFunctionOneDim already in TClassTable\n",
      "TClassTable::Add:0: RuntimeWarning: class ROOT::Math::IParametricFunctionMultiDim already in TClassTable\n",
      "TClassTable::Add:0: RuntimeWarning: class ROOT::Math::IParametricGradFunctionMultiDim already in TClassTable\n",
      "TClassTable::Add:0: RuntimeWarning: class ROOT::Math::IBaseParam already in TClassTable\n",
      "TClassTable::Add:0: RuntimeWarning: class ROOT::Math::ParamFunctor already in TClassTable\n",
      "TClassTable::Add:0: RuntimeWarning: class ROOT::Math::Functor already in TClassTable\n",
      "TClassTable::Add:0: RuntimeWarning: class ROOT::Math::Functor1D already in TClassTable\n",
      "TClassTable::Add:0: RuntimeWarning: class ROOT::Math::GradFunctor already in TClassTable\n",
      "TClassTable::Add:0: RuntimeWarning: class ROOT::Math::GradFunctor1D already in TClassTable\n",
      "TClassTable::Add:0: RuntimeWarning: class ROOT::Math::IOptions already in TClassTable\n",
      "TClassTable::Add:0: RuntimeWarning: class ROOT::Math::MinimizerOptions already in TClassTable\n",
      "TClassTable::Add:0: RuntimeWarning: class ROOT::Math::Minimizer already in TClassTable\n",
      "TClassTable::Add:0: RuntimeWarning: class ROOT::Math::BaseIntegratorOptions already in TClassTable\n",
      "TClassTable::Add:0: RuntimeWarning: class ROOT::Math::IntegratorOneDimOptions already in TClassTable\n",
      "TClassTable::Add:0: RuntimeWarning: class ROOT::Math::IntegratorMultiDimOptions already in TClassTable\n",
      "TClassTable::Add:0: RuntimeWarning: class ROOT::Math::VirtualIntegrator already in TClassTable\n",
      "TClassTable::Add:0: RuntimeWarning: class ROOT::Math::VirtualIntegratorOneDim already in TClassTable\n",
      "TClassTable::Add:0: RuntimeWarning: class ROOT::Math::VirtualIntegratorMultiDim already in TClassTable\n",
      "TClassTable::Add:0: RuntimeWarning: class ROOT::Math::IntegratorOneDim already in TClassTable\n",
      "TClassTable::Add:0: RuntimeWarning: class ROOT::Math::AdaptiveIntegratorMultiDim already in TClassTable\n",
      "TClassTable::Add:0: RuntimeWarning: class ROOT::Math::IntegratorMultiDim already in TClassTable\n",
      "TClassTable::Add:0: RuntimeWarning: class ROOT::Math::DistSampler already in TClassTable\n",
      "TClassTable::Add:0: RuntimeWarning: class ROOT::Math::Factory already in TClassTable\n",
      "TClassTable::Add:0: RuntimeWarning: class ROOT::Math::BasicFitMethodFunction<ROOT::Math::IBaseFunctionMultiDim> already in TClassTable\n",
      "TClassTable::Add:0: RuntimeWarning: class ROOT::Math::BasicFitMethodFunction<ROOT::Math::IGradientFunctionMultiDim> already in TClassTable\n",
      "TClassTable::Add:0: RuntimeWarning: class ROOT::Math::GaussIntegrator already in TClassTable\n",
      "TClassTable::Add:0: RuntimeWarning: class ROOT::Math::GaussLegendreIntegrator already in TClassTable\n",
      "TClassTable::Add:0: RuntimeWarning: class ROOT::Math::IRootFinderMethod already in TClassTable\n",
      "TClassTable::Add:0: RuntimeWarning: class ROOT::Math::RootFinder already in TClassTable\n",
      "TClassTable::Add:0: RuntimeWarning: class ROOT::Math::RichardsonDerivator already in TClassTable\n",
      "TClassTable::Add:0: RuntimeWarning: class ROOT::Math::IMinimizer1D already in TClassTable\n",
      "TClassTable::Add:0: RuntimeWarning: class ROOT::Math::BrentMinimizer1D already in TClassTable\n",
      "TClassTable::Add:0: RuntimeWarning: class ROOT::Math::BrentRootFinder already in TClassTable\n",
      "TClassTable::Add:0: RuntimeWarning: class ROOT::Math::DistSamplerOptions already in TClassTable\n",
      "TClassTable::Add:0: RuntimeWarning: class ROOT::Math::GoFTest already in TClassTable\n",
      "TClassTable::Add:0: RuntimeWarning: class ROOT::Math::ChebyshevPol already in TClassTable\n",
      "TClassTable::Add:0: RuntimeWarning: class ROOT::Math::TDataPointN<double> already in TClassTable\n",
      "TClassTable::Add:0: RuntimeWarning: class ROOT::Math::TDataPointN<float> already in TClassTable\n",
      "TClassTable::Add:0: RuntimeWarning: class ROOT::Math::KDTree<ROOT::Math::TDataPoint<1,double> > already in TClassTable\n",
      "TClassTable::Add:0: RuntimeWarning: class ROOT::Fit::DataOptions already in TClassTable\n",
      "TClassTable::Add:0: RuntimeWarning: class ROOT::Fit::DataRange already in TClassTable\n",
      "TClassTable::Add:0: RuntimeWarning: class ROOT::Fit::FitData already in TClassTable\n",
      "TClassTable::Add:0: RuntimeWarning: class ROOT::Fit::BinData already in TClassTable\n",
      "TClassTable::Add:0: RuntimeWarning: class ROOT::Fit::UnBinData already in TClassTable\n",
      "TClassTable::Add:0: RuntimeWarning: class ROOT::Fit::Chi2FCN<ROOT::Math::IBaseFunctionMultiDim> already in TClassTable\n",
      "TClassTable::Add:0: RuntimeWarning: class ROOT::Fit::Chi2FCN<ROOT::Math::IGradientFunctionMultiDim> already in TClassTable\n",
      "TClassTable::Add:0: RuntimeWarning: class ROOT::Fit::ParameterSettings already in TClassTable\n",
      "TClassTable::Add:0: RuntimeWarning: class ROOT::Fit::FitResult already in TClassTable\n",
      "TClassTable::Add:0: RuntimeWarning: class ROOT::Fit::FitConfig already in TClassTable\n",
      "TClassTable::Add:0: RuntimeWarning: class ROOT::Fit::Fitter already in TClassTable\n",
      "TClassTable::Add:0: RuntimeWarning: class ROOT::Fit::LogLikelihoodFCN<ROOT::Math::IBaseFunctionMultiDim> already in TClassTable\n",
      "TClassTable::Add:0: RuntimeWarning: class ROOT::Fit::LogLikelihoodFCN<ROOT::Math::IGradientFunctionMultiDim> already in TClassTable\n",
      "TClassTable::Add:0: RuntimeWarning: class ROOT::Fit::PoissonLikelihoodFCN<ROOT::Math::IBaseFunctionMultiDim> already in TClassTable\n",
      "TClassTable::Add:0: RuntimeWarning: class ROOT::Fit::PoissonLikelihoodFCN<ROOT::Math::IGradientFunctionMultiDim> already in TClassTable\n",
      "TClassTable::Add:0: RuntimeWarning: class ROOT::Fit::SparseData already in TClassTable\n",
      "TClassTable::Add:0: RuntimeWarning: class TConditionImp already in TClassTable\n",
      "TClassTable::Add:0: RuntimeWarning: class TMutex already in TClassTable\n",
      "TClassTable::Add:0: RuntimeWarning: class TCondition already in TClassTable\n",
      "TClassTable::Add:0: RuntimeWarning: class TThread already in TClassTable\n",
      "TClassTable::Add:0: RuntimeWarning: class TThreadImp already in TClassTable\n",
      "TClassTable::Add:0: RuntimeWarning: class TPosixThread already in TClassTable\n",
      "TClassTable::Add:0: RuntimeWarning: class TMutexImp already in TClassTable\n",
      "TClassTable::Add:0: RuntimeWarning: class TRWLock already in TClassTable\n",
      "TClassTable::Add:0: RuntimeWarning: class TSemaphore already in TClassTable\n",
      "TClassTable::Add:0: RuntimeWarning: class TThreadFactory already in TClassTable\n",
      "TClassTable::Add:0: RuntimeWarning: class TAtomicCount already in TClassTable\n",
      "TClassTable::Add:0: RuntimeWarning: class TPosixMutex already in TClassTable\n",
      "TClassTable::Add:0: RuntimeWarning: class TPosixCondition already in TClassTable\n",
      "TClassTable::Add:0: RuntimeWarning: class TPosixThreadFactory already in TClassTable\n",
      "TClassTable::Add:0: RuntimeWarning: class TVirtualArray already in TClassTable\n",
      "TClassTable::Add:0: RuntimeWarning: class TStreamerInfoActions::TActionSequence already in TClassTable\n",
      "TClassTable::Add:0: RuntimeWarning: class TFile already in TClassTable\n",
      "TClassTable::Add:0: RuntimeWarning: class TArchiveMember already in TClassTable\n",
      "TClassTable::Add:0: RuntimeWarning: class TArchiveFile already in TClassTable\n",
      "TClassTable::Add:0: RuntimeWarning: class TStreamerInfo already in TClassTable\n",
      "TClassTable::Add:0: RuntimeWarning: class TBufferFile already in TClassTable\n",
      "TClassTable::Add:0: RuntimeWarning: class TCollectionProxyFactory already in TClassTable\n",
      "TClassTable::Add:0: RuntimeWarning: class TGenCollectionProxy already in TClassTable\n",
      "TClassTable::Add:0: RuntimeWarning: class TGenCollectionProxy::Value already in TClassTable\n",
      "TClassTable::Add:0: RuntimeWarning: class TGenCollectionProxy::Method already in TClassTable\n",
      "TClassTable::Add:0: RuntimeWarning: class TEmulatedCollectionProxy already in TClassTable\n",
      "TClassTable::Add:0: RuntimeWarning: class TCollectionStreamer already in TClassTable\n",
      "TClassTable::Add:0: RuntimeWarning: class TCollectionClassStreamer already in TClassTable\n",
      "TClassTable::Add:0: RuntimeWarning: class TCollectionMemberStreamer already in TClassTable\n",
      "TClassTable::Add:0: RuntimeWarning: class TKey already in TClassTable\n",
      "TClassTable::Add:0: RuntimeWarning: class TDirectoryFile already in TClassTable\n",
      "TClassTable::Add:0: RuntimeWarning: class TEmulatedMapProxy already in TClassTable\n",
      "TClassTable::Add:0: RuntimeWarning: class TFree already in TClassTable\n",
      "TClassTable::Add:0: RuntimeWarning: class TFileCacheRead already in TClassTable\n",
      "TClassTable::Add:0: RuntimeWarning: class TFileCacheWrite already in TClassTable\n",
      "TClassTable::Add:0: RuntimeWarning: class TFilePrefetch already in TClassTable\n",
      "TClassTable::Add:0: RuntimeWarning: class TFileMerger already in TClassTable\n",
      "TClassTable::Add:0: RuntimeWarning: class TFPBlock already in TClassTable\n",
      "TClassTable::Add:0: RuntimeWarning: class TMapFile already in TClassTable\n",
      "TClassTable::Add:0: RuntimeWarning: class TKeyMapFile already in TClassTable\n",
      "TClassTable::Add:0: RuntimeWarning: class TLockFile already in TClassTable\n",
      "TClassTable::Add:0: RuntimeWarning: class TMapRec already in TClassTable\n",
      "TClassTable::Add:0: RuntimeWarning: class TMemFile already in TClassTable\n",
      "TClassTable::Add:0: RuntimeWarning: class TStreamerInfoActions::TConfiguration already in TClassTable\n",
      "TClassTable::Add:0: RuntimeWarning: class TStreamerInfoActions::TConfiguredAction already in TClassTable\n",
      "TClassTable::Add:0: RuntimeWarning: class TVirtualObject already in TClassTable\n",
      "TClassTable::Add:0: RuntimeWarning: class TZIPMember already in TClassTable\n",
      "TClassTable::Add:0: RuntimeWarning: class TZIPFile already in TClassTable\n",
      "TClassTable::Add:0: RuntimeWarning: class TMessage already in TClassTable\n",
      "TClassTable::Add:0: RuntimeWarning: class TSocket already in TClassTable\n",
      "TClassTable::Add:0: RuntimeWarning: class TUDPSocket already in TClassTable\n",
      "TClassTable::Add:0: RuntimeWarning: class TPSocket already in TClassTable\n",
      "TClassTable::Add:0: RuntimeWarning: class TMonitor already in TClassTable\n",
      "TClassTable::Add:0: RuntimeWarning: class TApplicationRemote already in TClassTable\n",
      "TClassTable::Add:0: RuntimeWarning: class TApplicationServer already in TClassTable\n",
      "TClassTable::Add:0: RuntimeWarning: class TFileStager already in TClassTable\n",
      "TClassTable::Add:0: RuntimeWarning: class TServerSocket already in TClassTable\n",
      "TClassTable::Add:0: RuntimeWarning: class TFTP already in TClassTable\n",
      "TClassTable::Add:0: RuntimeWarning: class TGridResult already in TClassTable\n",
      "TClassTable::Add:0: RuntimeWarning: class TGridCollection already in TClassTable\n",
      "TClassTable::Add:0: RuntimeWarning: class TGridJobStatus already in TClassTable\n",
      "TClassTable::Add:0: RuntimeWarning: class TGridJob already in TClassTable\n",
      "TClassTable::Add:0: RuntimeWarning: class TGridJDL already in TClassTable\n",
      "TClassTable::Add:0: RuntimeWarning: class TGridJobStatusList already in TClassTable\n",
      "TClassTable::Add:0: RuntimeWarning: class TGrid already in TClassTable\n",
      "TClassTable::Add:0: RuntimeWarning: class TNetFile already in TClassTable\n",
      "TClassTable::Add:0: RuntimeWarning: class TNetSystem already in TClassTable\n",
      "TClassTable::Add:0: RuntimeWarning: class TNetFileStager already in TClassTable\n",
      "TClassTable::Add:0: RuntimeWarning: class TParallelMergingFile already in TClassTable\n",
      "TClassTable::Add:0: RuntimeWarning: class TSecContext already in TClassTable\n",
      "TClassTable::Add:0: RuntimeWarning: class TSecContextCleanup already in TClassTable\n",
      "TClassTable::Add:0: RuntimeWarning: class TPServerSocket already in TClassTable\n",
      "TClassTable::Add:0: RuntimeWarning: class TS3HTTPRequest already in TClassTable\n",
      "TClassTable::Add:0: RuntimeWarning: class TWebFile already in TClassTable\n",
      "TClassTable::Add:0: RuntimeWarning: class TWebSystem already in TClassTable\n",
      "TClassTable::Add:0: RuntimeWarning: class TS3WebFile already in TClassTable\n",
      "TClassTable::Add:0: RuntimeWarning: class TSQLColumnInfo already in TClassTable\n",
      "TClassTable::Add:0: RuntimeWarning: class TSQLServer already in TClassTable\n",
      "TClassTable::Add:0: RuntimeWarning: class TSQLMonitoringWriter already in TClassTable\n",
      "TClassTable::Add:0: RuntimeWarning: class TSQLRow already in TClassTable\n",
      "TClassTable::Add:0: RuntimeWarning: class TSQLResult already in TClassTable\n",
      "TClassTable::Add:0: RuntimeWarning: class TSQLStatement already in TClassTable\n",
      "TClassTable::Add:0: RuntimeWarning: class TSQLTableInfo already in TClassTable\n",
      "TClassTable::Add:0: RuntimeWarning: class TSSLSocket already in TClassTable\n",
      "TClassTable::Add:0: RuntimeWarning: class TTree already in TClassTable\n",
      "TClassTable::Add:0: RuntimeWarning: class TBranch already in TClassTable\n",
      "TClassTable::Add:0: RuntimeWarning: class TBasket already in TClassTable\n",
      "TClassTable::Add:0: RuntimeWarning: class TBufferSQL already in TClassTable\n",
      "TClassTable::Add:0: RuntimeWarning: class TBasketSQL already in TClassTable\n",
      "TClassTable::Add:0: RuntimeWarning: class TBranchElement already in TClassTable\n",
      "TClassTable::Add:0: RuntimeWarning: class TVirtualBranchBrowsable already in TClassTable\n",
      "TClassTable::Add:0: RuntimeWarning: class TMethodBrowsable already in TClassTable\n",
      "TClassTable::Add:0: RuntimeWarning: class TNonSplitBrowsable already in TClassTable\n",
      "TClassTable::Add:0: RuntimeWarning: class TCollectionPropertyBrowsable already in TClassTable\n",
      "TClassTable::Add:0: RuntimeWarning: class TCollectionMethodBrowsable already in TClassTable\n",
      "TClassTable::Add:0: RuntimeWarning: class TLeaf already in TClassTable\n",
      "TClassTable::Add:0: RuntimeWarning: class TTreeCloner already in TClassTable\n",
      "TClassTable::Add:0: RuntimeWarning: class TBranchClones already in TClassTable\n",
      "TClassTable::Add:0: RuntimeWarning: class TSelector already in TClassTable\n",
      "TClassTable::Add:0: RuntimeWarning: class TVirtualIndex already in TClassTable\n",
      "TClassTable::Add:0: RuntimeWarning: class TVirtualTreePlayer already in TClassTable\n",
      "TClassTable::Add:0: RuntimeWarning: class TEventList already in TClassTable\n",
      "TClassTable::Add:0: RuntimeWarning: class TEntryList already in TClassTable\n",
      "TClassTable::Add:0: RuntimeWarning: class TFriendElement already in TClassTable\n",
      "TClassTable::Add:0: RuntimeWarning: class TCut already in TClassTable\n",
      "TClassTable::Add:0: RuntimeWarning: class TBranchRef already in TClassTable\n",
      "TClassTable::Add:0: RuntimeWarning: class TTreeFriendLeafIter already in TClassTable\n",
      "TClassTable::Add:0: RuntimeWarning: class TBranchObject already in TClassTable\n",
      "TClassTable::Add:0: RuntimeWarning: class TIndArray already in TClassTable\n",
      "TClassTable::Add:0: RuntimeWarning: class TBranchSTL already in TClassTable\n",
      "TClassTable::Add:0: RuntimeWarning: class TChainElement already in TClassTable\n",
      "TClassTable::Add:0: RuntimeWarning: class TChain already in TClassTable\n",
      "TClassTable::Add:0: RuntimeWarning: class TEntryListArray already in TClassTable\n",
      "TClassTable::Add:0: RuntimeWarning: class TEntryListBlock already in TClassTable\n",
      "TClassTable::Add:0: RuntimeWarning: class TEntryListFromFile already in TClassTable\n",
      "TClassTable::Add:0: RuntimeWarning: class TLeafB already in TClassTable\n",
      "TClassTable::Add:0: RuntimeWarning: class TLeafC already in TClassTable\n",
      "TClassTable::Add:0: RuntimeWarning: class TLeafD already in TClassTable\n",
      "TClassTable::Add:0: RuntimeWarning: class TLeafElement already in TClassTable\n",
      "TClassTable::Add:0: RuntimeWarning: class TLeafF already in TClassTable\n",
      "TClassTable::Add:0: RuntimeWarning: class TLeafI already in TClassTable\n",
      "TClassTable::Add:0: RuntimeWarning: class TLeafL already in TClassTable\n",
      "TClassTable::Add:0: RuntimeWarning: class TLeafObject already in TClassTable\n",
      "TClassTable::Add:0: RuntimeWarning: class TLeafO already in TClassTable\n",
      "TClassTable::Add:0: RuntimeWarning: class TLeafS already in TClassTable\n",
      "TClassTable::Add:0: RuntimeWarning: class TNtupleD already in TClassTable\n",
      "TClassTable::Add:0: RuntimeWarning: class TNtuple already in TClassTable\n",
      "TClassTable::Add:0: RuntimeWarning: class TQueryResult already in TClassTable\n",
      "TClassTable::Add:0: RuntimeWarning: class TSelectorList already in TClassTable\n",
      "TClassTable::Add:0: RuntimeWarning: class TSelectorCint already in TClassTable\n",
      "TClassTable::Add:0: RuntimeWarning: class TSelectorScalar already in TClassTable\n",
      "TClassTable::Add:0: RuntimeWarning: class TTreeCache already in TClassTable\n",
      "TClassTable::Add:0: RuntimeWarning: class TTreeCacheUnzip already in TClassTable\n",
      "TClassTable::Add:0: RuntimeWarning: class TTreeResult already in TClassTable\n",
      "TClassTable::Add:0: RuntimeWarning: class TTreeRow already in TClassTable\n",
      "TClassTable::Add:0: RuntimeWarning: class TTreeSQL already in TClassTable\n"
     ]
    },
    {
     "ename": "SystemError",
     "evalue": "problem in C++; program state has been reset",
     "output_type": "error",
     "traceback": [
      "\u001b[0;31m---------------------------------------------------------------------------\u001b[0m",
      "\u001b[0;31mSystemError\u001b[0m                               Traceback (most recent call last)",
      "\u001b[0;32m<ipython-input-4-0f5297980a7e>\u001b[0m in \u001b[0;36m<module>\u001b[0;34m()\u001b[0m\n\u001b[0;32m----> 1\u001b[0;31m \u001b[0mROOT\u001b[0m\u001b[0;34m.\u001b[0m\u001b[0mgSystem\u001b[0m\u001b[0;34m.\u001b[0m\u001b[0mLoad\u001b[0m\u001b[0;34m(\u001b[0m\u001b[0;34m\"libDelphes\"\u001b[0m\u001b[0;34m)\u001b[0m\u001b[0;34m;\u001b[0m\u001b[0;34m\u001b[0m\u001b[0m\n\u001b[0m",
      "\u001b[0;31mSystemError\u001b[0m: problem in C++; program state has been reset"
     ]
    }
   ],
   "source": [
    "ROOT.gSystem.Load(\"libDelphes\");"
   ]
  },
  {
   "cell_type": "code",
   "execution_count": 4,
   "metadata": {
    "collapsed": true
   },
   "outputs": [],
   "source": [
    "import os"
   ]
  },
  {
   "cell_type": "code",
   "execution_count": 5,
   "metadata": {
    "collapsed": false
   },
   "outputs": [
    {
     "name": "stdout",
     "output_type": "stream",
     "text": [
      "/scratch/cms/Analisis_PyRoot\n"
     ]
    }
   ],
   "source": [
    "cwd = os.getcwd()\n",
    "print cwd"
   ]
  },
  {
   "cell_type": "code",
   "execution_count": 6,
   "metadata": {
    "collapsed": true
   },
   "outputs": [],
   "source": [
    "import commands"
   ]
  },
  {
   "cell_type": "code",
   "execution_count": 7,
   "metadata": {
    "collapsed": false
   },
   "outputs": [],
   "source": [
    "tmp = commands.getstatusoutput('ls ../Datos/Signal_2j_mu-nu-Run0/Events')"
   ]
  },
  {
   "cell_type": "code",
   "execution_count": 8,
   "metadata": {
    "collapsed": false
   },
   "outputs": [
    {
     "data": {
      "text/plain": [
       "'run_01\\nrun_02\\nrun_03\\nrun_04\\nrun_05\\nrun_06\\nrun_07\\nrun_08\\nrun_09\\nrun_10'"
      ]
     },
     "execution_count": 8,
     "metadata": {},
     "output_type": "execute_result"
    }
   ],
   "source": [
    "tmp[1]"
   ]
  },
  {
   "cell_type": "code",
   "execution_count": 9,
   "metadata": {
    "collapsed": false
   },
   "outputs": [],
   "source": [
    "Runs = tmp[1].split(\"\\n\") "
   ]
  },
  {
   "cell_type": "code",
   "execution_count": 10,
   "metadata": {
    "collapsed": false
   },
   "outputs": [
    {
     "data": {
      "text/plain": [
       "['run_01',\n",
       " 'run_02',\n",
       " 'run_03',\n",
       " 'run_04',\n",
       " 'run_05',\n",
       " 'run_06',\n",
       " 'run_07',\n",
       " 'run_08',\n",
       " 'run_09',\n",
       " 'run_10']"
      ]
     },
     "execution_count": 10,
     "metadata": {},
     "output_type": "execute_result"
    }
   ],
   "source": [
    "Runs"
   ]
  },
  {
   "cell_type": "code",
   "execution_count": 11,
   "metadata": {
    "collapsed": true
   },
   "outputs": [],
   "source": [
    "MainChain=ROOT.TChain(\"Delphes\")"
   ]
  },
  {
   "cell_type": "code",
   "execution_count": 12,
   "metadata": {
    "collapsed": false
   },
   "outputs": [
    {
     "data": {
      "text/plain": [
       "1"
      ]
     },
     "execution_count": 12,
     "metadata": {},
     "output_type": "execute_result"
    },
    {
     "data": {
      "text/plain": [
       "1"
      ]
     },
     "execution_count": 12,
     "metadata": {},
     "output_type": "execute_result"
    },
    {
     "data": {
      "text/plain": [
       "1"
      ]
     },
     "execution_count": 12,
     "metadata": {},
     "output_type": "execute_result"
    },
    {
     "data": {
      "text/plain": [
       "1"
      ]
     },
     "execution_count": 12,
     "metadata": {},
     "output_type": "execute_result"
    },
    {
     "data": {
      "text/plain": [
       "1"
      ]
     },
     "execution_count": 12,
     "metadata": {},
     "output_type": "execute_result"
    },
    {
     "data": {
      "text/plain": [
       "1"
      ]
     },
     "execution_count": 12,
     "metadata": {},
     "output_type": "execute_result"
    },
    {
     "data": {
      "text/plain": [
       "1"
      ]
     },
     "execution_count": 12,
     "metadata": {},
     "output_type": "execute_result"
    },
    {
     "data": {
      "text/plain": [
       "1"
      ]
     },
     "execution_count": 12,
     "metadata": {},
     "output_type": "execute_result"
    },
    {
     "data": {
      "text/plain": [
       "1"
      ]
     },
     "execution_count": 12,
     "metadata": {},
     "output_type": "execute_result"
    },
    {
     "data": {
      "text/plain": [
       "1"
      ]
     },
     "execution_count": 12,
     "metadata": {},
     "output_type": "execute_result"
    }
   ],
   "source": [
    "for run in range(len(Runs)):\n",
    "    imput = \"../Datos/Signal_2j_mu-nu-Run0/Events/\"+Runs[run]+\"/tag_1_delphes_events.root\"\n",
    "    MainChain.Add(imput)\n",
    "    "
   ]
  },
  {
   "cell_type": "code",
   "execution_count": 15,
   "metadata": {
    "collapsed": false
   },
   "outputs": [],
   "source": [
    "MainChain.Print()"
   ]
  },
  {
   "cell_type": "code",
   "execution_count": 16,
   "metadata": {
    "collapsed": false
   },
   "outputs": [],
   "source": [
    "MainChain.Show()"
   ]
  },
  {
   "cell_type": "code",
   "execution_count": 17,
   "metadata": {
    "collapsed": false
   },
   "outputs": [
    {
     "data": {
      "text/plain": [
       "165774"
      ]
     },
     "execution_count": 17,
     "metadata": {},
     "output_type": "execute_result"
    }
   ],
   "source": [
    "MainChain.GetEntry(1)"
   ]
  },
  {
   "cell_type": "code",
   "execution_count": 18,
   "metadata": {
    "collapsed": true
   },
   "outputs": [],
   "source": [
    "t=ROOT.TBrowser()"
   ]
  },
  {
   "cell_type": "code",
   "execution_count": 19,
   "metadata": {
    "collapsed": false
   },
   "outputs": [],
   "source": [
    "numberOfEntries = MainChain.GetEntries()"
   ]
  },
  {
   "cell_type": "code",
   "execution_count": 20,
   "metadata": {
    "collapsed": false
   },
   "outputs": [
    {
     "data": {
      "text/plain": [
       "355148L"
      ]
     },
     "execution_count": 20,
     "metadata": {},
     "output_type": "execute_result"
    }
   ],
   "source": [
    "numberOfEntries"
   ]
  },
  {
   "cell_type": "code",
   "execution_count": 21,
   "metadata": {
    "collapsed": false
   },
   "outputs": [],
   "source": [
    "branchJet = MainChain.GetBranch(\"Jet\")"
   ]
  },
  {
   "cell_type": "code",
   "execution_count": 22,
   "metadata": {
    "collapsed": false,
    "scrolled": false
   },
   "outputs": [
    {
     "ename": "SyntaxError",
     "evalue": "invalid syntax (<ipython-input-22-df0087eaa13f>, line 1)",
     "output_type": "error",
     "traceback": [
      "\u001b[0;36m  File \u001b[0;32m\"<ipython-input-22-df0087eaa13f>\"\u001b[0;36m, line \u001b[0;32m1\u001b[0m\n\u001b[0;31m    branchJet.\u001b[0m\n\u001b[0m              ^\u001b[0m\n\u001b[0;31mSyntaxError\u001b[0m\u001b[0;31m:\u001b[0m invalid syntax\n"
     ]
    }
   ],
   "source": [
    "branchJet.\n"
   ]
  },
  {
   "cell_type": "code",
   "execution_count": 58,
   "metadata": {
    "collapsed": false
   },
   "outputs": [],
   "source": [
    "pt=branchJet.GetLeaf(\"camilo\")"
   ]
  },
  {
   "cell_type": "code",
   "execution_count": 60,
   "metadata": {
    "collapsed": false
   },
   "outputs": [
    {
     "data": {
      "text/plain": [
       "<ROOT.MethodProxy at 0x7f98a40f5310>"
      ]
     },
     "execution_count": 60,
     "metadata": {},
     "output_type": "execute_result"
    }
   ],
   "source": [
    "pt.GetValueLongDouble"
   ]
  },
  {
   "cell_type": "code",
   "execution_count": 57,
   "metadata": {
    "collapsed": false
   },
   "outputs": [
    {
     "data": {
      "text/plain": [
       "<ROOT.TLeaf object at 0x(nil)>"
      ]
     },
     "execution_count": 57,
     "metadata": {},
     "output_type": "execute_result"
    }
   ],
   "source": []
  },
  {
   "cell_type": "code",
   "execution_count": null,
   "metadata": {
    "collapsed": true
   },
   "outputs": [],
   "source": []
  }
 ],
 "metadata": {
  "kernelspec": {
   "display_name": "Python 2",
   "language": "python",
   "name": "python2"
  },
  "language_info": {
   "codemirror_mode": {
    "name": "ipython",
    "version": 2
   },
   "file_extension": ".py",
   "mimetype": "text/x-python",
   "name": "python",
   "nbconvert_exporter": "python",
   "pygments_lexer": "ipython2",
   "version": "2.7.9"
  }
 },
 "nbformat": 4,
 "nbformat_minor": 2
}
