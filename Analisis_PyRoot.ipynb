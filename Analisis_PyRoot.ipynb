{
 "cells": [
  {
   "cell_type": "markdown",
   "metadata": {},
   "source": [
    "# Análisis de datos utilizando PyRoot\n"
   ]
  },
  {
   "cell_type": "code",
   "execution_count": 6,
   "metadata": {
    "collapsed": false,
    "scrolled": true
   },
   "outputs": [],
   "source": [
    "import ROOT\n",
    "import sys\n",
    "import os"
   ]
  },
  {
   "cell_type": "code",
   "execution_count": 12,
   "metadata": {
    "collapsed": false
   },
   "outputs": [
    {
     "name": "stdout",
     "output_type": "stream",
     "text": [
      "/home/camilo/Proyectos/MadGraph/Notebooks\n"
     ]
    }
   ],
   "source": [
    "cwd = os.getcwd()\n",
    "print cwd"
   ]
  },
  {
   "cell_type": "code",
   "execution_count": 15,
   "metadata": {
    "collapsed": false
   },
   "outputs": [],
   "source": [
    "os.chdir(\"/home/camilo/Proyectos/MadGraph/Ejemplos_Clase/InclusiveTTbar1J\")"
   ]
  },
  {
   "cell_type": "code",
   "execution_count": 17,
   "metadata": {
    "collapsed": false
   },
   "outputs": [],
   "source": [
    "ROOT.gSystem.Load(\"Delphes/libDelphes.so\")\n",
    "MainChain=ROOT.TChain(\"Delphes\")"
   ]
  },
  {
   "cell_type": "code",
   "execution_count": 21,
   "metadata": {
    "collapsed": false
   },
   "outputs": [
    {
     "data": {
      "text/plain": [
       "['HTML',\n",
       " 'Cards',\n",
       " 'SubProcesses',\n",
       " 'Source',\n",
       " 'TemplateVersion.txt',\n",
       " 'MGMEVersion.txt',\n",
       " 'madevent.tar.gz',\n",
       " 'bin',\n",
       " 'Events',\n",
       " 'README.systematics',\n",
       " 'README',\n",
       " 'index.html',\n",
       " 'lib',\n",
       " 'crossx.html']"
      ]
     },
     "execution_count": 21,
     "metadata": {},
     "output_type": "execute_result"
    }
   ],
   "source": [
    "os.listdir(\"/home/camilo/Proyectos/MadGraph/Ejemplos_Clase/InclusiveTTbar1J\")"
   ]
  },
  {
   "cell_type": "code",
   "execution_count": null,
   "metadata": {
    "collapsed": true
   },
   "outputs": [],
   "source": [
    "MainChain.Add(\"delphes_events.root\")\n",
    "MainChain.Draw(\"Jet_size >> NumeroDeJets(10,0,10)\",\"\")"
   ]
  }
 ],
 "metadata": {
  "kernelspec": {
   "display_name": "Python 2",
   "language": "python",
   "name": "python2"
  },
  "language_info": {
   "codemirror_mode": {
    "name": "ipython",
    "version": 2
   },
   "file_extension": ".py",
   "mimetype": "text/x-python",
   "name": "python",
   "nbconvert_exporter": "python",
   "pygments_lexer": "ipython2",
   "version": "2.7.13"
  }
 },
 "nbformat": 4,
 "nbformat_minor": 2
}
