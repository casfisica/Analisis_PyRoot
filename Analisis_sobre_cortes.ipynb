{
 "cells": [
  {
   "cell_type": "markdown",
   "metadata": {},
   "source": [
    "### Cargo los paquetes nesesarias"
   ]
  },
  {
   "cell_type": "code",
   "execution_count": null,
   "metadata": {},
   "outputs": [],
   "source": [
    "#from IPython.core.interactiveshell import InteractiveShell\n",
    "import ROOT\n",
    "import os\n",
    "import commands\n",
    "import math\n",
    "####################TABLES########################################################\n",
    "from tabulate import tabulate\n",
    "from IPython.display import display, Math, Latex\n",
    "from IPython.display import HTML\n",
    "#####################Gráficas###########################################################\n",
    "from ROOT import TH1F, TFile, TCanvas, THStack\n",
    "#InteractiveShell.ast_node_interactivity = \"all\" # Para tener el modo interactivo completo"
   ]
  },
  {
   "cell_type": "markdown",
   "metadata": {},
   "source": [
    "# Secciones Eficaces y Branching Ratios"
   ]
  },
  {
   "cell_type": "markdown",
   "metadata": {},
   "source": [
    "## Secciones Eficaces"
   ]
  },
  {
   "cell_type": "code",
   "execution_count": null,
   "metadata": {
    "collapsed": true
   },
   "outputs": [],
   "source": [
    "#Format:\n",
    "#Name={'value': , 'stat':  , 'sys': , 'Theo': , 'lum': , 'source': };\n",
    "Sig_WW_13TeV={'value': 63.21 , 'stat': 'NA' , 'sys': 'NA'  , 'Theo': 'NA'  , 'lum': 'NA'  , 'source': '<a href=\"https://\">reference</a>'};\n",
    "Sig_tW_13TeV={'value': 35.6  , 'stat': 'NA'  , 'sys': 'NA'  , 'Theo': 'NA'  , 'lum': 'NA'  , 'source': '<a href=\"https://\">reference</a>'};\n",
    "Sig_DY_13TeV={'value': 437.4686, 'stat': 'NA' , 'sys': 'NA'  , 'Theo': 'NA'  , 'lum': 'NA' , 'source': '<a href=\"https://\">reference</a>'};\n",
    "Sig_tt_13TeV={'value': 831.76 , 'stat': 'NA' , 'sys': 'NA' , 'Theo': 'NA'  , 'lum': 'NA' , 'source': '<a href=\"https://\">reference</a>'};\n",
    "Sig_WZ_13TeV={'value': 50.6  , 'stat': 'NA' , 'sys': 'NA' , 'Theo': 'NA'  , 'lum': 'NA' , 'source': '<a href=\"https://\">reference</a>'};\n",
    "Cross_Sections={'Sig_WW_13TeV':Sig_WW_13TeV,'Sig_tW_13TeV':Sig_tW_13TeV,'Sig_DY_13TeV':Sig_DY_13TeV,'Sig_tt_13TeV':Sig_tt_13TeV,'Sig_WZ_13TeV':Sig_WZ_13TeV};"
   ]
  },
  {
   "cell_type": "markdown",
   "metadata": {},
   "source": [
    "## Branching Ratios"
   ]
  },
  {
   "cell_type": "code",
   "execution_count": null,
   "metadata": {
    "collapsed": true
   },
   "outputs": [],
   "source": [
    "Br_t_Wb=  {'value': 0.957  , 'sys': 0.07  , 'lum': 'NA' , 'Theo': 'NA'  , 'lum': 'NA' , 'source':'<a href=\"http://iopscience.iop.org/1674-1137/40/10/100001\">pag 1.981</a>'}\n",
    "Br_W_munu={'value': 0.1063 , 'sys': 0.0015 , 'lum': 'NA' , 'Theo': 'NA'  , 'lum': 'NA' , 'source':'<a href=\"http://iopscience.iop.org/1674-1137/40/10/100001\">pag 617</a>'}\n",
    "Br_Z_mumu={'value': 0.03366 , 'sys': 0.00007 , 'lum': 'NA' , 'Theo': 'NA'  , 'lum': 'NA' , 'source':'<a href=\"http://iopscience.iop.org/1674-1137/40/10/100001\">pag 30</a>'}\n",
    "Br_W_jj={'value': 0.6741 , 'sys': 0.0027 , 'lum': 'NA' , 'Theo': 'NA'  , 'lum': 'NA' , 'source':'<a href=\"http://iopscience.iop.org/1674-1137/40/10/100001\">pag 29</a>'}\n",
    "\n",
    "Br={'Br_t_Wb':Br_t_Wb,'Br_W_munu':Br_W_munu,'Br_Z_mumu':Br_Z_mumu,'Br_W_jj':Br_W_jj};"
   ]
  },
  {
   "cell_type": "markdown",
   "metadata": {},
   "source": [
    "## Secciones Eficaces Finales"
   ]
  },
  {
   "cell_type": "markdown",
   "metadata": {
    "collapsed": true
   },
   "source": [
    "Se Construllen las secciones eficaces para cada uno de los procesos:\n",
    "* $pp\\rightarrow t\\bar{t}\\rightarrow W^{-}bW^{+}\\bar{b}\\rightarrow b\\mu\\bar{\\nu}_{\\mu}\\bar{b}\\bar{\\mu}\\nu_{\\mu}$, con sección eficaz: $\\sigma_{2j2\\mu}=\\sigma_{tt}\\times Br^{2}\\left(t\\rightarrow Wb\\right)\\times Br^{2}\\left(W\\rightarrow\\mu\\nu_{\\mu}\\right)$\n",
    "* $pp\\rightarrow WW\\rightarrow\\mu\\nu_{\\mu}\\mu\\nu_{\\mu}$, con sección eficaz: $\\sigma_{2\\mu E_{T}}=\\sigma_{WW}\\times Br^{2}\\left(W\\rightarrow\\mu\\nu_{\\mu}\\right)$\n",
    "* $pp\\rightarrow tW\\rightarrow bWW\\rightarrow b\\mu\\nu_{\\mu}\\mu\\nu_{\\mu}$, con sección eficaz: $\\sigma_{j2\\mu}=\\sigma_{tW}\\times Br\\left(t\\rightarrow Wb\\right)\\times Br^{2}\\left(W\\rightarrow\\mu\\nu_{\\mu}\\right)$\n",
    "* $pp\\rightarrow Z/\\gamma\\rightarrow\\mu\\bar{\\mu}$, con sección eficaz: $\\sigma_{2\\mu}=4\\sigma_{WW}\\times Br\\left(Z/\\gamma\\rightarrow\\mu\\bar{\\mu}\\right)$\n",
    "* $pp\\rightarrow WZ\\rightarrow jj\\mu\\bar{\\mu}$, con sección eficaz: $\\sigma_{jj2\\mu}=\\sigma_{WZ}\\times Br\\left(W\\rightarrow jj\\right)\\times Br\\left(Z\\rightarrow\\mu\\bar{\\mu}\\right)$\n"
   ]
  },
  {
   "cell_type": "code",
   "execution_count": null,
   "metadata": {
    "collapsed": true
   },
   "outputs": [],
   "source": [
    "ALL_Cross_Sections={};\n",
    "ALL_Cross_Sections['BackGround-DY_2j-Run0']=4*Cross_Sections['Sig_DY_13TeV']['value']*Br['Br_Z_mumu']['value'];\n",
    "ALL_Cross_Sections['BackGround-tW-Run0']=Cross_Sections['Sig_tW_13TeV']['value']*Br['Br_t_Wb']['value']*Br['Br_Z_mumu']['value']*Br['Br_Z_mumu']['value'];\n",
    "ALL_Cross_Sections['BackGround-WW-Run0']=Cross_Sections['Sig_WW_13TeV']['value']*Br['Br_W_munu']['value']*Br['Br_W_munu']['value'];\n",
    "ALL_Cross_Sections['BackGround-mumuW']=Cross_Sections['Sig_WZ_13TeV']['value']*Br['Br_W_jj']['value']*Br['Br_Z_mumu']['value'];\n",
    "ALL_Cross_Sections['Signal_2j_mu-nu-Run0']=Cross_Sections['Sig_tt_13TeV']['value']*Br['Br_t_Wb']['value']*Br['Br_t_Wb']['value']*Br['Br_Z_mumu']['value']*Br['Br_Z_mumu']['value'];"
   ]
  },
  {
   "cell_type": "markdown",
   "metadata": {},
   "source": [
    "### Función para normalizar a una luminocidad"
   ]
  },
  {
   "cell_type": "code",
   "execution_count": null,
   "metadata": {
    "collapsed": true
   },
   "outputs": [],
   "source": [
    "def wNorm(lum, Nevent , CS):\n",
    "    \"\"\"Función para normalizar el numero de eventos, [lum]=fb^{-1}, [sigma]=pb\"\"\"\n",
    "    lumpb=lum*1000.0;\n",
    "    Cte=(lumpb*CS)/Nevent\n",
    "    return Cte;  "
   ]
  },
  {
   "cell_type": "markdown",
   "metadata": {
    "collapsed": true
   },
   "source": [
    "## Funciones para generar las tablas"
   ]
  },
  {
   "cell_type": "code",
   "execution_count": null,
   "metadata": {
    "collapsed": true
   },
   "outputs": [],
   "source": [
    "def TABLA( Z, formato= '.3e', columna1='Cuts',indices=\"never\"):\n",
    "    \"\"\"formato = .2f , .4e,..., indices= \"never\" or \"always\" \"\"\"\n",
    "    tabla=[];\n",
    "    head=Z.keys();\n",
    "    head.sort();\n",
    "    tmp=Z[Z.keys()[0]].keys();\n",
    "    tmp.sort();\n",
    "    for i in tmp:\n",
    "        entries=[];\n",
    "        entries.append(i);\n",
    "        for j in head:\n",
    "            entries.append(Z[j][i]);\n",
    "        tabla.append(entries);\n",
    "    head.insert(0, columna1);\n",
    "    tabla.insert(0,head);\n",
    "    \n",
    "    return HTML(tabulate(tabla, headers= \"firstrow\", floatfmt= formato, tablefmt='html',showindex=indices))"
   ]
  },
  {
   "cell_type": "code",
   "execution_count": null,
   "metadata": {
    "collapsed": true
   },
   "outputs": [],
   "source": [
    "#Para ver el el diccionario sin una etrada\n",
    "def removekey(d, key):\n",
    "    r = dict(d)\n",
    "    del r[key]\n",
    "    return r"
   ]
  },
  {
   "cell_type": "markdown",
   "metadata": {},
   "source": [
    "# Análisis de datos utilizando PyRoot\n"
   ]
  },
  {
   "cell_type": "markdown",
   "metadata": {},
   "source": [
    "### Cargo las Librerías nesesarias"
   ]
  },
  {
   "cell_type": "code",
   "execution_count": null,
   "metadata": {},
   "outputs": [],
   "source": [
    "ROOT.gROOT.Reset()\n",
    "#Esta es la ruta a la librería dinámica de Delphes (debe de ser compilada con la misma versión de root del notebook)\n",
    "#Solo funciona con la versión de Delphes compilada con root 5 (y obiamente root 5)\n",
    "ROOT.gSystem.AddDynamicPath(\"~/HEPTools/Delphes/delphes5/\")\n",
    "ROOT.gSystem.Load(\"libDelphes\");"
   ]
  },
  {
   "cell_type": "markdown",
   "metadata": {},
   "source": [
    "### Construcción de los TChain"
   ]
  },
  {
   "cell_type": "code",
   "execution_count": null,
   "metadata": {
    "collapsed": true
   },
   "outputs": [],
   "source": [
    "#Lista de carpetas le analisis\n",
    "#Path1= \"/scratch/cms/Datos/\" #Inportante dejar aquí el último /, PARA CUANDO SE TRABAJA EN GFIF\n",
    "Path1= \"/scratch/cms/cms_gfif/Datos/\" #Inportante dejar aquí el último /, PARA CUANDO SE REMOTAMENTE\n",
    "Path2= \"/Events\"\n",
    "Path3= \"/tag_1_delphes_events.root\"\n",
    "ListOfFolders = [\"BackGround-DY_2j-Run0\",\"BackGround-tW-Run0\",\"BackGround-WW-Run0\",\"Signal_2j_mu-nu-Run0\",\"BackGround-mumuW\"]\n"
   ]
  },
  {
   "cell_type": "code",
   "execution_count": null,
   "metadata": {
    "collapsed": true
   },
   "outputs": [],
   "source": [
    "ths1 = THStack (\"test1\",\"test1\");"
   ]
  },
  {
   "cell_type": "code",
   "execution_count": null,
   "metadata": {},
   "outputs": [],
   "source": [
    "#Para guardar la info sobre los cortes\n",
    "signal={};\n",
    "#Para guardar los histogramas\n",
    "Hist={};\n",
    "for Folder in ListOfFolders:\n",
    "    comand =\"ls \" + Path1 + Folder + Path2;\n",
    "    tmp = commands.getstatusoutput( comand )\n",
    "    \n",
    "    #Parto la cadena de caracteres por '\\n', y asigno las partes a un arreglo\n",
    "    Runs = tmp[1].split(\"\\n\");\n",
    "    \n",
    "    #Creo el objeto TChain\n",
    "    MainChain=ROOT.TChain(\"Delphes\")\n",
    "    \n",
    "    #Lleno el objeto MainChain con las salidas de MadGraph-Pythia_Delphes\n",
    "    for run in range(len(Runs)):\n",
    "        imput = Path1 + Folder + Path2 + \"/\" + Runs[run] + \"/tag_1_delphes_events.root\"\n",
    "        MainChain.Add(imput)\n",
    "        \n",
    "    #Creo el objeto ExRootTreeReader\n",
    "    treeReader = ROOT.ExRootTreeReader(MainChain)\n",
    "    numberOfEntries = treeReader.GetEntries()\n",
    "    \n",
    "    #Obtengo las ramas que voy a usar\n",
    "    branchJet = treeReader.UseBranch(\"Jet\")\n",
    "    branchMuon = treeReader.UseBranch(\"Muon\")\n",
    "    branchMissingET = treeReader.UseBranch(\"MissingET\")\n",
    "    \n",
    "    #Inicializo los Histogramas\n",
    "    MisE = TH1F(\"MisE\",\"Missing Energi\",100,0,500);\n",
    "    PtM1 = TH1F(\"PtM1\",\"Pt Leading Muon\",100,0,500);\n",
    "    PtM2 = TH1F(\"PtM2\",\"Pt subLeading Muon\",100,0,500);\n",
    "    IMM  = TH1F(\"IMM\",\"Invariant Mass Of two Leading Muons\",100,0,500);\n",
    "\n",
    "    # Inicializo los contadores\n",
    "    cut1=0; cut2=0; cut3=0; cut4=0; cut5=0;\n",
    "    cuts={};\n",
    "    histo={};\n",
    "    \n",
    "    # Loop sobre los eventos\n",
    "    for entry in range(0, numberOfEntries):\n",
    "        #Se carga la entrada espesífica\n",
    "        treeReader.ReadEntry(entry)\n",
    "        \n",
    "        # Primer corte, al menos 2 jet\n",
    "        if branchJet.GetEntries() > 1:\n",
    "            cut1 = cut1 +1;\n",
    "            bcount=0;\n",
    "            for i in range(0, branchJet.GetEntries() ): #Esta parte es la que produce el error (TClass::TClass:0: RuntimeWarning: no dictionary for class CompBase is available)\n",
    "                jet = branchJet.At(i)\n",
    "                #Cuento cuantos jet hay identificados como b quarks\n",
    "                if jet.BTag :\n",
    "                    bcount = bcount + 1;\n",
    "            \n",
    "            # Segundo corte, al menos 2 jet b       \n",
    "            if bcount > 1:\n",
    "                cut2 = cut2 +1;\n",
    "            \n",
    "                # If event contains at least 2 muons\n",
    "                if branchMuon.GetEntries() > 1:\n",
    "                    cut3 = cut3 +1;\n",
    "                    # Tomo los dos muones mas energéticos y comparo sus cargas eléctricas\n",
    "                    muon1 = branchMuon.At(0)\n",
    "                    muon2 = branchMuon.At(1)\n",
    "                \n",
    "                    #Corte 4: Que los muones mas energéticos tengan cargas diferentes\n",
    "                    if muon1.Charge*muon2.Charge < 0:\n",
    "                        cut4 = cut4 +1;\n",
    "\n",
    "                    \n",
    "                        #Corte 5: muones mas energéticos tengan masa invariante diferente de la del Z\n",
    "                        MassMuon= (muon1.P4()+muon2.P4()).M();\n",
    "                        if not((MassMuon>80) and (MassMuon<100)):\n",
    "                            cut5 = cut5 +1;\n",
    "                            \n",
    "                            #Guardado en los histogramas\n",
    "                            ME=branchMissingET.At(0)\n",
    "                            MisE.Fill(ME.MET);\n",
    "                            PtM1.Fill(muon1.PT);\n",
    "                            PtM2.Fill(muon2.PT);\n",
    "                            IMM.Fill(MassMuon);\n",
    "    \n",
    "    \n",
    "\n",
    "    cuts['C0']=numberOfEntries;\n",
    "    cuts['C1'] = cut1;\n",
    "    cuts['C2'] = cut2;\n",
    "    cuts['C3'] = cut3;\n",
    "    cuts['C4'] = cut4;\n",
    "    cuts['C5'] = cut5; \n",
    "    signal[Folder]=cuts\n",
    "    histo['MissingET']=MisE;\n",
    "    histo['PtLMuon']=PtM1;\n",
    "    histo['PtSLMuon']=PtM2;\n",
    "    histo['IMMuonPair']=IMM;\n",
    "    \n",
    "    Hist[Folder]=histo;"
   ]
  },
  {
   "cell_type": "markdown",
   "metadata": {},
   "source": [
    "Donde Co,C1,C2,... Son el número de eventos, sin cortes, con el primer corte, segundo y asi susecivamente."
   ]
  },
  {
   "cell_type": "code",
   "execution_count": null,
   "metadata": {
    "collapsed": true
   },
   "outputs": [],
   "source": [
    "EffA={};  #Eficiencia Acumulada\n",
    "for entry in signal.keys():\n",
    "    EffCut={};  \n",
    "    for i in signal[entry].keys():\n",
    "        EffCut[i] = (1.0*signal[entry][i])/(1.0*signal[entry]['C0']);\n",
    "    EffA['EffA_'+entry] = EffCut;"
   ]
  },
  {
   "cell_type": "code",
   "execution_count": null,
   "metadata": {
    "collapsed": true
   },
   "outputs": [],
   "source": [
    "Effr={};  #Eficiencia Relativa\n",
    "a=signal[entry].keys()\n",
    "a.sort()\n",
    "for entry in signal.keys():\n",
    "    EffCut={};\n",
    "    j=0;\n",
    "    a1=a[j];\n",
    "    for i in a[1:]:\n",
    "        EffCut[i] = (1.0*signal[entry][i])/(1.0*signal[entry][a1]);\n",
    "        a1=a[j];\n",
    "        j=j+1;\n",
    "    Effr['Effr_'+entry] = EffCut;"
   ]
  },
  {
   "cell_type": "code",
   "execution_count": null,
   "metadata": {
    "collapsed": true
   },
   "outputs": [],
   "source": [
    "Z={};  #Sensitividad\n",
    "a=signal.keys()\n",
    "a.remove('Signal_2j_mu-nu-Run0')\n",
    "a.sort()\n",
    "B=0;\n",
    "for entry in a:\n",
    "    Zi={};  \n",
    "    b=signal[entry].keys()\n",
    "    b.sort()\n",
    "    for i in signal[entry].keys():\n",
    "        Zi[i] = (1.0*signal['Signal_2j_mu-nu-Run0'][i])/(math.sqrt((1.0*signal['Signal_2j_mu-nu-Run0'][i])+(1.0*signal[entry][i])));\n",
    "        B=(1.0*signal[entry][i])+B;\n",
    "    Z[\"Sensitivity_\"+entry] = Zi;\n",
    "    ZZ = (1.0*signal['Signal_2j_mu-nu-Run0'][i])/(math.sqrt((1.0*signal['Signal_2j_mu-nu-Run0'][i])+B));"
   ]
  },
  {
   "cell_type": "code",
   "execution_count": null,
   "metadata": {},
   "outputs": [],
   "source": [
    "TABLA(signal)"
   ]
  },
  {
   "cell_type": "code",
   "execution_count": null,
   "metadata": {},
   "outputs": [],
   "source": [
    "TABLA(Effr, '.3f')"
   ]
  },
  {
   "cell_type": "code",
   "execution_count": null,
   "metadata": {},
   "outputs": [],
   "source": [
    "TABLA(EffA, '.3f')"
   ]
  },
  {
   "cell_type": "code",
   "execution_count": null,
   "metadata": {},
   "outputs": [],
   "source": [
    "TABLA(Z, '.3f')"
   ]
  },
  {
   "cell_type": "markdown",
   "metadata": {},
   "source": [
    "## Cross sections and Branchings Ratios"
   ]
  },
  {
   "cell_type": "code",
   "execution_count": null,
   "metadata": {},
   "outputs": [],
   "source": [
    "TABLA(Cross_Sections, '.3f', 'Item')"
   ]
  },
  {
   "cell_type": "code",
   "execution_count": null,
   "metadata": {},
   "outputs": [],
   "source": [
    "TABLA(Br, '.3f','Item')"
   ]
  },
  {
   "cell_type": "code",
   "execution_count": null,
   "metadata": {
    "collapsed": true
   },
   "outputs": [],
   "source": [
    "def Lum(CS,NEven):\n",
    "    \"\"\"Calcula la Luminosidad [lum]=fb^{-1} dado un numero de eventos y la sección eficaz de producción [Sigma]=pb\"\"\"\n",
    "    lumifb=[]\n",
    "    for i in NEven:\n",
    "        lumi=round((i/CS)*0.001,2);\n",
    "        lumifb.append(lumi);\n",
    "    return lumifb;"
   ]
  },
  {
   "cell_type": "code",
   "execution_count": null,
   "metadata": {},
   "outputs": [],
   "source": [
    "table=[['Proceso','$\\sigma[pb] $','NEvent [C0,C1,C2,C3,C4,C5]','$\\mathcal{N} [fb^{-1}]$']];\n",
    "for proces in ALL_Cross_Sections.keys():\n",
    "    Line=[];\n",
    "    V=signal[proces];\n",
    "    Line=[proces,round(ALL_Cross_Sections[proces],3),[V['C0'],V['C1'],V['C2'],V['C3'],V['C4'],V['C5']],Lum(ALL_Cross_Sections[proces],[V['C0'],V['C1'],V['C2'],V['C3'],V['C4'],V['C5']])];\n",
    "    table.append(Line);\n",
    "    \n",
    "HTML(tabulate(table, tablefmt=\"html\",floatfmt='.3e'))"
   ]
  },
  {
   "cell_type": "markdown",
   "metadata": {
    "collapsed": true
   },
   "source": [
    "# Con los Pesos"
   ]
  },
  {
   "cell_type": "code",
   "execution_count": null,
   "metadata": {
    "collapsed": true
   },
   "outputs": [],
   "source": [
    "lum=35; #35fb^-1"
   ]
  },
  {
   "cell_type": "code",
   "execution_count": null,
   "metadata": {
    "collapsed": true
   },
   "outputs": [],
   "source": [
    "EffA_W={};  #Eficiencia Acumulada\n",
    "for entry in signal.keys():\n",
    "    EffCut={};  \n",
    "    for i in signal[entry].keys():\n",
    "        wN1=wNorm(lum, signal[entry]['C0'] , ALL_Cross_Sections[entry]);\n",
    "        wN2=wNorm(lum, signal[entry]['C0'] , ALL_Cross_Sections[entry]);\n",
    "        EffCut[i] = (1.0*signal[entry][i]*wN1)/(1.0*signal[entry]['C0']*wN1);\n",
    "    EffA_W['EffA_W_'+entry] = EffCut;"
   ]
  },
  {
   "cell_type": "code",
   "execution_count": null,
   "metadata": {},
   "outputs": [],
   "source": [
    "TABLA(EffA_W)"
   ]
  },
  {
   "cell_type": "code",
   "execution_count": null,
   "metadata": {
    "collapsed": true
   },
   "outputs": [],
   "source": [
    "Effr_W={};  #Eficiencia Relativa\n",
    "a=signal[entry].keys()\n",
    "a.sort()\n",
    "for entry in signal.keys():\n",
    "    EffCut={};\n",
    "    j=0;\n",
    "    a1=a[j];\n",
    "    for i in a[1:]:\n",
    "        wN1=wNorm(lum, signal[entry]['C0'] , ALL_Cross_Sections[entry]);\n",
    "        wN2=wNorm(lum, signal[entry][a1] , ALL_Cross_Sections[entry]);\n",
    "        EffCut[i] = (1.0*signal[entry][i]*wN1)/(1.0*signal[entry][a1]*wN2);\n",
    "        a1=a[j];\n",
    "        j=j+1;\n",
    "    Effr_W['Effr_W_'+entry] = EffCut;"
   ]
  },
  {
   "cell_type": "code",
   "execution_count": null,
   "metadata": {},
   "outputs": [],
   "source": [
    "TABLA(Effr_W)"
   ]
  },
  {
   "cell_type": "code",
   "execution_count": null,
   "metadata": {
    "collapsed": true
   },
   "outputs": [],
   "source": [
    "ZW={};  #Sensitividad\n",
    "a=signal.keys()\n",
    "a.remove('Signal_2j_mu-nu-Run0')\n",
    "a.sort()\n",
    "BW=0;\n",
    "wN1=wNorm(lum, signal['Signal_2j_mu-nu-Run0']['C0'] , ALL_Cross_Sections['Signal_2j_mu-nu-Run0']);\n",
    "for entry in a:\n",
    "    Zi={};  \n",
    "    b=signal[entry].keys()\n",
    "    b.sort()\n",
    "    for i in signal[entry].keys():\n",
    "\n",
    "        wN2=wNorm(lum, signal[entry]['C0'] , ALL_Cross_Sections[entry]);\n",
    "        Zi[i] = (1.0*signal['Signal_2j_mu-nu-Run0'][i]*wN1)/(math.sqrt((1.0*signal['Signal_2j_mu-nu-Run0'][i]*wN1)+(1.0*signal[entry][i]*wN2)));\n",
    "        BW=(1.0*signal[entry][i]*wN2)+B;\n",
    "    ZW[\"Sensitivity_\"+entry] = Zi;\n",
    "ZZW = (1.0*signal['Signal_2j_mu-nu-Run0']['C5']*wN1)/(math.sqrt((1.0*signal['Signal_2j_mu-nu-Run0']['C5']*wN1)+B));"
   ]
  },
  {
   "cell_type": "code",
   "execution_count": null,
   "metadata": {},
   "outputs": [],
   "source": [
    "TABLA(ZW)"
   ]
  },
  {
   "cell_type": "code",
   "execution_count": null,
   "metadata": {},
   "outputs": [],
   "source": [
    "ZZW"
   ]
  },
  {
   "cell_type": "code",
   "execution_count": null,
   "metadata": {},
   "outputs": [],
   "source": [
    "Hist['BackGround-DY_2j-Run0']"
   ]
  },
  {
   "cell_type": "code",
   "execution_count": null,
   "metadata": {
    "collapsed": true
   },
   "outputs": [],
   "source": [
    "cl = TCanvas(\"cl\",\"cl\",10,10,700,900);\n",
    "ths1 = THStack (\"IMTLM\",\"Invearian Mass of Two Leading Muons\");\n",
    "ths1.Add(Hist['BackGround-DY_2j-Run0']['IMMuonPair']);\n",
    "ths1.Add(Hist['BackGround-WW-Run0']['IMMuonPair']);\n",
    "ths1.Add(Hist['BackGround-tW-Run0']['IMMuonPair']);\n",
    "ths1.Add(Hist['Signal_2j_mu-nu-Run0']['IMMuonPair']);\n",
    "ths1.Draw()"
   ]
  },
  {
   "cell_type": "code",
   "execution_count": null,
   "metadata": {
    "collapsed": true
   },
   "outputs": [],
   "source": [
    "cl1 = TCanvas(\"cl1\",\"cl1\",10,10,700,900);\n",
    "ths11 = THStack (\"MisE\",\"Missing Energy\");\n",
    "ths11.Add(Hist['BackGround-DY_2j-Run0']['MissingET']);\n",
    "ths11.Add(Hist['BackGround-WW-Run0']['MissingET']);\n",
    "ths11.Add(Hist['BackGround-tW-Run0']['MissingET']);\n",
    "ths11.Add(Hist['Signal_2j_mu-nu-Run0']['MissingET']);\n",
    "ths11.Draw()"
   ]
  },
  {
   "cell_type": "code",
   "execution_count": null,
   "metadata": {},
   "outputs": [],
   "source": [
    "cl2 = TCanvas(\"cl2\",\"cl2\",10,10,700,900);\n",
    "ths12 = THStack (\"PtM1\",\"Pt of the Leading Muon\");\n",
    "ths12.Add(Hist['BackGround-DY_2j-Run0']['PtLMuon']);\n",
    "ths12.Add(Hist['BackGround-WW-Run0']['PtLMuon']);\n",
    "ths12.Add(Hist['BackGround-tW-Run0']['PtLMuon']);\n",
    "ths12.Add(Hist['Signal_2j_mu-nu-Run0']['PtLMuon']);\n",
    "ths12.Draw()"
   ]
  },
  {
   "cell_type": "code",
   "execution_count": null,
   "metadata": {},
   "outputs": [],
   "source": [
    "cl3 = TCanvas(\"cl3\",\"cl3\",10,10,700,900);\n",
    "ths13 = THStack (\"PtM1\",\"Pt of the second Leading Muon\");\n",
    "ths13.Add(Hist['BackGround-DY_2j-Run0']['PtSLMuon']);\n",
    "ths13.Add(Hist['BackGround-WW-Run0']['PtSLMuon']);\n",
    "ths13.Add(Hist['BackGround-tW-Run0']['PtSLMuon']);\n",
    "ths13.Add(Hist['Signal_2j_mu-nu-Run0']['PtSLMuon']);\n",
    "ths13.Draw()"
   ]
  },
  {
   "cell_type": "code",
   "execution_count": null,
   "metadata": {
    "collapsed": true
   },
   "outputs": [],
   "source": [
    "ths11.Draw()"
   ]
  },
  {
   "cell_type": "code",
   "execution_count": null,
   "metadata": {
    "collapsed": true
   },
   "outputs": [],
   "source": []
  }
 ],
 "metadata": {
  "kernelspec": {
   "display_name": "Python 2",
   "language": "python",
   "name": "python2"
  },
  "language_info": {
   "codemirror_mode": {
    "name": "ipython",
    "version": 2
   },
   "file_extension": ".py",
   "mimetype": "text/x-python",
   "name": "python",
   "nbconvert_exporter": "python",
   "pygments_lexer": "ipython2",
   "version": "2.7.13"
  }
 },
 "nbformat": 4,
 "nbformat_minor": 2
}
