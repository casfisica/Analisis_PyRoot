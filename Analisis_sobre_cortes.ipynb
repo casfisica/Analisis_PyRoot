{
 "cells": [
  {
   "cell_type": "markdown",
   "metadata": {},
   "source": [
    "### Cargo los paquetes nesesarias"
   ]
  },
  {
   "cell_type": "code",
   "execution_count": 1,
   "metadata": {
    "collapsed": false
   },
   "outputs": [],
   "source": [
    "#from IPython.core.interactiveshell import InteractiveShell\n",
    "import ROOT\n",
    "import os\n",
    "import commands\n",
    "import math\n",
    "####################TABLES########################################################\n",
    "from tabulate import tabulate\n",
    "from IPython.display import display, Math, Latex\n",
    "from IPython.display import HTML\n",
    "#InteractiveShell.ast_node_interactivity = \"all\" # Para tener el modo interactivo completo"
   ]
  },
  {
   "cell_type": "markdown",
   "metadata": {},
   "source": [
    "# Secciones Eficaces y Branching Ratios"
   ]
  },
  {
   "cell_type": "markdown",
   "metadata": {},
   "source": [
    "## Secciones Eficaces"
   ]
  },
  {
   "cell_type": "code",
   "execution_count": 2,
   "metadata": {
    "collapsed": true
   },
   "outputs": [],
   "source": [
    "#Format:\n",
    "#Name={'value': , 'stat':  , 'sys': , 'Theo': , 'lum': , 'source': };\n",
    "Sig_WW_13TeV={'value': 142.0 , 'stat': 5.0  , 'sys': 13.0  , 'Theo': 'NA'  , 'lum': 3.2  , 'source': '<a href=\"https://atlas.web.cern.ch/Atlas/GROUPS/PHYSICS/CombinedSummaryPlots/SM/ATLAS_c_SMSummary_TotalXsect_rotated/ATLAS_c_SMSummary_TotalXsect_rotated.pdf\">reference</a>'};\n",
    "Sig_tW_13TeV={'value': 94.0  , 'stat': 10.0  , 'sys': 28.0  , 'Theo': 'NA'  , 'lum': 3.2  , 'source': '<a href=\"https://atlas.web.cern.ch/Atlas/GROUPS/PHYSICS/CombinedSummaryPlots/SM/ATLAS_c_SMSummary_TotalXsect_rotated/ATLAS_c_SMSummary_TotalXsect_rotated.pdf\">reference</a>'};\n",
    "Sig_DY_13TeV={'value': 1170.0, 'stat': 60.0 , 'sys': 'NA'  , 'Theo': 'NA'  , 'lum': 'NA' , 'source': '<a href=\"https://arxiv.org/pdf/1407.3643.pdf\">Pag 11</a>'};\n",
    "Sig_tt_13TeV={'value': 835.0 , 'stat': 25.0 , 'sys': 118.0 , 'Theo': 'NA'  , 'lum': 23.0 , 'source': '<a href=\"https://twiki.cern.ch/twiki/pub/CMSPublic/PhysicsResultsTOPSummaryFigures/Top_Summary_13TeV.pdf\">reference</a>'};\n",
    "Sig_WZ_13TeV={'value': 50.6  , 'stat': 26.0 , 'sys': 2.5 , 'Theo': 'NA'  , 'lum': 23.0 , 'source': '<a href=\"https://twiki.cern.ch/twiki/pub/CMSPublic/PhysicsResultsTOPSummaryFigures/Top_Summary_13TeV.pdf\">reference</a>'};\n",
    "Cross_Sections={'Sig_WW_13TeV':Sig_WW_13TeV,'Sig_tW_13TeV':Sig_tW_13TeV,'Sig_DY_13TeV':Sig_DY_13TeV,'Sig_tt_13TeV':Sig_tt_13TeV};"
   ]
  },
  {
   "cell_type": "markdown",
   "metadata": {},
   "source": [
    "## Branching Ratios"
   ]
  },
  {
   "cell_type": "code",
   "execution_count": 3,
   "metadata": {
    "collapsed": true
   },
   "outputs": [],
   "source": [
    "Br_t_Wb=  {'value': 95.7  , 'sys': 7.0  , 'lum': 'NA' , 'Theo': 'NA'  , 'lum': 'NA' , 'source':'<a href=\"http://iopscience.iop.org/1674-1137/40/10/100001\">pag 1.981</a>'}\n",
    "Br_W_munu={'value': 10.63 , 'sys': 0.15 , 'lum': 'NA' , 'Theo': 'NA'  , 'lum': 'NA' , 'source':'<a href=\"http://iopscience.iop.org/1674-1137/40/10/100001\">pag 617</a>'}\n",
    "Br_Z_mumu={'value': 3.366 , 'sys': 0.007 , 'lum': 'NA' , 'Theo': 'NA'  , 'lum': 'NA' , 'source':'<a href=\"http://iopscience.iop.org/1674-1137/40/10/100001\">pag 30</a>'}\n",
    "Br_W_jj={'value': 67.41 , 'sys': 0.27 , 'lum': 'NA' , 'Theo': 'NA'  , 'lum': 'NA' , 'source':'<a href=\"http://iopscience.iop.org/1674-1137/40/10/100001\">pag 29</a>'}\n",
    "\n",
    "Br={'Br_t_Wb':Br_t_Wb,'Br_W_munu':Br_W_munu,'Br_Z_mumu':Br_Z_mumu};"
   ]
  },
  {
   "cell_type": "markdown",
   "metadata": {},
   "source": [
    "## Secciones Eficaces Finales"
   ]
  },
  {
   "cell_type": "markdown",
   "metadata": {
    "collapsed": true
   },
   "source": [
    "Se Construllen las secciones eficaces para cada uno de los procesos"
   ]
  },
  {
   "cell_type": "code",
   "execution_count": null,
   "metadata": {
    "collapsed": true
   },
   "outputs": [],
   "source": [
    "ALL_Cross_Sections={};\n",
    "ALL_Cross_Sections['BackGround-DY_2j-Run0']=Cross_Sections['Sig_DY_13TeV'];\n",
    "ALL_Cross_Sections['BackGround-tW-Run0']=Cross_Sections['Sig_tW_13TeV'];\n",
    "ALL_Cross_Sections['BackGround-WW-Run0']=Cross_Sections['Sig_WW_13TeV'];\n",
    "ALL_Cross_Sections['BackGround-mumuW']=Cross_Sections['Sig_WW_13TeV'];\n",
    "ALL_Cross_Sections['Signal_2j_mu-nu-Run0']=Cross_Sections['Sig_tt_13TeV'];"
   ]
  },
  {
   "cell_type": "markdown",
   "metadata": {
    "collapsed": true
   },
   "source": [
    "## Funciones para generar las tablas"
   ]
  },
  {
   "cell_type": "code",
   "execution_count": 4,
   "metadata": {
    "collapsed": true
   },
   "outputs": [],
   "source": [
    "def TABLA( Z, formato= '.3e', columna1='Cuts'):\n",
    "    \"\"\"Formato es el formato de los numeros, ejem: .2f , .4e\"\"\"\n",
    "    tabla=[];\n",
    "    head=Z.keys();\n",
    "    head.sort();\n",
    "    tmp=Z[Z.keys()[0]].keys();\n",
    "    tmp.sort();\n",
    "    for i in tmp:\n",
    "        entries=[];\n",
    "        entries.append(i);\n",
    "        for j in head:\n",
    "            entries.append(Z[j][i]);\n",
    "        tabla.append(entries);\n",
    "    head.insert(0, columna1);\n",
    "    tabla.insert(0,head);\n",
    "    \n",
    "    return HTML(tabulate(tabla, headers= \"firstrow\", floatfmt= formato, tablefmt='html',showindex=\"always\"))"
   ]
  },
  {
   "cell_type": "code",
   "execution_count": 5,
   "metadata": {
    "collapsed": true
   },
   "outputs": [],
   "source": [
    "#Para ver el el diccionario sin una etrada\n",
    "def removekey(d, key):\n",
    "    r = dict(d)\n",
    "    del r[key]\n",
    "    return r"
   ]
  },
  {
   "cell_type": "markdown",
   "metadata": {},
   "source": [
    "# Análisis de datos utilizando PyRoot\n"
   ]
  },
  {
   "cell_type": "markdown",
   "metadata": {},
   "source": [
    "### Cargo las Librerías nesesarias"
   ]
  },
  {
   "cell_type": "code",
   "execution_count": 6,
   "metadata": {
    "collapsed": true
   },
   "outputs": [],
   "source": [
    "ROOT.gROOT.Reset()\n",
    "#Esta es la ruta a la librería dinámica de Delphes (debe de ser compilada con la misma versión de root del notebook)\n",
    "#Solo funciona con la versión de Delphes compilada con root 5 (y obiamente root 5)\n",
    "ROOT.gSystem.AddDynamicPath(\"~/HEPTools/Delphes/delphes5/\")\n",
    "ROOT.gSystem.Load(\"libDelphes\");"
   ]
  },
  {
   "cell_type": "markdown",
   "metadata": {},
   "source": [
    "### Construcción de los TChain"
   ]
  },
  {
   "cell_type": "code",
   "execution_count": 7,
   "metadata": {
    "collapsed": true
   },
   "outputs": [],
   "source": [
    "#Lista de carpetas le analisis\n",
    "#Path1= \"/scratch/cms/Datos/\" #Inportante dejar aquí el último /, PARA CUANDO SE TRABAJA EN GFIF\n",
    "Path1= \"/scratch/cms/cms_gfif/Datos/\" #Inportante dejar aquí el último /, PARA CUANDO SE REMOTAMENTE\n",
    "Path2= \"/Events\"\n",
    "Path3= \"/tag_1_delphes_events.root\"\n",
    "ListOfFolders = [\"BackGround-DY_2j-Run0\",\"BackGround-tW-Run0\",\"BackGround-WW-Run0\",\"Signal_2j_mu-nu-Run0\",\"BackGround-mumuW\"]\n"
   ]
  },
  {
   "cell_type": "code",
   "execution_count": 8,
   "metadata": {
    "collapsed": false
   },
   "outputs": [
    {
     "name": "stderr",
     "output_type": "stream",
     "text": [
      "TClass::TClass:0: RuntimeWarning: no dictionary for class CompBase is available\n"
     ]
    }
   ],
   "source": [
    "#Para guardar la info sobre los cortes\n",
    "signal={};\n",
    "for Folder in ListOfFolders:\n",
    "    comand =\"ls \" + Path1 + Folder + Path2;\n",
    "    tmp = commands.getstatusoutput( comand )\n",
    "    \n",
    "    #Parto la cadena de caracteres por '\\n', y asigno las partes a un arreglo\n",
    "    Runs = tmp[1].split(\"\\n\");\n",
    "    \n",
    "    #Creo el objeto TChain\n",
    "    MainChain=ROOT.TChain(\"Delphes\")\n",
    "    \n",
    "    #Lleno el objeto MainChain con las salidas de MadGraph-Pythia_Delphes\n",
    "    for run in range(len(Runs)):\n",
    "        imput = Path1 + Folder + Path2 + \"/\" + Runs[run] + \"/tag_1_delphes_events.root\"\n",
    "        MainChain.Add(imput)\n",
    "        \n",
    "    #Creo el objeto ExRootTreeReader\n",
    "    treeReader = ROOT.ExRootTreeReader(MainChain)\n",
    "    numberOfEntries = treeReader.GetEntries()\n",
    "    \n",
    "    #Obtengo las ramas que voy a usar\n",
    "    branchJet = treeReader.UseBranch(\"Jet\")\n",
    "    branchMuon = treeReader.UseBranch(\"Muon\")\n",
    "    branchMissingET = treeReader.UseBranch(\"MissingET\")\n",
    "\n",
    "    # Inicializo los contadores\n",
    "    cut1=0; cut2=0; cut3=0; cut4=0; cut5=0;\n",
    "    cuts={};\n",
    "    \n",
    "    # Loop sobre los eventos\n",
    "    for entry in range(0, numberOfEntries):\n",
    "        #Se carga la entrada espesífica\n",
    "        treeReader.ReadEntry(entry)\n",
    "        \n",
    "        # Primer corte, al menos 2 jet\n",
    "        if branchJet.GetEntries() > 1:\n",
    "            cut1 = cut1 +1;\n",
    "            bcount=0;\n",
    "            for i in range(0, branchJet.GetEntries() ): #Esta parte es la que produce el error (TClass::TClass:0: RuntimeWarning: no dictionary for class CompBase is available)\n",
    "                jet = branchJet.At(i)\n",
    "                #Cuento cuantos jet hay identificados como b quarks\n",
    "                if jet.BTag :\n",
    "                    bcount = bcount + 1;\n",
    "            \n",
    "            # Segundo corte, al menos 2 jet b       \n",
    "            if bcount > 1:\n",
    "                cut2 = cut2 +1;\n",
    "            \n",
    "                # If event contains at least 2 muons\n",
    "                if branchMuon.GetEntries() > 1:\n",
    "                    cut3 = cut3 +1;\n",
    "                    # Tomo los dos muones mas energéticos y comparo sus cargas eléctricas\n",
    "                    muon1 = branchMuon.At(0)\n",
    "                    muon2 = branchMuon.At(1)\n",
    "                \n",
    "                    #Corte 4: Que los muones mas energéticos tengan cargas diferentes\n",
    "                    if muon1.Charge*muon2.Charge < 0:\n",
    "                        cut4 = cut4 +1;\n",
    "\n",
    "                    \n",
    "                        #Corte 5: muones mas energéticos tengan masa invariante diferente de la del Z\n",
    "                        MassMuon= (muon1.P4()+muon2.P4()).M();\n",
    "                        if not((MassMuon>80) and (MassMuon<100)):\n",
    "                            cut5 = cut5 +1;\n",
    "    \n",
    "\n",
    "    cuts['C0']=numberOfEntries;\n",
    "    cuts['C1'] = cut1;\n",
    "    cuts['C2'] = cut2;\n",
    "    cuts['C3'] = cut3;\n",
    "    cuts['C4'] = cut4;\n",
    "    cuts['C5'] = cut5; \n",
    "    signal[Folder]=cuts"
   ]
  },
  {
   "cell_type": "markdown",
   "metadata": {},
   "source": [
    "Donde Co,C1,C2,... Son el número de eventos, sin cortes, con el primer corte, segundo y asi susecivamente."
   ]
  },
  {
   "cell_type": "code",
   "execution_count": 9,
   "metadata": {
    "collapsed": true
   },
   "outputs": [],
   "source": [
    "EffA={};  #Eficiencia Acumulada\n",
    "for entry in signal.keys():\n",
    "    EffCut={};  \n",
    "    for i in signal[entry].keys():\n",
    "        EffCut[i] = (0.1*signal[entry][i])/(0.1*signal[entry]['C0']);\n",
    "    EffA['EffA_'+entry] = EffCut;"
   ]
  },
  {
   "cell_type": "code",
   "execution_count": 10,
   "metadata": {
    "collapsed": true
   },
   "outputs": [],
   "source": [
    "Effr={};  #Eficiencia Relativa\n",
    "a=signal[entry].keys()\n",
    "a.sort()\n",
    "for entry in signal.keys():\n",
    "    EffCut={};\n",
    "    j=0;\n",
    "    a1=a[j];\n",
    "    for i in a[1:]:\n",
    "        EffCut[i] = (0.1*signal[entry][i])/(0.1*signal[entry][a1]);\n",
    "        a1=a[j];\n",
    "        j=j+1;\n",
    "    Effr['Effr_'+entry] = EffCut;"
   ]
  },
  {
   "cell_type": "code",
   "execution_count": 11,
   "metadata": {
    "collapsed": true
   },
   "outputs": [],
   "source": [
    "Z={};  #Sensitividad\n",
    "a=signal.keys()\n",
    "a.remove('Signal_2j_mu-nu-Run0')\n",
    "a.sort()\n",
    "B=0;\n",
    "for entry in a:\n",
    "    Zi={};  \n",
    "    b=signal[entry].keys()\n",
    "    b.sort()\n",
    "    for i in signal[entry].keys():\n",
    "        Zi[i] = (0.1*signal['Signal_2j_mu-nu-Run0'][i])/(math.sqrt((0.1*signal['Signal_2j_mu-nu-Run0'][i])+(0.1*signal[entry][i])));\n",
    "        B=(0.1*signal[entry][i])+B;\n",
    "    Z[\"Sensitivity_\"+entry] = Zi;\n",
    "    ZZ = (0.1*signal['Signal_2j_mu-nu-Run0'][i])/(math.sqrt((0.1*signal['Signal_2j_mu-nu-Run0'][i])+B));"
   ]
  },
  {
   "cell_type": "code",
   "execution_count": 12,
   "metadata": {
    "collapsed": false
   },
   "outputs": [
    {
     "data": {
      "text/html": [
       "<table>\n",
       "<thead>\n",
       "<tr><th style=\"text-align: right;\">  </th><th>Cuts  </th><th style=\"text-align: right;\">  BackGround-DY_2j-Run0</th><th style=\"text-align: right;\">  BackGround-WW-Run0</th><th style=\"text-align: right;\">  BackGround-mumuW</th><th style=\"text-align: right;\">  BackGround-tW-Run0</th><th style=\"text-align: right;\">  Signal_2j_mu-nu-Run0</th></tr>\n",
       "</thead>\n",
       "<tbody>\n",
       "<tr><td style=\"text-align: right;\"> 0</td><td>C0    </td><td style=\"text-align: right;\">                 160448</td><td style=\"text-align: right;\">               85553</td><td style=\"text-align: right;\">            325964</td><td style=\"text-align: right;\">               80417</td><td style=\"text-align: right;\">                355148</td></tr>\n",
       "<tr><td style=\"text-align: right;\"> 1</td><td>C1    </td><td style=\"text-align: right;\">                  28247</td><td style=\"text-align: right;\">               74134</td><td style=\"text-align: right;\">            238907</td><td style=\"text-align: right;\">               76727</td><td style=\"text-align: right;\">                341827</td></tr>\n",
       "<tr><td style=\"text-align: right;\"> 2</td><td>C2    </td><td style=\"text-align: right;\">                    317</td><td style=\"text-align: right;\">               25633</td><td style=\"text-align: right;\">               511</td><td style=\"text-align: right;\">               27754</td><td style=\"text-align: right;\">                126190</td></tr>\n",
       "<tr><td style=\"text-align: right;\"> 3</td><td>C3    </td><td style=\"text-align: right;\">                    137</td><td style=\"text-align: right;\">               11387</td><td style=\"text-align: right;\">               196</td><td style=\"text-align: right;\">               12751</td><td style=\"text-align: right;\">                 55688</td></tr>\n",
       "<tr><td style=\"text-align: right;\"> 4</td><td>C4    </td><td style=\"text-align: right;\">                    137</td><td style=\"text-align: right;\">               11387</td><td style=\"text-align: right;\">               196</td><td style=\"text-align: right;\">               12750</td><td style=\"text-align: right;\">                 55687</td></tr>\n",
       "<tr><td style=\"text-align: right;\"> 5</td><td>C5    </td><td style=\"text-align: right;\">                     14</td><td style=\"text-align: right;\">                9838</td><td style=\"text-align: right;\">                10</td><td style=\"text-align: right;\">               10985</td><td style=\"text-align: right;\">                 48077</td></tr>\n",
       "</tbody>\n",
       "</table>"
      ],
      "text/plain": [
       "<IPython.core.display.HTML object>"
      ]
     },
     "execution_count": 12,
     "metadata": {},
     "output_type": "execute_result"
    }
   ],
   "source": [
    "TABLA(signal)"
   ]
  },
  {
   "cell_type": "code",
   "execution_count": 13,
   "metadata": {
    "collapsed": false
   },
   "outputs": [
    {
     "data": {
      "text/html": [
       "<table>\n",
       "<thead>\n",
       "<tr><th style=\"text-align: right;\">  </th><th>Cuts  </th><th style=\"text-align: right;\">  Effr_BackGround-DY_2j-Run0</th><th style=\"text-align: right;\">  Effr_BackGround-WW-Run0</th><th style=\"text-align: right;\">  Effr_BackGround-mumuW</th><th style=\"text-align: right;\">  Effr_BackGround-tW-Run0</th><th style=\"text-align: right;\">  Effr_Signal_2j_mu-nu-Run0</th></tr>\n",
       "</thead>\n",
       "<tbody>\n",
       "<tr><td style=\"text-align: right;\"> 0</td><td>C1    </td><td style=\"text-align: right;\">                       0.176</td><td style=\"text-align: right;\">                    0.867</td><td style=\"text-align: right;\">                  0.733</td><td style=\"text-align: right;\">                    0.954</td><td style=\"text-align: right;\">                      0.962</td></tr>\n",
       "<tr><td style=\"text-align: right;\"> 1</td><td>C2    </td><td style=\"text-align: right;\">                       0.002</td><td style=\"text-align: right;\">                    0.300</td><td style=\"text-align: right;\">                  0.002</td><td style=\"text-align: right;\">                    0.345</td><td style=\"text-align: right;\">                      0.355</td></tr>\n",
       "<tr><td style=\"text-align: right;\"> 2</td><td>C3    </td><td style=\"text-align: right;\">                       0.005</td><td style=\"text-align: right;\">                    0.154</td><td style=\"text-align: right;\">                  0.001</td><td style=\"text-align: right;\">                    0.166</td><td style=\"text-align: right;\">                      0.163</td></tr>\n",
       "<tr><td style=\"text-align: right;\"> 3</td><td>C4    </td><td style=\"text-align: right;\">                       0.432</td><td style=\"text-align: right;\">                    0.444</td><td style=\"text-align: right;\">                  0.384</td><td style=\"text-align: right;\">                    0.459</td><td style=\"text-align: right;\">                      0.441</td></tr>\n",
       "<tr><td style=\"text-align: right;\"> 4</td><td>C5    </td><td style=\"text-align: right;\">                       0.102</td><td style=\"text-align: right;\">                    0.864</td><td style=\"text-align: right;\">                  0.051</td><td style=\"text-align: right;\">                    0.862</td><td style=\"text-align: right;\">                      0.863</td></tr>\n",
       "</tbody>\n",
       "</table>"
      ],
      "text/plain": [
       "<IPython.core.display.HTML object>"
      ]
     },
     "execution_count": 13,
     "metadata": {},
     "output_type": "execute_result"
    }
   ],
   "source": [
    "TABLA(Effr, '.3f')"
   ]
  },
  {
   "cell_type": "code",
   "execution_count": 14,
   "metadata": {
    "collapsed": false
   },
   "outputs": [
    {
     "data": {
      "text/html": [
       "<table>\n",
       "<thead>\n",
       "<tr><th style=\"text-align: right;\">  </th><th>Cuts  </th><th style=\"text-align: right;\">  EffA_BackGround-DY_2j-Run0</th><th style=\"text-align: right;\">  EffA_BackGround-WW-Run0</th><th style=\"text-align: right;\">  EffA_BackGround-mumuW</th><th style=\"text-align: right;\">  EffA_BackGround-tW-Run0</th><th style=\"text-align: right;\">  EffA_Signal_2j_mu-nu-Run0</th></tr>\n",
       "</thead>\n",
       "<tbody>\n",
       "<tr><td style=\"text-align: right;\"> 0</td><td>C0    </td><td style=\"text-align: right;\">                       1.000</td><td style=\"text-align: right;\">                    1.000</td><td style=\"text-align: right;\">                  1.000</td><td style=\"text-align: right;\">                    1.000</td><td style=\"text-align: right;\">                      1.000</td></tr>\n",
       "<tr><td style=\"text-align: right;\"> 1</td><td>C1    </td><td style=\"text-align: right;\">                       0.176</td><td style=\"text-align: right;\">                    0.867</td><td style=\"text-align: right;\">                  0.733</td><td style=\"text-align: right;\">                    0.954</td><td style=\"text-align: right;\">                      0.962</td></tr>\n",
       "<tr><td style=\"text-align: right;\"> 2</td><td>C2    </td><td style=\"text-align: right;\">                       0.002</td><td style=\"text-align: right;\">                    0.300</td><td style=\"text-align: right;\">                  0.002</td><td style=\"text-align: right;\">                    0.345</td><td style=\"text-align: right;\">                      0.355</td></tr>\n",
       "<tr><td style=\"text-align: right;\"> 3</td><td>C3    </td><td style=\"text-align: right;\">                       0.001</td><td style=\"text-align: right;\">                    0.133</td><td style=\"text-align: right;\">                  0.001</td><td style=\"text-align: right;\">                    0.159</td><td style=\"text-align: right;\">                      0.157</td></tr>\n",
       "<tr><td style=\"text-align: right;\"> 4</td><td>C4    </td><td style=\"text-align: right;\">                       0.001</td><td style=\"text-align: right;\">                    0.133</td><td style=\"text-align: right;\">                  0.001</td><td style=\"text-align: right;\">                    0.159</td><td style=\"text-align: right;\">                      0.157</td></tr>\n",
       "<tr><td style=\"text-align: right;\"> 5</td><td>C5    </td><td style=\"text-align: right;\">                       0.000</td><td style=\"text-align: right;\">                    0.115</td><td style=\"text-align: right;\">                  0.000</td><td style=\"text-align: right;\">                    0.137</td><td style=\"text-align: right;\">                      0.135</td></tr>\n",
       "</tbody>\n",
       "</table>"
      ],
      "text/plain": [
       "<IPython.core.display.HTML object>"
      ]
     },
     "execution_count": 14,
     "metadata": {},
     "output_type": "execute_result"
    }
   ],
   "source": [
    "TABLA(EffA, '.3f')"
   ]
  },
  {
   "cell_type": "code",
   "execution_count": 15,
   "metadata": {
    "collapsed": false
   },
   "outputs": [
    {
     "data": {
      "text/html": [
       "<table>\n",
       "<thead>\n",
       "<tr><th style=\"text-align: right;\">  </th><th>Cuts  </th><th style=\"text-align: right;\">  Sensitivity_BackGround-DY_2j-Run0</th><th style=\"text-align: right;\">  Sensitivity_BackGround-WW-Run0</th><th style=\"text-align: right;\">  Sensitivity_BackGround-mumuW</th><th style=\"text-align: right;\">  Sensitivity_BackGround-tW-Run0</th></tr>\n",
       "</thead>\n",
       "<tbody>\n",
       "<tr><td style=\"text-align: right;\"> 0</td><td>C0    </td><td style=\"text-align: right;\">                            156.406</td><td style=\"text-align: right;\">                         169.175</td><td style=\"text-align: right;\">                       136.082</td><td style=\"text-align: right;\">                         170.170</td></tr>\n",
       "<tr><td style=\"text-align: right;\"> 1</td><td>C1    </td><td style=\"text-align: right;\">                            177.690</td><td style=\"text-align: right;\">                         167.602</td><td style=\"text-align: right;\">                       141.846</td><td style=\"text-align: right;\">                         167.082</td></tr>\n",
       "<tr><td style=\"text-align: right;\"> 2</td><td>C2    </td><td style=\"text-align: right;\">                            112.193</td><td style=\"text-align: right;\">                         102.413</td><td style=\"text-align: right;\">                       112.108</td><td style=\"text-align: right;\">                         101.705</td></tr>\n",
       "<tr><td style=\"text-align: right;\"> 3</td><td>C3    </td><td style=\"text-align: right;\">                             74.533</td><td style=\"text-align: right;\">                          67.996</td><td style=\"text-align: right;\">                        74.493</td><td style=\"text-align: right;\">                          67.315</td></tr>\n",
       "<tr><td style=\"text-align: right;\"> 4</td><td>C4    </td><td style=\"text-align: right;\">                             74.532</td><td style=\"text-align: right;\">                          67.995</td><td style=\"text-align: right;\">                        74.493</td><td style=\"text-align: right;\">                          67.314</td></tr>\n",
       "<tr><td style=\"text-align: right;\"> 5</td><td>C5    </td><td style=\"text-align: right;\">                             69.327</td><td style=\"text-align: right;\">                          63.175</td><td style=\"text-align: right;\">                        69.330</td><td style=\"text-align: right;\">                          62.558</td></tr>\n",
       "</tbody>\n",
       "</table>"
      ],
      "text/plain": [
       "<IPython.core.display.HTML object>"
      ]
     },
     "execution_count": 15,
     "metadata": {},
     "output_type": "execute_result"
    }
   ],
   "source": [
    "TABLA(Z, '.3f')"
   ]
  },
  {
   "cell_type": "markdown",
   "metadata": {},
   "source": [
    "## Cross sections and Branchings Ratios"
   ]
  },
  {
   "cell_type": "code",
   "execution_count": 16,
   "metadata": {
    "collapsed": false
   },
   "outputs": [
    {
     "data": {
      "text/html": [
       "<table>\n",
       "<thead>\n",
       "<tr><th style=\"text-align: right;\">  </th><th>Item  </th><th>Sig_DY_13TeV                                            </th><th>Sig_WW_13TeV                                                                                                                                                                </th><th>Sig_tW_13TeV                                                                                                                                                                </th><th>Sig_tt_13TeV                                                                                                           </th></tr>\n",
       "</thead>\n",
       "<tbody>\n",
       "<tr><td style=\"text-align: right;\"> 0</td><td>Theo  </td><td>NA                                                      </td><td>NA                                                                                                                                                                          </td><td>NA                                                                                                                                                                          </td><td>NA                                                                                                                     </td></tr>\n",
       "<tr><td style=\"text-align: right;\"> 1</td><td>lum   </td><td>NA                                                      </td><td>3.2                                                                                                                                                                         </td><td>3.2                                                                                                                                                                         </td><td>23.0                                                                                                                   </td></tr>\n",
       "<tr><td style=\"text-align: right;\"> 2</td><td>source</td><td><a href=\"https://arxiv.org/pdf/1407.3643.pdf\">Pag 11</a></td><td><a href=\"https://atlas.web.cern.ch/Atlas/GROUPS/PHYSICS/CombinedSummaryPlots/SM/ATLAS_c_SMSummary_TotalXsect_rotated/ATLAS_c_SMSummary_TotalXsect_rotated.pdf\">reference</a></td><td><a href=\"https://atlas.web.cern.ch/Atlas/GROUPS/PHYSICS/CombinedSummaryPlots/SM/ATLAS_c_SMSummary_TotalXsect_rotated/ATLAS_c_SMSummary_TotalXsect_rotated.pdf\">reference</a></td><td><a href=\"https://twiki.cern.ch/twiki/pub/CMSPublic/PhysicsResultsTOPSummaryFigures/Top_Summary_13TeV.pdf\">reference</a></td></tr>\n",
       "<tr><td style=\"text-align: right;\"> 3</td><td>stat  </td><td>60.0                                                    </td><td>5.0                                                                                                                                                                         </td><td>10.0                                                                                                                                                                        </td><td>25.0                                                                                                                   </td></tr>\n",
       "<tr><td style=\"text-align: right;\"> 4</td><td>sys   </td><td>NA                                                      </td><td>13.0                                                                                                                                                                        </td><td>28.0                                                                                                                                                                        </td><td>118.0                                                                                                                  </td></tr>\n",
       "<tr><td style=\"text-align: right;\"> 5</td><td>value </td><td>1170.0                                                  </td><td>142.0                                                                                                                                                                       </td><td>94.0                                                                                                                                                                        </td><td>835.0                                                                                                                  </td></tr>\n",
       "</tbody>\n",
       "</table>"
      ],
      "text/plain": [
       "<IPython.core.display.HTML object>"
      ]
     },
     "execution_count": 16,
     "metadata": {},
     "output_type": "execute_result"
    }
   ],
   "source": [
    "TABLA(Cross_Sections, '.3f', 'Item')"
   ]
  },
  {
   "cell_type": "code",
   "execution_count": 17,
   "metadata": {
    "collapsed": false
   },
   "outputs": [
    {
     "data": {
      "text/html": [
       "<table>\n",
       "<thead>\n",
       "<tr><th style=\"text-align: right;\">  </th><th>Item  </th><th>Br_W_munu                                                             </th><th>Br_t_Wb                                                                 </th></tr>\n",
       "</thead>\n",
       "<tbody>\n",
       "<tr><td style=\"text-align: right;\"> 0</td><td>Theo  </td><td>NA                                                                    </td><td>NA                                                                      </td></tr>\n",
       "<tr><td style=\"text-align: right;\"> 1</td><td>lum   </td><td>NA                                                                    </td><td>NA                                                                      </td></tr>\n",
       "<tr><td style=\"text-align: right;\"> 2</td><td>source</td><td><a href=\"http://iopscience.iop.org/1674-1137/40/10/100001\">pag 617</a></td><td><a href=\"http://iopscience.iop.org/1674-1137/40/10/100001\">pag 1.981</a></td></tr>\n",
       "<tr><td style=\"text-align: right;\"> 3</td><td>sys   </td><td>0.15                                                                  </td><td>7.0                                                                     </td></tr>\n",
       "<tr><td style=\"text-align: right;\"> 4</td><td>value </td><td>10.63                                                                 </td><td>95.7                                                                    </td></tr>\n",
       "</tbody>\n",
       "</table>"
      ],
      "text/plain": [
       "<IPython.core.display.HTML object>"
      ]
     },
     "execution_count": 17,
     "metadata": {},
     "output_type": "execute_result"
    }
   ],
   "source": [
    "TABLA(Br, '.3f','Item')"
   ]
  },
  {
   "cell_type": "markdown",
   "metadata": {},
   "source": [
    "### Función para normalizar a una luminocidad"
   ]
  },
  {
   "cell_type": "code",
   "execution_count": 18,
   "metadata": {
    "collapsed": true
   },
   "outputs": [],
   "source": [
    "def norm(lum, Nevent , CS):\n",
    "    \"\"\"Función para normalizar el numero de eventos, [lum]=fb^{-1}, [sigma]=pb\"\"\"\n",
    "    lumpb=lum*1000.0;\n",
    "    Cte=(lumpb*CS)/Nevent\n",
    "    return Cte;  "
   ]
  },
  {
   "cell_type": "code",
   "execution_count": 51,
   "metadata": {
    "collapsed": true
   },
   "outputs": [],
   "source": [
    "def Lum(CS,NEven):\n",
    "    \"\"\"Calcula la Luminosidad [lum]=fb^{-1} dado un numero de eventos y la sección eficaz de producción [Sigma]=pb\"\"\"\n",
    "    lumifb=[]\n",
    "    for i in NEven:\n",
    "        lumi=round((i/CS)*0.001,2);\n",
    "        lumifb.append(lumi);\n",
    "    return lumifb;"
   ]
  },
  {
   "cell_type": "code",
   "execution_count": 52,
   "metadata": {
    "collapsed": true
   },
   "outputs": [],
   "source": [
    "table=[['Proceso','$\\sigma[pb] $','NEvent [C0,C1,C2,C3,C4,C5]','$\\mathcal{L} [fb^{-1}]$','Reference'],\n",
    "       ['Sig_DY_13TeV',Cross_Sections['Sig_DY_13TeV']['value'],[160448,28247,317,137,137,14],Lum(Cross_Sections['Sig_DY_13TeV']['value'],[160448,28247,317,137,137,14]),Cross_Sections['Sig_DY_13TeV']['source']],\n",
    "       ['Sig_tW_13TeV',Cross_Sections['Sig_tW_13TeV']['value'],[80417,76727,27754,12751,12750,10985],Lum(Cross_Sections['Sig_tW_13TeV']['value'],[80417,76727,27754,12751,12750,10985]),Cross_Sections['Sig_tW_13TeV']['source']],\n",
    "       ['Sig_WW_13TeV',Cross_Sections['Sig_WW_13TeV']['value'],[85553,74134,25633,11387,11387,9838],Lum(Cross_Sections['Sig_WW_13TeV']['value'],[85553,74134,25633,11387,11387,9838]),Cross_Sections['Sig_WW_13TeV']['source']]\n",
    "      ]"
   ]
  },
  {
   "cell_type": "code",
   "execution_count": 53,
   "metadata": {
    "collapsed": false
   },
   "outputs": [
    {
     "data": {
      "text/html": [
       "<table>\n",
       "<tbody>\n",
       "<tr><td style=\"text-align: center;\">  Proceso   </td><td style=\"text-align: center;\">$\\sigma[pb] $</td><td style=\"text-align: center;\">            NEvent [C0,C1,C2,C3,C4,C5]            </td><td style=\"text-align: center;\">      $\\mathcal{L} [fb^{-1}]$      </td><td style=\"text-align: center;\">                                                                                 Reference                                                                                  </td></tr>\n",
       "<tr><td style=\"text-align: center;\">Sig_DY_13TeV</td><td style=\"text-align: center;\">   1170.0    </td><td style=\"text-align: center;\">        [160448, 28247, 317, 137, 137, 14]        </td><td style=\"text-align: center;\"> [0.14, 0.02, 0.0, 0.0, 0.0, 0.0]  </td><td style=\"text-align: center;\">                                                          <a href=\"https://arxiv.org/pdf/1407.3643.pdf\">Pag 11</a>                                                          </td></tr>\n",
       "<tr><td style=\"text-align: center;\">Sig_tW_13TeV</td><td style=\"text-align: center;\">    94.0     </td><td style=\"text-align: center;\">[156.406, 177.69, 112.193, 74.533, 74.532, 69.327]</td><td style=\"text-align: center;\">  [0.0, 0.0, 0.0, 0.0, 0.0, 0.0]   </td><td style=\"text-align: center;\"><a href=\"https://atlas.web.cern.ch/Atlas/GROUPS/PHYSICS/CombinedSummaryPlots/SM/ATLAS_c_SMSummary_TotalXsect_rotated/ATLAS_c_SMSummary_TotalXsect_rotated.pdf\">reference</a></td></tr>\n",
       "<tr><td style=\"text-align: center;\">Sig_WW_13TeV</td><td style=\"text-align: center;\">    142.0    </td><td style=\"text-align: center;\">    [85553, 74134, 25633, 11387, 11387, 9838]     </td><td style=\"text-align: center;\">[0.6, 0.52, 0.18, 0.08, 0.08, 0.07]</td><td style=\"text-align: center;\"><a href=\"https://atlas.web.cern.ch/Atlas/GROUPS/PHYSICS/CombinedSummaryPlots/SM/ATLAS_c_SMSummary_TotalXsect_rotated/ATLAS_c_SMSummary_TotalXsect_rotated.pdf\">reference</a></td></tr>\n",
       "</tbody>\n",
       "</table>"
      ],
      "text/plain": [
       "<IPython.core.display.HTML object>"
      ]
     },
     "execution_count": 53,
     "metadata": {},
     "output_type": "execute_result"
    }
   ],
   "source": [
    "HTML(tabulate(table, tablefmt=\"html\",floatfmt='.3e',stralign='center'))"
   ]
  },
  {
   "cell_type": "code",
   "execution_count": 49,
   "metadata": {
    "collapsed": true
   },
   "outputs": [],
   "source": []
  },
  {
   "cell_type": "code",
   "execution_count": 50,
   "metadata": {},
   "outputs": [
    {
     "data": {
      "text/plain": [
       "{'BackGround-DY_2j-Run0': {'Theo': 'NA',\n",
       "  'lum': 'NA',\n",
       "  'source': '<a href=\"https://arxiv.org/pdf/1407.3643.pdf\">Pag 11</a>',\n",
       "  'stat': 60.0,\n",
       "  'sys': 'NA',\n",
       "  'value': 1170.0}}"
      ]
     },
     "execution_count": 50,
     "metadata": {},
     "output_type": "execute_result"
    }
   ],
   "source": [
    "ALL_Cross_Sections"
   ]
  },
  {
   "cell_type": "code",
   "execution_count": null,
   "metadata": {
    "collapsed": true
   },
   "outputs": [],
   "source": [
    "table=[['Proceso','$\\sigma[pb] $','NEvent [C0,C1,C2,C3,C4,C5]','$\\mathcal{L} [fb^{-1}]$','Reference']];\n",
    "for proces in Cross_Sections.keys():\n",
    "    Line=[proces,Cross_Sections[proces]['value'],[160448,28247,317,137,137,14],Lum(Cross_Sections['Sig_DY_13TeV']['value'],[160448,28247,317,137,137,14]),Cross_Sections['Sig_DY_13TeV']['source']]];\n",
    "    "
   ]
  },
  {
   "cell_type": "code",
   "execution_count": 45,
   "metadata": {
    "collapsed": true
   },
   "outputs": [],
   "source": [
    "A=signal['BackGround-DY_2j-Run0'].values()"
   ]
  },
  {
   "cell_type": "code",
   "execution_count": 46,
   "metadata": {},
   "outputs": [
    {
     "data": {
      "text/plain": [
       "[137, 14, 160448L, 28247, 317, 137]"
      ]
     },
     "execution_count": 46,
     "metadata": {},
     "output_type": "execute_result"
    }
   ],
   "source": [
    "A.reverse()\n",
    "A"
   ]
  },
  {
   "cell_type": "code",
   "execution_count": 41,
   "metadata": {},
   "outputs": [
    {
     "data": {
      "text/plain": [
       "{'BackGround-DY_2j-Run0': {'C0': 160448L,\n",
       "  'C1': 28247,\n",
       "  'C2': 317,\n",
       "  'C3': 137,\n",
       "  'C4': 137,\n",
       "  'C5': 14},\n",
       " 'BackGround-WW-Run0': {'C0': 85553L,\n",
       "  'C1': 74134,\n",
       "  'C2': 25633,\n",
       "  'C3': 11387,\n",
       "  'C4': 11387,\n",
       "  'C5': 9838},\n",
       " 'BackGround-mumuW': {'C0': 325964L,\n",
       "  'C1': 238907,\n",
       "  'C2': 511,\n",
       "  'C3': 196,\n",
       "  'C4': 196,\n",
       "  'C5': 10},\n",
       " 'BackGround-tW-Run0': {'C0': 80417L,\n",
       "  'C1': 76727,\n",
       "  'C2': 27754,\n",
       "  'C3': 12751,\n",
       "  'C4': 12750,\n",
       "  'C5': 10985},\n",
       " 'Signal_2j_mu-nu-Run0': {'C0': 355148L,\n",
       "  'C1': 341827,\n",
       "  'C2': 126190,\n",
       "  'C3': 55688,\n",
       "  'C4': 55687,\n",
       "  'C5': 48077}}"
      ]
     },
     "execution_count": 41,
     "metadata": {},
     "output_type": "execute_result"
    }
   ],
   "source": [
    "signal"
   ]
  },
  {
   "cell_type": "code",
   "execution_count": null,
   "metadata": {
    "collapsed": true
   },
   "outputs": [],
   "source": []
  }
 ],
 "metadata": {
  "kernelspec": {
   "display_name": "Python 2",
   "language": "python",
   "name": "python2"
  },
  "language_info": {
   "codemirror_mode": {
    "name": "ipython",
    "version": 2
   },
   "file_extension": ".py",
   "mimetype": "text/x-python",
   "name": "python",
   "nbconvert_exporter": "python",
   "pygments_lexer": "ipython2",
   "version": "2.7.13"
  }
 },
 "nbformat": 4,
 "nbformat_minor": 2
}
