{
 "cells": [
  {
   "cell_type": "markdown",
   "metadata": {},
   "source": [
    "# Análisis de datos utilizando PyRoot\n"
   ]
  },
  {
   "cell_type": "markdown",
   "metadata": {},
   "source": [
    "###Cargo los paquetes nesesarias"
   ]
  },
  {
   "cell_type": "code",
   "execution_count": 1,
   "metadata": {
    "collapsed": true
   },
   "outputs": [],
   "source": [
    "#from IPython.core.interactiveshell import InteractiveShell\n",
    "import ROOT\n",
    "import os\n",
    "import commands\n",
    "#InteractiveShell.ast_node_interactivity = \"all\" # Para tener el modo interactivo completo"
   ]
  },
  {
   "cell_type": "markdown",
   "metadata": {},
   "source": [
    "###Cargo las Librerías nesesarias"
   ]
  },
  {
   "cell_type": "code",
   "execution_count": 2,
   "metadata": {
    "collapsed": true
   },
   "outputs": [],
   "source": [
    "ROOT.gROOT.Reset()\n",
    "#Esta es la ruta a la librería dinámica de Delphes (debe de ser compilada con la misma versión de root del notebook)\n",
    "#Solo funciona con la versión de Delphes compilada con root 5 (y obiamente root 5)\n",
    "ROOT.gSystem.AddDynamicPath(\"~/HEPTools/Delphes/delphes5/\")\n",
    "ROOT.gSystem.Load(\"libDelphes\");"
   ]
  },
  {
   "cell_type": "markdown",
   "metadata": {},
   "source": [
    "###Construcción de los TChain"
   ]
  },
  {
   "cell_type": "code",
   "execution_count": 3,
   "metadata": {
    "collapsed": true
   },
   "outputs": [],
   "source": [
    "#Lista de carpetas le analisis\n",
    "Path1= \"/scratch/cms/Datos\"\n",
    "Path2= \"/Events\"\n",
    "Path3= \"/tag_1_delphes_events.root\"\n",
    "ListOfFolders = [\"/BackGround-DY_2j-Run0\",\"/BackGround-tW-Run0\",\"/BackGround-WW-Run0\",\"/Signal_2j_mu-nu-Run0\",\"/BackGround-mumuW\"]\n"
   ]
  },
  {
   "cell_type": "code",
   "execution_count": 4,
   "metadata": {},
   "outputs": [
    {
     "name": "stderr",
     "output_type": "stream",
     "text": [
      "TClass::TClass:0: RuntimeWarning: no dictionary for class CompBase is available\n"
     ]
    }
   ],
   "source": [
    "#Para guardar la info sobre los cortes\n",
    "signal={};\n",
    "for Folder in ListOfFolders:\n",
    "    comand =\"ls \" + Path1 + Folder + Path2;\n",
    "    tmp = commands.getstatusoutput( comand )\n",
    "    \n",
    "    #Parto la cadena de caracteres por '\\n', y asigno las partes a un arreglo\n",
    "    Runs = tmp[1].split(\"\\n\");\n",
    "    \n",
    "    #Creo el objeto TChain\n",
    "    MainChain=ROOT.TChain(\"Delphes\")\n",
    "    \n",
    "    #Lleno el objeto MainChain con las salidas de MadGraph-Pythia_Delphes\n",
    "    for run in range(len(Runs)):\n",
    "        imput = Path1 + Folder + Path2 + \"/\" + Runs[run] + \"/tag_1_delphes_events.root\"\n",
    "        MainChain.Add(imput)\n",
    "        \n",
    "    #Creo el objeto ExRootTreeReader\n",
    "    treeReader = ROOT.ExRootTreeReader(MainChain)\n",
    "    numberOfEntries = treeReader.GetEntries()\n",
    "    \n",
    "    #Obtengo las ramas que voy a usar\n",
    "    branchJet = treeReader.UseBranch(\"Jet\")\n",
    "    branchMuon = treeReader.UseBranch(\"Muon\")\n",
    "    branchMissingET = treeReader.UseBranch(\"MissingET\")\n",
    "\n",
    "    # Inicializo los contadores\n",
    "    cut1=0; cut2=0; cut3=0; cut4=0; cut5=0;\n",
    "    cuts={};\n",
    "    \n",
    "    # Loop sobre los eventos\n",
    "    for entry in range(0, numberOfEntries):\n",
    "        #Se carga la entrada espesífica\n",
    "        treeReader.ReadEntry(entry)\n",
    "        \n",
    "        # Primer corte, al menos 2 jet\n",
    "        if branchJet.GetEntries() > 1:\n",
    "            cut1 = cut1 +1;\n",
    "            bcount=0;\n",
    "            for i in range(0, branchJet.GetEntries() ): #Esta parte es la que produce el error (TClass::TClass:0: RuntimeWarning: no dictionary for class CompBase is available)\n",
    "                jet = branchJet.At(i)\n",
    "                #Cuento cuantos jet hay identificados como b quarks\n",
    "                if jet.BTag :\n",
    "                    bcount = bcount + 1;\n",
    "            \n",
    "            # Segundo corte, al menos 2 jet b       \n",
    "            if bcount > 1:\n",
    "                cut2 = cut2 +1;\n",
    "            \n",
    "                # If event contains at least 2 muons\n",
    "                if branchMuon.GetEntries() > 1:\n",
    "                    cut3 = cut3 +1;\n",
    "                    # Tomo los dos muones mas energéticos y comparo sus cargas eléctricas\n",
    "                    muon1 = branchMuon.At(0)\n",
    "                    muon2 = branchMuon.At(1)\n",
    "                \n",
    "                    #Corte 4: Que los muones mas energéticos tengan cargas diferentes\n",
    "                    if muon1.Charge*muon2.Charge < 0:\n",
    "                        cut4 = cut4 +1;\n",
    "\n",
    "                    \n",
    "                        #Corte 5: muones mas energéticos tengan masa invariante diferente de la del Z\n",
    "                        MassMuon= (muon1.P4()+muon2.P4()).M();\n",
    "                        if not((MassMuon>80) and (MassMuon<100)):\n",
    "                            cut5 = cut5 +1;\n",
    "    \n",
    "    \n",
    "    cuts['C0']=numberOfEntries;\n",
    "    cuts['C1'] = cut1;\n",
    "    cuts['C2'] = cut2;\n",
    "    cuts['C3'] = cut3;\n",
    "    cuts['C4'] = cut4;\n",
    "    cuts['C5'] = cut5; \n",
    "    signal[Folder]=cuts"
   ]
  },
  {
   "cell_type": "markdown",
   "metadata": {},
   "source": [
    "Donde Co,C1,C2,... Son el número de eventos, sin cortes, con el primer corte, segundo y asi susecivamente."
   ]
  },
  {
   "cell_type": "code",
   "execution_count": 5,
   "metadata": {},
   "outputs": [
    {
     "data": {
      "text/plain": [
       "{'/BackGround-DY_2j-Run0': {'C0': 160448L,\n",
       "  'C1': 28247,\n",
       "  'C2': 317,\n",
       "  'C3': 137,\n",
       "  'C4': 137,\n",
       "  'C5': 14},\n",
       " '/BackGround-WW-Run0': {'C0': 85553L,\n",
       "  'C1': 74134,\n",
       "  'C2': 25633,\n",
       "  'C3': 11387,\n",
       "  'C4': 11387,\n",
       "  'C5': 9838},\n",
       " '/BackGround-mumuW': {'C0': 325964L,\n",
       "  'C1': 238907,\n",
       "  'C2': 511,\n",
       "  'C3': 196,\n",
       "  'C4': 196,\n",
       "  'C5': 10},\n",
       " '/BackGround-tW-Run0': {'C0': 80417L,\n",
       "  'C1': 76727,\n",
       "  'C2': 27754,\n",
       "  'C3': 12751,\n",
       "  'C4': 12750,\n",
       "  'C5': 10985},\n",
       " '/Signal_2j_mu-nu-Run0': {'C0': 355148L,\n",
       "  'C1': 341827,\n",
       "  'C2': 126190,\n",
       "  'C3': 55688,\n",
       "  'C4': 55687,\n",
       "  'C5': 48077}}"
      ]
     },
     "execution_count": 5,
     "metadata": {},
     "output_type": "execute_result"
    }
   ],
   "source": [
    "signal"
   ]
  },
  {
   "cell_type": "code",
   "execution_count": 21,
   "metadata": {},
   "outputs": [],
   "source": [
    "EffA={};  #Eficiencia Acumulada\n",
    "for entry in signal.keys():\n",
    "    EffCut={};  \n",
    "    for i in signal[entry].keys():\n",
    "        EffCut[i] = (0.1*signal[entry][i])/(0.1*signal[entry]['C0']);\n",
    "    EffA[entry] = EffCut;"
   ]
  },
  {
   "cell_type": "code",
   "execution_count": 50,
   "metadata": {},
   "outputs": [],
   "source": [
    "Effr={};  #Eficiencia Relativa\n",
    "a=signal[entry].keys()\n",
    "a.sort()\n",
    "for entry in signal.keys():\n",
    "    EffCut={};\n",
    "    j=0;\n",
    "    a1=a[j];\n",
    "    for i in a[1:]:\n",
    "        EffCut[i] = (0.1*signal[entry][i])/(0.1*signal[entry][a1]);\n",
    "        a1=a[j]\n",
    "        j=j+1;\n",
    "    Effr[entry] = EffCut;"
   ]
  },
  {
   "cell_type": "code",
   "execution_count": 51,
   "metadata": {},
   "outputs": [
    {
     "data": {
      "text/plain": [
       "{'/BackGround-DY_2j-Run0': {'C1': 0.17605080773833268,\n",
       "  'C2': 0.0019757179896290385,\n",
       "  'C3': 0.0048500725740786635,\n",
       "  'C4': 0.43217665615141954,\n",
       "  'C5': 0.10218978102189781},\n",
       " '/BackGround-WW-Run0': {'C1': 0.8665271819807604,\n",
       "  'C2': 0.29961544305868876,\n",
       "  'C3': 0.15360023740793696,\n",
       "  'C4': 0.4442320446299692,\n",
       "  'C5': 0.8639676824448933},\n",
       " '/BackGround-mumuW': {'C1': 0.7329244947294793,\n",
       "  'C2': 0.0015676577781595514,\n",
       "  'C3': 0.0008204029182903808,\n",
       "  'C4': 0.3835616438356165,\n",
       "  'C5': 0.0510204081632653},\n",
       " '/BackGround-tW-Run0': {'C1': 0.9541141798375965,\n",
       "  'C2': 0.34512603056567637,\n",
       "  'C3': 0.16618660966804386,\n",
       "  'C4': 0.4593932406139655,\n",
       "  'C5': 0.8615010587404909},\n",
       " '/Signal_2j_mu-nu-Run0': {'C1': 0.9624916936037934,\n",
       "  'C2': 0.3553166567177627,\n",
       "  'C3': 0.16291281847250216,\n",
       "  'C4': 0.44129487281084084,\n",
       "  'C5': 0.8633278264617152}}"
      ]
     },
     "execution_count": 51,
     "metadata": {},
     "output_type": "execute_result"
    }
   ],
   "source": [
    "Effr"
   ]
  },
  {
   "cell_type": "code",
   "execution_count": 46,
   "metadata": {},
   "outputs": [
    {
     "ename": "SyntaxError",
     "evalue": "invalid syntax (<ipython-input-46-febaee6fe491>, line 2)",
     "output_type": "error",
     "traceback": [
      "\u001b[0;36m  File \u001b[0;32m\"<ipython-input-46-febaee6fe491>\"\u001b[0;36m, line \u001b[0;32m2\u001b[0m\n\u001b[0;31m    a1=a[j++]\u001b[0m\n\u001b[0m            ^\u001b[0m\n\u001b[0;31mSyntaxError\u001b[0m\u001b[0;31m:\u001b[0m invalid syntax\n"
     ]
    }
   ],
   "source": []
  },
  {
   "cell_type": "code",
   "execution_count": 45,
   "metadata": {},
   "outputs": [
    {
     "data": {
      "text/plain": [
       "'C1'"
      ]
     },
     "execution_count": 45,
     "metadata": {},
     "output_type": "execute_result"
    }
   ],
   "source": [
    "a1"
   ]
  },
  {
   "cell_type": "code",
   "execution_count": 22,
   "metadata": {},
   "outputs": [
    {
     "data": {
      "text/plain": [
       "{'/BackGround-DY_2j-Run0': {'C0': 1.0,\n",
       "  'C1': 0.17605080773833268,\n",
       "  'C2': 0.0019757179896290385,\n",
       "  'C3': 0.000853859194256083,\n",
       "  'C4': 0.000853859194256083,\n",
       "  'C5': 8.725568408456322e-05},\n",
       " '/BackGround-WW-Run0': {'C0': 1.0,\n",
       "  'C1': 0.8665271819807604,\n",
       "  'C2': 0.29961544305868876,\n",
       "  'C3': 0.1330987808726754,\n",
       "  'C4': 0.1330987808726754,\n",
       "  'C5': 0.11499304524680606},\n",
       " '/BackGround-mumuW': {'C0': 1.0,\n",
       "  'C1': 0.7329244947294793,\n",
       "  'C2': 0.0015676577781595514,\n",
       "  'C3': 0.0006012933943625677,\n",
       "  'C4': 0.0006012933943625677,\n",
       "  'C5': 3.067823440625345e-05},\n",
       " '/BackGround-tW-Run0': {'C0': 1.0,\n",
       "  'C1': 0.9541141798375965,\n",
       "  'C2': 0.34512603056567637,\n",
       "  'C3': 0.15856100078341645,\n",
       "  'C4': 0.1585485656018006,\n",
       "  'C5': 0.13660047004986506},\n",
       " '/Signal_2j_mu-nu-Run0': {'C0': 1.0,\n",
       "  'C1': 0.9624916936037934,\n",
       "  'C2': 0.3553166567177627,\n",
       "  'C3': 0.15680223456136597,\n",
       "  'C4': 0.1567994188338383,\n",
       "  'C5': 0.1353717323482041}}"
      ]
     },
     "execution_count": 22,
     "metadata": {},
     "output_type": "execute_result"
    }
   ],
   "source": [
    "EffA"
   ]
  },
  {
   "cell_type": "code",
   "execution_count": null,
   "metadata": {
    "collapsed": true
   },
   "outputs": [],
   "source": []
  },
  {
   "cell_type": "code",
   "execution_count": null,
   "metadata": {
    "collapsed": true
   },
   "outputs": [],
   "source": []
  }
 ],
 "metadata": {
  "kernelspec": {
   "display_name": "Python 2",
   "language": "python",
   "name": "python2"
  },
  "language_info": {
   "codemirror_mode": {
    "name": "ipython",
    "version": 2
   },
   "file_extension": ".py",
   "mimetype": "text/x-python",
   "name": "python",
   "nbconvert_exporter": "python",
   "pygments_lexer": "ipython2",
   "version": "2.7.9"
  }
 },
 "nbformat": 4,
 "nbformat_minor": 2
}
