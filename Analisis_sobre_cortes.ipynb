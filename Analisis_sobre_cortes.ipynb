{
 "cells": [
  {
   "cell_type": "markdown",
   "metadata": {},
   "source": [
    "# Secciones Eficaces y Branching Ratios"
   ]
  },
  {
   "cell_type": "markdown",
   "metadata": {},
   "source": [
    "## Secciones Eficaces"
   ]
  },
  {
   "cell_type": "code",
   "execution_count": 1,
   "metadata": {
    "collapsed": true
   },
   "outputs": [],
   "source": [
    "Sigma_ttbar_13TeV={'value':835,'stat':3,'syst':23,'lumi':23,'source':\"http://cms-results.web.cern.ch/cms-results/public-results/preliminary-results/TOP-16-022/index.html\"};\n",
    "Sigma_ttbar_13TeV={'value':835,'stat':3,'syst':23,'lumi':23,'source':\"http://cms-results.web.cern.ch/cms-results/public-results/preliminary-results/TOP-16-022/index.html\"};\n",
    "\n",
    "#Sigma_={'value':,'stat':,'syst':,'lumi':};"
   ]
  },
  {
   "cell_type": "markdown",
   "metadata": {},
   "source": [
    "## Branching Ratios"
   ]
  },
  {
   "cell_type": "code",
   "execution_count": 2,
   "metadata": {
    "collapsed": true
   },
   "outputs": [],
   "source": [
    "Br_Wlnu={'value':10.83,'stat':0.07,'syst':0.07,'source':\"Porcentual PDG Chinese_Phys_C_40_1000001 Pag 617\"};\n",
    "Br_Wmunu={'value':10.63,'stat':0.15,'syst':0.12,'source':'Porcentual PDG Chinese_Phys_C_40_1000001 Pag 617'}\n",
    "Br_tWb={'value':0.91,'stat':0.04,'syst':'NA','source':'Porcentual PDG Chinese_Phys_C_40_1000001 Pag 617'}"
   ]
  },
  {
   "cell_type": "markdown",
   "metadata": {},
   "source": [
    "### Función para generar las tablas"
   ]
  },
  {
   "cell_type": "code",
   "execution_count": 23,
   "metadata": {
    "collapsed": true
   },
   "outputs": [],
   "source": [
    "def TABLA( Z, formato= '.3e'):\n",
    "    \"\"\"Formato es el formato de los numeros, ejem: .2f , .4e\"\"\"\n",
    "    tabla=[];\n",
    "    head=Z.keys();\n",
    "    head.sort();\n",
    "    tmp=Z[Z.keys()[0]].keys();\n",
    "    tmp.sort();\n",
    "    for i in tmp:\n",
    "        entries=[];\n",
    "        entries.append(i);\n",
    "        for j in head:\n",
    "            entries.append(Z[j][i]);\n",
    "        tabla.append(entries);\n",
    "    head.insert(0,'Cuts');\n",
    "    tabla.insert(0,head);\n",
    "    \n",
    "    return HTML(tabulate(tabla, headers= \"firstrow\", floatfmt= formato, tablefmt='html'))"
   ]
  },
  {
   "cell_type": "markdown",
   "metadata": {},
   "source": [
    "# Análisis de datos utilizando PyRoot\n"
   ]
  },
  {
   "cell_type": "markdown",
   "metadata": {},
   "source": [
    "###Cargo los paquetes nesesarias"
   ]
  },
  {
   "cell_type": "code",
   "execution_count": 4,
   "metadata": {
    "collapsed": true
   },
   "outputs": [],
   "source": [
    "#from IPython.core.interactiveshell import InteractiveShell\n",
    "import ROOT\n",
    "import os\n",
    "import commands\n",
    "import math\n",
    "####################TABLES########################################################\n",
    "from tabulate import tabulate\n",
    "from IPython.display import display, Math, Latex\n",
    "from IPython.display import HTML\n",
    "#InteractiveShell.ast_node_interactivity = \"all\" # Para tener el modo interactivo completo"
   ]
  },
  {
   "cell_type": "markdown",
   "metadata": {},
   "source": [
    "###Cargo las Librerías nesesarias"
   ]
  },
  {
   "cell_type": "code",
   "execution_count": 5,
   "metadata": {
    "collapsed": true
   },
   "outputs": [],
   "source": [
    "ROOT.gROOT.Reset()\n",
    "#Esta es la ruta a la librería dinámica de Delphes (debe de ser compilada con la misma versión de root del notebook)\n",
    "#Solo funciona con la versión de Delphes compilada con root 5 (y obiamente root 5)\n",
    "ROOT.gSystem.AddDynamicPath(\"~/HEPTools/Delphes/delphes5/\")\n",
    "ROOT.gSystem.Load(\"libDelphes\");"
   ]
  },
  {
   "cell_type": "markdown",
   "metadata": {},
   "source": [
    "###Construcción de los TChain"
   ]
  },
  {
   "cell_type": "code",
   "execution_count": 6,
   "metadata": {
    "collapsed": true
   },
   "outputs": [],
   "source": [
    "#Lista de carpetas le analisis\n",
    "Path1= \"/scratch/cms/Datos/\" #Inportante dejar aquí el último /\n",
    "Path2= \"/Events\"\n",
    "Path3= \"/tag_1_delphes_events.root\"\n",
    "ListOfFolders = [\"BackGround-DY_2j-Run0\",\"BackGround-tW-Run0\",\"BackGround-WW-Run0\",\"Signal_2j_mu-nu-Run0\",\"BackGround-mumuW\"]\n"
   ]
  },
  {
   "cell_type": "code",
   "execution_count": 7,
   "metadata": {},
   "outputs": [
    {
     "name": "stderr",
     "output_type": "stream",
     "text": [
      "TClass::TClass:0: RuntimeWarning: no dictionary for class CompBase is available\n"
     ]
    }
   ],
   "source": [
    "#Para guardar la info sobre los cortes\n",
    "signal={};\n",
    "for Folder in ListOfFolders:\n",
    "    comand =\"ls \" + Path1 + Folder + Path2;\n",
    "    tmp = commands.getstatusoutput( comand )\n",
    "    \n",
    "    #Parto la cadena de caracteres por '\\n', y asigno las partes a un arreglo\n",
    "    Runs = tmp[1].split(\"\\n\");\n",
    "    \n",
    "    #Creo el objeto TChain\n",
    "    MainChain=ROOT.TChain(\"Delphes\")\n",
    "    \n",
    "    #Lleno el objeto MainChain con las salidas de MadGraph-Pythia_Delphes\n",
    "    for run in range(len(Runs)):\n",
    "        imput = Path1 + Folder + Path2 + \"/\" + Runs[run] + \"/tag_1_delphes_events.root\"\n",
    "        MainChain.Add(imput)\n",
    "        \n",
    "    #Creo el objeto ExRootTreeReader\n",
    "    treeReader = ROOT.ExRootTreeReader(MainChain)\n",
    "    numberOfEntries = treeReader.GetEntries()\n",
    "    \n",
    "    #Obtengo las ramas que voy a usar\n",
    "    branchJet = treeReader.UseBranch(\"Jet\")\n",
    "    branchMuon = treeReader.UseBranch(\"Muon\")\n",
    "    branchMissingET = treeReader.UseBranch(\"MissingET\")\n",
    "\n",
    "    # Inicializo los contadores\n",
    "    cut1=0; cut2=0; cut3=0; cut4=0; cut5=0;\n",
    "    cuts={};\n",
    "    \n",
    "    # Loop sobre los eventos\n",
    "    for entry in range(0, numberOfEntries):\n",
    "        #Se carga la entrada espesífica\n",
    "        treeReader.ReadEntry(entry)\n",
    "        \n",
    "        # Primer corte, al menos 2 jet\n",
    "        if branchJet.GetEntries() > 1:\n",
    "            cut1 = cut1 +1;\n",
    "            bcount=0;\n",
    "            for i in range(0, branchJet.GetEntries() ): #Esta parte es la que produce el error (TClass::TClass:0: RuntimeWarning: no dictionary for class CompBase is available)\n",
    "                jet = branchJet.At(i)\n",
    "                #Cuento cuantos jet hay identificados como b quarks\n",
    "                if jet.BTag :\n",
    "                    bcount = bcount + 1;\n",
    "            \n",
    "            # Segundo corte, al menos 2 jet b       \n",
    "            if bcount > 1:\n",
    "                cut2 = cut2 +1;\n",
    "            \n",
    "                # If event contains at least 2 muons\n",
    "                if branchMuon.GetEntries() > 1:\n",
    "                    cut3 = cut3 +1;\n",
    "                    # Tomo los dos muones mas energéticos y comparo sus cargas eléctricas\n",
    "                    muon1 = branchMuon.At(0)\n",
    "                    muon2 = branchMuon.At(1)\n",
    "                \n",
    "                    #Corte 4: Que los muones mas energéticos tengan cargas diferentes\n",
    "                    if muon1.Charge*muon2.Charge < 0:\n",
    "                        cut4 = cut4 +1;\n",
    "\n",
    "                    \n",
    "                        #Corte 5: muones mas energéticos tengan masa invariante diferente de la del Z\n",
    "                        MassMuon= (muon1.P4()+muon2.P4()).M();\n",
    "                        if not((MassMuon>80) and (MassMuon<100)):\n",
    "                            cut5 = cut5 +1;\n",
    "    \n",
    "\n",
    "    cuts['C0']=numberOfEntries;\n",
    "    cuts['C1'] = cut1;\n",
    "    cuts['C2'] = cut2;\n",
    "    cuts['C3'] = cut3;\n",
    "    cuts['C4'] = cut4;\n",
    "    cuts['C5'] = cut5; \n",
    "    signal[Folder]=cuts"
   ]
  },
  {
   "cell_type": "markdown",
   "metadata": {},
   "source": [
    "Donde Co,C1,C2,... Son el número de eventos, sin cortes, con el primer corte, segundo y asi susecivamente."
   ]
  },
  {
   "cell_type": "code",
   "execution_count": 8,
   "metadata": {
    "collapsed": true
   },
   "outputs": [],
   "source": [
    "EffA={};  #Eficiencia Acumulada\n",
    "for entry in signal.keys():\n",
    "    EffCut={};  \n",
    "    for i in signal[entry].keys():\n",
    "        EffCut[i] = (0.1*signal[entry][i])/(0.1*signal[entry]['C0']);\n",
    "    EffA['EffA_'+entry] = EffCut;"
   ]
  },
  {
   "cell_type": "code",
   "execution_count": 9,
   "metadata": {
    "collapsed": true
   },
   "outputs": [],
   "source": [
    "Effr={};  #Eficiencia Relativa\n",
    "a=signal[entry].keys()\n",
    "a.sort()\n",
    "for entry in signal.keys():\n",
    "    EffCut={};\n",
    "    j=0;\n",
    "    a1=a[j];\n",
    "    for i in a[1:]:\n",
    "        EffCut[i] = (0.1*signal[entry][i])/(0.1*signal[entry][a1]);\n",
    "        a1=a[j];\n",
    "        j=j+1;\n",
    "    Effr['Effr_'+entry] = EffCut;"
   ]
  },
  {
   "cell_type": "code",
   "execution_count": 10,
   "metadata": {
    "collapsed": true
   },
   "outputs": [],
   "source": [
    "Z={};  #Sensitividad\n",
    "a=signal.keys()\n",
    "a.remove('Signal_2j_mu-nu-Run0')\n",
    "a.sort()\n",
    "B=0;\n",
    "for entry in a:\n",
    "    Zi={};  \n",
    "    b=signal[entry].keys()\n",
    "    b.sort()\n",
    "    for i in signal[entry].keys():\n",
    "        Zi[i] = (0.1*signal['Signal_2j_mu-nu-Run0'][i])/(math.sqrt((0.1*signal['Signal_2j_mu-nu-Run0'][i])+(0.1*signal[entry][i])));\n",
    "        B=(0.1*signal[entry][i])+B;\n",
    "    Z[\"Sensitivity_\"+entry] = Zi;\n",
    "    ZZ = (0.1*signal['Signal_2j_mu-nu-Run0'][i])/(math.sqrt((0.1*signal['Signal_2j_mu-nu-Run0'][i])+B));"
   ]
  },
  {
   "cell_type": "code",
   "execution_count": 20,
   "metadata": {},
   "outputs": [
    {
     "data": {
      "text/html": [
       "<table>\n",
       "<thead>\n",
       "<tr><th>Cuts  </th><th style=\"text-align: right;\">  BackGround-DY_2j-Run0</th><th style=\"text-align: right;\">  BackGround-WW-Run0</th><th style=\"text-align: right;\">  BackGround-mumuW</th><th style=\"text-align: right;\">  BackGround-tW-Run0</th><th style=\"text-align: right;\">  Signal_2j_mu-nu-Run0</th></tr>\n",
       "</thead>\n",
       "<tbody>\n",
       "<tr><td>C0    </td><td style=\"text-align: right;\">                 160448</td><td style=\"text-align: right;\">               85553</td><td style=\"text-align: right;\">            325964</td><td style=\"text-align: right;\">               80417</td><td style=\"text-align: right;\">                355148</td></tr>\n",
       "<tr><td>C1    </td><td style=\"text-align: right;\">                  28247</td><td style=\"text-align: right;\">               74134</td><td style=\"text-align: right;\">            238907</td><td style=\"text-align: right;\">               76727</td><td style=\"text-align: right;\">                341827</td></tr>\n",
       "<tr><td>C2    </td><td style=\"text-align: right;\">                    317</td><td style=\"text-align: right;\">               25633</td><td style=\"text-align: right;\">               511</td><td style=\"text-align: right;\">               27754</td><td style=\"text-align: right;\">                126190</td></tr>\n",
       "<tr><td>C3    </td><td style=\"text-align: right;\">                    137</td><td style=\"text-align: right;\">               11387</td><td style=\"text-align: right;\">               196</td><td style=\"text-align: right;\">               12751</td><td style=\"text-align: right;\">                 55688</td></tr>\n",
       "<tr><td>C4    </td><td style=\"text-align: right;\">                    137</td><td style=\"text-align: right;\">               11387</td><td style=\"text-align: right;\">               196</td><td style=\"text-align: right;\">               12750</td><td style=\"text-align: right;\">                 55687</td></tr>\n",
       "<tr><td>C5    </td><td style=\"text-align: right;\">                     14</td><td style=\"text-align: right;\">                9838</td><td style=\"text-align: right;\">                10</td><td style=\"text-align: right;\">               10985</td><td style=\"text-align: right;\">                 48077</td></tr>\n",
       "</tbody>\n",
       "</table>"
      ],
      "text/plain": [
       "<IPython.core.display.HTML object>"
      ]
     },
     "execution_count": 20,
     "metadata": {},
     "output_type": "execute_result"
    }
   ],
   "source": [
    "TABLA(signal)"
   ]
  },
  {
   "cell_type": "code",
   "execution_count": 26,
   "metadata": {},
   "outputs": [
    {
     "data": {
      "text/html": [
       "<table>\n",
       "<thead>\n",
       "<tr><th>Cuts  </th><th style=\"text-align: right;\">  Effr_BackGround-DY_2j-Run0</th><th style=\"text-align: right;\">  Effr_BackGround-WW-Run0</th><th style=\"text-align: right;\">  Effr_BackGround-mumuW</th><th style=\"text-align: right;\">  Effr_BackGround-tW-Run0</th><th style=\"text-align: right;\">  Effr_Signal_2j_mu-nu-Run0</th></tr>\n",
       "</thead>\n",
       "<tbody>\n",
       "<tr><td>C1    </td><td style=\"text-align: right;\">                       0.176</td><td style=\"text-align: right;\">                    0.867</td><td style=\"text-align: right;\">                  0.733</td><td style=\"text-align: right;\">                    0.954</td><td style=\"text-align: right;\">                      0.962</td></tr>\n",
       "<tr><td>C2    </td><td style=\"text-align: right;\">                       0.002</td><td style=\"text-align: right;\">                    0.300</td><td style=\"text-align: right;\">                  0.002</td><td style=\"text-align: right;\">                    0.345</td><td style=\"text-align: right;\">                      0.355</td></tr>\n",
       "<tr><td>C3    </td><td style=\"text-align: right;\">                       0.005</td><td style=\"text-align: right;\">                    0.154</td><td style=\"text-align: right;\">                  0.001</td><td style=\"text-align: right;\">                    0.166</td><td style=\"text-align: right;\">                      0.163</td></tr>\n",
       "<tr><td>C4    </td><td style=\"text-align: right;\">                       0.432</td><td style=\"text-align: right;\">                    0.444</td><td style=\"text-align: right;\">                  0.384</td><td style=\"text-align: right;\">                    0.459</td><td style=\"text-align: right;\">                      0.441</td></tr>\n",
       "<tr><td>C5    </td><td style=\"text-align: right;\">                       0.102</td><td style=\"text-align: right;\">                    0.864</td><td style=\"text-align: right;\">                  0.051</td><td style=\"text-align: right;\">                    0.862</td><td style=\"text-align: right;\">                      0.863</td></tr>\n",
       "</tbody>\n",
       "</table>"
      ],
      "text/plain": [
       "<IPython.core.display.HTML object>"
      ]
     },
     "execution_count": 26,
     "metadata": {},
     "output_type": "execute_result"
    }
   ],
   "source": [
    "TABLA(Effr, '.3f')"
   ]
  },
  {
   "cell_type": "code",
   "execution_count": 28,
   "metadata": {},
   "outputs": [
    {
     "data": {
      "text/html": [
       "<table>\n",
       "<thead>\n",
       "<tr><th>Cuts  </th><th style=\"text-align: right;\">  Effr_BackGround-DY_2j-Run0</th><th style=\"text-align: right;\">  Effr_BackGround-WW-Run0</th><th style=\"text-align: right;\">  Effr_BackGround-mumuW</th><th style=\"text-align: right;\">  Effr_BackGround-tW-Run0</th><th style=\"text-align: right;\">  Effr_Signal_2j_mu-nu-Run0</th></tr>\n",
       "</thead>\n",
       "<tbody>\n",
       "<tr><td>C1    </td><td style=\"text-align: right;\">                       0.176</td><td style=\"text-align: right;\">                    0.867</td><td style=\"text-align: right;\">                  0.733</td><td style=\"text-align: right;\">                    0.954</td><td style=\"text-align: right;\">                      0.962</td></tr>\n",
       "<tr><td>C2    </td><td style=\"text-align: right;\">                       0.002</td><td style=\"text-align: right;\">                    0.300</td><td style=\"text-align: right;\">                  0.002</td><td style=\"text-align: right;\">                    0.345</td><td style=\"text-align: right;\">                      0.355</td></tr>\n",
       "<tr><td>C3    </td><td style=\"text-align: right;\">                       0.005</td><td style=\"text-align: right;\">                    0.154</td><td style=\"text-align: right;\">                  0.001</td><td style=\"text-align: right;\">                    0.166</td><td style=\"text-align: right;\">                      0.163</td></tr>\n",
       "<tr><td>C4    </td><td style=\"text-align: right;\">                       0.432</td><td style=\"text-align: right;\">                    0.444</td><td style=\"text-align: right;\">                  0.384</td><td style=\"text-align: right;\">                    0.459</td><td style=\"text-align: right;\">                      0.441</td></tr>\n",
       "<tr><td>C5    </td><td style=\"text-align: right;\">                       0.102</td><td style=\"text-align: right;\">                    0.864</td><td style=\"text-align: right;\">                  0.051</td><td style=\"text-align: right;\">                    0.862</td><td style=\"text-align: right;\">                      0.863</td></tr>\n",
       "</tbody>\n",
       "</table>"
      ],
      "text/plain": [
       "<IPython.core.display.HTML object>"
      ]
     },
     "execution_count": 28,
     "metadata": {},
     "output_type": "execute_result"
    }
   ],
   "source": [
    "TABLA(Effr, '.3f')"
   ]
  },
  {
   "cell_type": "code",
   "execution_count": 29,
   "metadata": {},
   "outputs": [
    {
     "data": {
      "text/html": [
       "<table>\n",
       "<thead>\n",
       "<tr><th>Cuts  </th><th style=\"text-align: right;\">  Sensitivity_BackGround-DY_2j-Run0</th><th style=\"text-align: right;\">  Sensitivity_BackGround-WW-Run0</th><th style=\"text-align: right;\">  Sensitivity_BackGround-mumuW</th><th style=\"text-align: right;\">  Sensitivity_BackGround-tW-Run0</th></tr>\n",
       "</thead>\n",
       "<tbody>\n",
       "<tr><td>C0    </td><td style=\"text-align: right;\">                            156.406</td><td style=\"text-align: right;\">                         169.175</td><td style=\"text-align: right;\">                       136.082</td><td style=\"text-align: right;\">                         170.170</td></tr>\n",
       "<tr><td>C1    </td><td style=\"text-align: right;\">                            177.690</td><td style=\"text-align: right;\">                         167.602</td><td style=\"text-align: right;\">                       141.846</td><td style=\"text-align: right;\">                         167.082</td></tr>\n",
       "<tr><td>C2    </td><td style=\"text-align: right;\">                            112.193</td><td style=\"text-align: right;\">                         102.413</td><td style=\"text-align: right;\">                       112.108</td><td style=\"text-align: right;\">                         101.705</td></tr>\n",
       "<tr><td>C3    </td><td style=\"text-align: right;\">                             74.533</td><td style=\"text-align: right;\">                          67.996</td><td style=\"text-align: right;\">                        74.493</td><td style=\"text-align: right;\">                          67.315</td></tr>\n",
       "<tr><td>C4    </td><td style=\"text-align: right;\">                             74.532</td><td style=\"text-align: right;\">                          67.995</td><td style=\"text-align: right;\">                        74.493</td><td style=\"text-align: right;\">                          67.314</td></tr>\n",
       "<tr><td>C5    </td><td style=\"text-align: right;\">                             69.327</td><td style=\"text-align: right;\">                          63.175</td><td style=\"text-align: right;\">                        69.330</td><td style=\"text-align: right;\">                          62.558</td></tr>\n",
       "</tbody>\n",
       "</table>"
      ],
      "text/plain": [
       "<IPython.core.display.HTML object>"
      ]
     },
     "execution_count": 29,
     "metadata": {},
     "output_type": "execute_result"
    }
   ],
   "source": [
    "TABLA(Z, '.3f')"
   ]
  },
  {
   "cell_type": "code",
   "execution_count": 175,
   "metadata": {},
   "outputs": [],
   "source": []
  },
  {
   "cell_type": "code",
   "execution_count": 211,
   "metadata": {},
   "outputs": [],
   "source": []
  },
  {
   "cell_type": "code",
   "execution_count": null,
   "metadata": {},
   "outputs": [],
   "source": []
  },
  {
   "cell_type": "code",
   "execution_count": null,
   "metadata": {},
   "outputs": [],
   "source": []
  },
  {
   "cell_type": "code",
   "execution_count": null,
   "metadata": {
    "collapsed": true
   },
   "outputs": [],
   "source": []
  }
 ],
 "metadata": {
  "kernelspec": {
   "display_name": "Python 2",
   "language": "python",
   "name": "python2"
  },
  "language_info": {
   "codemirror_mode": {
    "name": "ipython",
    "version": 2
   },
   "file_extension": ".py",
   "mimetype": "text/x-python",
   "name": "python",
   "nbconvert_exporter": "python",
   "pygments_lexer": "ipython2",
   "version": "2.7.9"
  }
 },
 "nbformat": 4,
 "nbformat_minor": 2
}
